{
 "cells": [
  {
   "cell_type": "markdown",
   "metadata": {},
   "source": [
    "# Mengen"
   ]
  },
  {
   "cell_type": "markdown",
   "metadata": {},
   "source": [
    "Es gibt in Python standardmäßig einen eigenen Variablentyp für mathematische Mengen. Mengen können über zwei Arten definiert werden."
   ]
  },
  {
   "cell_type": "code",
   "execution_count": 103,
   "metadata": {},
   "outputs": [
    {
     "name": "stdout",
     "output_type": "stream",
     "text": [
      "{1, 2}\n",
      "<class 'set'>\n",
      "{'B', 1, 'A'}\n",
      "<class 'set'>\n"
     ]
    }
   ],
   "source": [
    "# Definition einer Menge über geschwungene Klammern\n",
    "A = {1,2,1,2}\n",
    "print(A)\n",
    "print(type(A))\n",
    "# Definition einer Menge über die eingebaute set Funktion\n",
    "B = set([1,'A','B','A'])\n",
    "print(B)\n",
    "print(type(B))"
   ]
  },
  {
   "cell_type": "markdown",
   "metadata": {},
   "source": [
    "Die grundlegende Aussage $a \\in A $ kann in Python fast einszueins umgesetzt werden. Auch die leere Menge kann definiert werden"
   ]
  },
  {
   "cell_type": "code",
   "execution_count": 104,
   "metadata": {},
   "outputs": [
    {
     "name": "stdout",
     "output_type": "stream",
     "text": [
      "Ist a = 1 in der Menge A enthalten?  True\n",
      "Die leere Menge:  set()\n"
     ]
    }
   ],
   "source": [
    "# Ist a in A?\n",
    "a =1 \n",
    "print(\"Ist a = 1 in der Menge A enthalten? \",a in A)\n",
    "\n",
    "#Die leere Menge\n",
    "print(\"Die leere Menge: \",set())"
   ]
  },
  {
   "cell_type": "markdown",
   "metadata": {},
   "source": [
    "Eine Menge von Operationen für Sets sind in Python umgesetzt.\n",
    "1. $A \\cup B$ - Die Vereininungsmenge\n",
    "2. $A \\cap B$ - Die Schnittmenge\n",
    "3. $A \\setminus B$  - Die Differenz\n",
    "4. $A \\triangle B$ - Die symmetrische Differenz\n",
    "5. $A = A\\cup B$ - Vereiningung von A mit B und neudefinition von A"
   ]
  },
  {
   "cell_type": "code",
   "execution_count": 111,
   "metadata": {},
   "outputs": [
    {
     "name": "stdout",
     "output_type": "stream",
     "text": [
      "A = {1, 2, 4}\n",
      "B = {'B', 1, 'A'}\n",
      "Die Vereininungsmenge:  {1, 2, 4} {'B', 1, 2, 4, 'A'}\n",
      "Die Schnittmenge:  {'B', 1, 'A'} {1}\n",
      "A ohne Elemente aus B:  {2, 4}\n",
      "Die symmetrische Differenz:  {'B', 2, 4, 'A'}\n",
      "Vereiningung von A mit {2,4} und neudefinition von A: {1, 2, 4}\n"
     ]
    }
   ],
   "source": [
    "print(\"A =\", A)\n",
    "print(\"B =\", B)\n",
    "\n",
    "#1. $A \\cup B$ - Die Vereininungsmenge\n",
    "print(\"Die Vereininungsmenge: \", A or B, A | B)\n",
    "#2. $A \\cap B$ - Die Schnittmenge\n",
    "print(\"Die Schnittmenge: \",A and B, A & B)\n",
    "#3. $A \\setminus B$  - Die Differenz\n",
    "print(\"A ohne Elemente aus B: \",A - B)\n",
    "#4. $A \\triangle B$ - Die symmetrische Differenz\n",
    "print(\"Die symmetrische Differenz: \",A ^ B)\n",
    "#5. Vereiningung von A mit {2,4} und neudefinition von A\n",
    "A |= {4,2} \n",
    "print(\"Vereiningung von A mit {2,4} und neudefinition von A:\", A)\n",
    "\n"
   ]
  },
  {
   "cell_type": "markdown",
   "metadata": {},
   "source": [
    "## Definition von Mengen via Set Comprehension\n",
    "\n",
    "Die Defintion von Mengen über Bedingungen wird in Python auch <a href=\"https://docs.python.org/3/tutorial/datastructures.html#sets\"> Set Comprehension </a> genannt. Dabei wird die Menge $A$ über eine Aussage mit einer oder mehreren freien Variablen definiert. Der Vollständigkeit halber sei gesagt, dass die Definition über eine Set Comprehension wiederum eng verbunden mit dem Thema der <a href=\"https://wiki.python.org/moin/Generators\">Generatoren</a> in Python um zunächst über die Elemente der Grundgesamtheit zu iterieren. \n",
    "\n",
    "Die Menge $ V = \\{v \\in \\mathbb{N} \\,|\\, 0 < v^2 < 20\\}$ kann damit wie folgt definiert werden. \n",
    "\n",
    "*(Da wir keine unendlich großen Sets wie die natürlichen Zahlen absuchen können und wollen, reicht es für dieses Set aus das Diskursuniversum auf alle natürlichen Zahlen kleiner 20 oder sogar weiter einzuschränken.)*"
   ]
  },
  {
   "cell_type": "code",
   "execution_count": 58,
   "metadata": {},
   "outputs": [
    {
     "name": "stdout",
     "output_type": "stream",
     "text": [
      "{1, 2, 3, 4, -4, -3, -2, -1}\n"
     ]
    },
    {
     "data": {
      "text/plain": [
       "[1, 2, 3, 4, -4, -3, -2, -1]"
      ]
     },
     "execution_count": 58,
     "metadata": {},
     "output_type": "execute_result"
    }
   ],
   "source": [
    "# Definition von V über Set Comprehension\n",
    "V = {v for v in range(-20,20) if (v**2 <20) and (0<v**2) }\n",
    "\n",
    "print(V)"
   ]
  },
  {
   "cell_type": "markdown",
   "metadata": {},
   "source": [
    "Um eine Familie, also eine Menge von Mengen, in Python zu erstellen ist der Variablentyp $\\texttt{set}$ nicht gedacht. Python kann nicht damit umgehen, dass die Elemente einer Menge gleichzeitig veränderlich sein müssen, aber eine Veränderung eines Elements auch Auswirkungen auf ein anderes Element haben kann.\n",
    "\n",
    "Zur Erklärung bedenken Sie folgendes Beispiel:<br>\n",
    "Angenommen Sie definieren die Familie: $\\{S_1,S_2\\}$ wobei $S_1 = \\{1,2,3\\}$  und $S_2 = \\{1,2\\}$ nun ändern Sie das erste Element der Familie $ S_1 = \\{1,2\\}$. Damit gilt $S_1 = S_2$ und damit besteht die Familie lediglich aus einem Element, der Menge $A_1$.\n",
    "\n",
    "Das macht einen weiteren Datentyp notwendig. Den Datentyp $\\texttt{frozenset}$ dieser Datentyp wird über sogenannte 'hashable objects' definiert. Das sind Objekte, die einzigartig über einen nummerischen Wert, einen Schlüssel, eindeutig identifiziert werden können. Dabei wird der Mengendefinition $\\{1,2,3\\}$ der gleiche Schlüssel zugeordnet wie der Menge $\\{2,1,3\\}$. Das liefert der Datentyp $\\texttt{frozenset}$. "
   ]
  },
  {
   "cell_type": "code",
   "execution_count": 60,
   "metadata": {},
   "outputs": [
    {
     "name": "stdout",
     "output_type": "stream",
     "text": [
      "frozenset({frozenset({1, 2}), frozenset({1, 2, 3})})\n",
      "frozenset({frozenset({1, 2, 3})})\n"
     ]
    }
   ],
   "source": [
    "# Definiere die Mengen A_1 und A_2\n",
    "A1 = frozenset([1,2,3])\n",
    "A2 = frozenset([1,2])\n",
    "\n",
    "# Kreeiere eine Mengenfamilie aus A_1 und A_2\n",
    "A = frozenset([A1,A2])\n",
    "print(A)\n",
    "\n",
    "# Definiere die Mengen B_1 und B_2 (es handelt sich um die gleichen Mengen)\n",
    "B1 = frozenset([1,2,3])\n",
    "B2 = frozenset([2,3,1])\n",
    "# Kreeiere eine Mengenfamilie aus B_1 und B_2, mit nur einem Element da B_1 = B_2\n",
    "B = frozenset([B1,B2])\n",
    "print(B)"
   ]
  },
  {
   "cell_type": "markdown",
   "metadata": {},
   "source": [
    "## Task 1:\n",
    "\n",
    "Schreiben Sie eine Funktion, welche die Potenzmenge einer gegeben Menge zurückgibt.\n",
    "\n",
    "1. Initialisieren Sie zunächst die Potenzmenge mit einem set welches ein leeres frozenset enthält.\n",
    "2. Verwenden Sie eine For-loop um über die einzelnen Elemente in $S$ zu iterieren\n",
    "3. Kreieren Sie in dieser Loop für jedes der Element ein frozenset mit einem Element\n",
    "4. Verwenden Sie eine weitere Schleife oder eine Set Comprehension um über die biserigen Elemente der Potenzmenge zu iterieren; bilden Sie innerhalb dieser Schleife die Vereinigungsmenge jedes Einzelelements in $S$ mit jedem dieser bisherigen Element in der Potenzmenge und fügen Sie  diese Vereinigungsmenge der Potenzmenge hinzu ( |= Operator)"
   ]
  },
  {
   "cell_type": "code",
   "execution_count": 113,
   "metadata": {},
   "outputs": [
    {
     "data": {
      "text/plain": [
       "{frozenset(),\n",
       " frozenset({3}),\n",
       " frozenset({1}),\n",
       " frozenset({2}),\n",
       " frozenset({1, 2}),\n",
       " frozenset({2, 3}),\n",
       " frozenset({1, 3}),\n",
       " frozenset({1, 2, 3})}"
      ]
     },
     "execution_count": 113,
     "metadata": {},
     "output_type": "execute_result"
    }
   ],
   "source": [
    "S = {1,2,3}\n",
    "\n",
    "# todo\n",
    "\n",
    "def powerset(S):\n",
    "    # Initialisierung der Potenzmenge\n",
    "    P = {frozenset()}\n",
    "    for element in S:\n",
    "        eachel = frozenset([element])\n",
    "        P |= {subset | eachel for subset in P}\n",
    "    return(P)\n",
    "        \n",
    "        \n",
    "# calculate the powerset of a given set:\n",
    "powerset(S)"
   ]
  },
  {
   "cell_type": "markdown",
   "metadata": {},
   "source": [
    "## Task 2:\n",
    "Unser Diskursuniversum $\\Omega$ sei der Zahlenraum aller natürlichen Zahlen bis 100. \n",
    "1. Bilden Sie die Menge aller geraden Zahlen im Diskursuniversum $\\Omega$.\n",
    "2. Bilden Sie die Menge aller ungeraden Zahlen im Diskursuniversum $\\Omega$.\n",
    "\n",
    "*Hinweis: verwenden Sie den Modulo Operator.*"
   ]
  },
  {
   "cell_type": "code",
   "execution_count": 130,
   "metadata": {},
   "outputs": [
    {
     "name": "stdout",
     "output_type": "stream",
     "text": [
      "{2, 4, 6, 8, 10, 12, 14, 16, 18, 20, 22, 24, 26, 28, 30, 32, 34, 36, 38, 40, 42, 44, 46, 48, 50, 52, 54, 56, 58, 60, 62, 64, 66, 68, 70, 72, 74, 76, 78, 80, 82, 84, 86, 88, 90, 92, 94, 96, 98, 100}\n",
      "{1, 3, 5, 7, 9, 11, 13, 15, 17, 19, 21, 23, 25, 27, 29, 31, 33, 35, 37, 39, 41, 43, 45, 47, 49, 51, 53, 55, 57, 59, 61, 63, 65, 67, 69, 71, 73, 75, 77, 79, 81, 83, 85, 87, 89, 91, 93, 95, 97, 99}\n"
     ]
    }
   ],
   "source": [
    "Omega = {x for x in range(1,101)}\n",
    "\n",
    "# todo \n",
    "even = {x for x in Omega if x%2==0}\n",
    "print(even)\n",
    "\n",
    "uneven = {x for x in Omega if x%2 != 0}\n",
    "print(uneven)"
   ]
  },
  {
   "cell_type": "markdown",
   "metadata": {},
   "source": [
    "## Task 3\n",
    "\n",
    "Schreiben Sie eine Funktion, die überprüft, ob eine natürliche Zahl $x$ ein Primzahl ist. Also durch einen beliebigen Ihrer natürlichen Vorgänger ausgenommen der 1 teilbar ist. Konstruieren Sie mit dieser Funktion die Menge aller Primzahlen im Zahlenraum bis 200.\n"
   ]
  },
  {
   "cell_type": "code",
   "execution_count": 137,
   "metadata": {},
   "outputs": [
    {
     "name": "stdout",
     "output_type": "stream",
     "text": [
      "[1, 2, 3, 5, 7, 11, 13, 17, 19, 23, 29, 31, 37, 41, 43, 47, 53, 59, 61, 67, 71, 73, 79, 83, 89, 97, 101, 103, 107, 109, 113, 127, 131, 137, 139, 149, 151, 157, 163, 167, 173, 179, 181, 191, 193, 197, 199]\n"
     ]
    }
   ],
   "source": [
    "def isPrime(x):\n",
    "    return(sum([x%y==0 for y in range(2,x)])==0)\n",
    "\n",
    "primes = [x for x in range(1,200) if isPrime(x)]\n",
    "print(primes)"
   ]
  },
  {
   "cell_type": "markdown",
   "metadata": {},
   "source": [
    "## Task 4\n",
    "\n",
    "In den Folien zum Thema Mengen, wird folgende Menge wird die Menge $S$ wie folgt definiert. \n",
    "\n",
    "\\begin{align}\n",
    " S = \\{ w \\;|\\; 6 \\notin \\{ x \\;|\\; x \\text{ ist teilbar durch } w \\} \\}\n",
    "\\end{align}\n",
    "\n",
    "Erstellen Sie die Menge $S$. Nehmen Sie als Diskursuniversum die ganzen Zahlen im Bereich von -100 bis 100 ohne die Null an.\n",
    "\n",
    "Überprüfen Sie die Aussage $2 \\in S$."
   ]
  },
  {
   "cell_type": "code",
   "execution_count": 149,
   "metadata": {},
   "outputs": [
    {
     "data": {
      "text/plain": [
       "False"
      ]
     },
     "execution_count": 149,
     "metadata": {},
     "output_type": "execute_result"
    }
   ],
   "source": [
    "# todo\n",
    "\n",
    "# Erstellen des Diskursuniversums\n",
    "Omega = {x for x in range(-100,101)} -{0}\n",
    "\n",
    "# Erstellen der Funktion mit Lambda Calculus\n",
    "f = lambda x,w: x%w==0\n",
    "\n",
    "# Erstellen der Menge S\n",
    "S = {w for w in Omega if (6 not in {x for x in Omega if f(x,w)})}\n",
    "\n",
    "# Test ob Aussage 2 in S wahr ist.\n",
    "2 in S"
   ]
  }
 ],
 "metadata": {
  "kernelspec": {
   "display_name": "Python 3",
   "language": "python",
   "name": "python3"
  },
  "language_info": {
   "codemirror_mode": {
    "name": "ipython",
    "version": 3
   },
   "file_extension": ".py",
   "mimetype": "text/x-python",
   "name": "python",
   "nbconvert_exporter": "python",
   "pygments_lexer": "ipython3",
   "version": "3.4.6"
  }
 },
 "nbformat": 4,
 "nbformat_minor": 2
}
