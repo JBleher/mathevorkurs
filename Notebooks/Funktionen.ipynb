{
 "cells": [
  {
   "cell_type": "markdown",
   "metadata": {},
   "source": [
    "# Funktionen\n"
   ]
  },
  {
   "cell_type": "markdown",
   "metadata": {},
   "source": [
    "Zunächst müssen wir die Pakete numpy,  für mathematische Operationen, und matplotlib zum Darstellen der Operationen, laden. "
   ]
  },
  {
   "cell_type": "code",
   "execution_count": 14,
   "metadata": {},
   "outputs": [],
   "source": [
    "import matplotlib.pyplot as plt\n",
    "import numpy as np"
   ]
  },
  {
   "cell_type": "markdown",
   "metadata": {},
   "source": [
    "Um die Matplotlib-Grafiken im Notebook anzuzeigen muss im Notebook die folgende Option gesetzt werden:"
   ]
  },
  {
   "cell_type": "code",
   "execution_count": 15,
   "metadata": {},
   "outputs": [],
   "source": [
    "%matplotlib inline\n",
    "\n",
    "# Wennd diese Funktion nicht gesetzt ist, kann mit plt.show() ein Graph auch explizit gezeichnet werden."
   ]
  },
  {
   "cell_type": "markdown",
   "metadata": {},
   "source": [
    "### Beispiele für mathematische Funktionen in Python:\n",
    "\n",
    "Die Funktion $f(x) = \\frac{1}{x}$ kann definiert werden durch die Funktion"
   ]
  },
  {
   "cell_type": "code",
   "execution_count": 16,
   "metadata": {},
   "outputs": [],
   "source": [
    "def f(x):\n",
    "    return 1/x"
   ]
  },
  {
   "cell_type": "markdown",
   "metadata": {},
   "source": [
    "Die Funktionswerte erhalten wir, indem Werte für $x$ eingegeben werden. Weil eine Funktion nichts anderes ist als eine Relation, bei der für jeden $x$ Wert ein $y$ generiert wird, können wir einfach eine Menge an $x$ Werten generieren für die wir die Funktion auswerten wollen."
   ]
  },
  {
   "cell_type": "code",
   "execution_count": 17,
   "metadata": {},
   "outputs": [
    {
     "name": "stdout",
     "output_type": "stream",
     "text": [
      "[5.00000000e-01 3.33333333e-01 1.00000000e+00 1.00000000e+03]\n"
     ]
    }
   ],
   "source": [
    "x = np.array([2,3,1,0.001])\n",
    "y = f(x)\n",
    "print(y)"
   ]
  },
  {
   "cell_type": "markdown",
   "metadata": {},
   "source": [
    "Weil die Funktion $f(x)$ an jeder Stelle definiert ist außer an $x=0$, können wir alle Werte $x\\in\\mathbb{R}\\setminus 0$ in die Funktion einsetzen. Wenn wir $x_0 = 0$ setzen und $f$ an der Stelle $x_0$ auswerten in Python erhalten wir eine Fehlermeldung wenn die Variable $\\texttt{x0}$ als Integer definiert ist."
   ]
  },
  {
   "cell_type": "code",
   "execution_count": 18,
   "metadata": {},
   "outputs": [
    {
     "ename": "ZeroDivisionError",
     "evalue": "division by zero",
     "output_type": "error",
     "traceback": [
      "\u001b[0;31m---------------------------------------------------------------------------\u001b[0m",
      "\u001b[0;31mZeroDivisionError\u001b[0m                         Traceback (most recent call last)",
      "\u001b[0;32m<ipython-input-18-4c5a7d23e9db>\u001b[0m in \u001b[0;36m<module>\u001b[0;34m()\u001b[0m\n\u001b[1;32m      1\u001b[0m \u001b[0mx0\u001b[0m \u001b[0;34m=\u001b[0m \u001b[0;36m0\u001b[0m\u001b[0;34m\u001b[0m\u001b[0m\n\u001b[0;32m----> 2\u001b[0;31m \u001b[0mf\u001b[0m\u001b[0;34m(\u001b[0m\u001b[0mx0\u001b[0m\u001b[0;34m)\u001b[0m\u001b[0;34m\u001b[0m\u001b[0m\n\u001b[0m",
      "\u001b[0;32m<ipython-input-16-504787a1337b>\u001b[0m in \u001b[0;36mf\u001b[0;34m(x)\u001b[0m\n\u001b[1;32m      1\u001b[0m \u001b[0;32mdef\u001b[0m \u001b[0mf\u001b[0m\u001b[0;34m(\u001b[0m\u001b[0mx\u001b[0m\u001b[0;34m)\u001b[0m\u001b[0;34m:\u001b[0m\u001b[0;34m\u001b[0m\u001b[0m\n\u001b[0;32m----> 2\u001b[0;31m     \u001b[0;32mreturn\u001b[0m \u001b[0;36m1\u001b[0m\u001b[0;34m/\u001b[0m\u001b[0mx\u001b[0m\u001b[0;34m\u001b[0m\u001b[0m\n\u001b[0m",
      "\u001b[0;31mZeroDivisionError\u001b[0m: division by zero"
     ]
    }
   ],
   "source": [
    "x0 = 0\n",
    "f(x0)"
   ]
  },
  {
   "cell_type": "markdown",
   "metadata": {},
   "source": [
    "Im Fall, dass  $\\texttt{x0}$ als numpy-Array definiert ist wird lediglich eine Warnung ausgegeben und das Resultat auf  $\\texttt{inf}$ also $\\infty$ gesetzt. Das für solche nicht-hebbaren Definitionslücken kein Fehler generiert ist für den Programmfluss und beispielsweise das Plotten einer Funktion wichtig."
   ]
  },
  {
   "cell_type": "code",
   "execution_count": 19,
   "metadata": {},
   "outputs": [
    {
     "name": "stderr",
     "output_type": "stream",
     "text": [
      "/usr/lib/python3.4/site-packages/ipykernel_launcher.py:2: RuntimeWarning: divide by zero encountered in true_divide\n",
      "  \n"
     ]
    },
    {
     "data": {
      "text/plain": [
       "array([inf])"
      ]
     },
     "execution_count": 19,
     "metadata": {},
     "output_type": "execute_result"
    }
   ],
   "source": [
    "x0 = np.array([0])\n",
    "f(x0)"
   ]
  },
  {
   "cell_type": "markdown",
   "metadata": {},
   "source": [
    "Um die Funktion als Graph darzustellen, können wir den Eindruck einer kontinuierlichen gezeichneten Funktion dann erwecken, wenn wir die Auswertungspunkte und die von der Funktion generierten Werte so eng wie möglich aneinander legen. Mit der Funktion $\\texttt{linespace()}$ können wir eine Folge von equidistanten Punkten innerhalb eines Numpy-Arrays generieren."
   ]
  },
  {
   "cell_type": "code",
   "execution_count": 20,
   "metadata": {},
   "outputs": [],
   "source": [
    "x = np.linspace(-10,10,1000)\n",
    "y = f(x)"
   ]
  },
  {
   "cell_type": "markdown",
   "metadata": {},
   "source": [
    "Um die Sache interessanter zu machen, können wir uns noch eine weitere Funktion $g(x) = \\sqrt(x)$ generieren."
   ]
  },
  {
   "cell_type": "code",
   "execution_count": 21,
   "metadata": {},
   "outputs": [
    {
     "name": "stderr",
     "output_type": "stream",
     "text": [
      "/usr/lib/python3.4/site-packages/ipykernel_launcher.py:2: RuntimeWarning: invalid value encountered in sqrt\n",
      "  \n"
     ]
    }
   ],
   "source": [
    "def g(x):\n",
    "    return np.sqrt(x)\n",
    "\n",
    "z = g(x)"
   ]
  },
  {
   "cell_type": "markdown",
   "metadata": {},
   "source": [
    "Beide Funktionen wollen wir nun plotten."
   ]
  },
  {
   "cell_type": "code",
   "execution_count": 22,
   "metadata": {},
   "outputs": [
    {
     "data": {
      "text/plain": [
       "<matplotlib.legend.Legend at 0x7fb0e25fbcf8>"
      ]
     },
     "execution_count": 22,
     "metadata": {},
     "output_type": "execute_result"
    },
    {
     "data": {
      "image/png": "[encoded data removed]",
      "text/plain": [
       "<matplotlib.figure.Figure at 0x7fb0e263ef60>"
      ]
     },
     "metadata": {},
     "output_type": "display_data"
    }
   ],
   "source": [
    "# Generiere zwei Label für die beiden Funktionen f und g\n",
    "label_f = r'$f(x)=\\frac{1}{x}$'\n",
    "label_g = r'$g(x) = \\sqrt{x}$'\n",
    "\n",
    "# Setze die x-Achsen Begrenzung\n",
    "plt.xlim([-5,7])\n",
    "# Setze die y-Achsen Begrenzung\n",
    "plt.ylim([-5,7])\n",
    "\n",
    "# Zeichne die Funktion f\n",
    "plt.plot(x,y,label=label_f)\n",
    "# Zeichne die Funktion g\n",
    "plt.plot(x,z,label=label_g)\n",
    "# Platziere die Legende\n",
    "plt.legend(loc='upper left')"
   ]
  },
  {
   "cell_type": "markdown",
   "metadata": {},
   "source": [
    "### Task 1\n",
    "\n",
    "Plotten Sie die folgende Funktion $f(x) = x^3 - 3x^2+3x$."
   ]
  },
  {
   "cell_type": "code",
   "execution_count": 12,
   "metadata": {},
   "outputs": [
    {
     "data": {
      "text/plain": [
       "[<matplotlib.lines.Line2D at 0x7fb0e26bb2e8>]"
      ]
     },
     "execution_count": 12,
     "metadata": {},
     "output_type": "execute_result"
    },
    {
     "data": {
      "image/png": "[encoded data removed]",
      "text/plain": [
       "<matplotlib.figure.Figure at 0x7fb0e46de7b8>"
      ]
     },
     "metadata": {},
     "output_type": "display_data"
    }
   ],
   "source": [
    "# todo\n",
    "\n",
    "def f(x):\n",
    "    return x**3-3*x**2+3*x\n",
    "    \n",
    "x = np.linspace(-10,10,1000)\n",
    "y = f(x)\n",
    "\n",
    "\n",
    "plt.plot(x,y)\n",
    "    \n",
    "\n"
   ]
  },
  {
   "cell_type": "markdown",
   "metadata": {},
   "source": [
    "### Task 2:\n",
    "Plotten Sie die Funktion\n",
    "\n",
    "\\begin{equation*}\n",
    "f(x)=\n",
    "\\begin{cases}\n",
    "    x^{2} + 4 & \\text{for } x \\geq 1 \\\\\n",
    "    5x - 2 & \\text{for } x \\lt 1\n",
    "\\end{cases}\n",
    "\\end{equation*}\n",
    "\n",
    "\n",
    "Ist diese Funktion stetig? Falls nicht, machen Sie mit einem ausgefüllten und einem nicht-ausgefüllten Punkt deutlich  wo die Funktion definiert ist und wo nicht. Darüber hinaus vermeiden Sie das Zeichnen einer Linie an den Sprungstellen der Funktion."
   ]
  },
  {
   "cell_type": "code",
   "execution_count": null,
   "metadata": {
    "collapsed": true
   },
   "outputs": [],
   "source": [
    "# todo\n",
    "\n",
    "\n",
    "\n",
    "\n",
    "\n",
    "\n"
   ]
  },
  {
   "cell_type": "markdown",
   "metadata": {},
   "source": [
    "### Task 3\n",
    "Zeichnen Sie eine ganzrationale Funktion mit $n<m$ und eine ganzration Function mit $n > m$. Zeichnen Sie auch die Asymptoten der jerweiligen Funktionen ein."
   ]
  },
  {
   "cell_type": "code",
   "execution_count": 29,
   "metadata": {
    "collapsed": true
   },
   "outputs": [],
   "source": [
    "# todo\n",
    "\n",
    "\n",
    "\n",
    "\n",
    "\n"
   ]
  },
  {
   "cell_type": "markdown",
   "metadata": {},
   "source": [
    "### Task 4\n",
    "Plot an unreal rational function with n > m where the asymptote has the shape of a parable. Also plot a line at the asymptote."
   ]
  },
  {
   "cell_type": "code",
   "execution_count": null,
   "metadata": {
    "collapsed": true
   },
   "outputs": [],
   "source": [
    "# todo\n",
    "\n",
    "\n",
    "\n"
   ]
  },
  {
   "cell_type": "markdown",
   "metadata": {},
   "source": [
    "### Task 5\n",
    "Write a python function that gets two functions as input and returns the composite function"
   ]
  },
  {
   "cell_type": "code",
   "execution_count": null,
   "metadata": {
    "collapsed": true
   },
   "outputs": [],
   "source": [
    "# todo\n",
    "\n",
    "\n",
    "\n",
    "\n"
   ]
  },
  {
   "cell_type": "markdown",
   "metadata": {},
   "source": [
    "### Task 6\n",
    "Plot the two functions $f(x) = x^{2} - 1$,  $g(x) = 2x - 1$.\n",
    "Then plot the composite function f(g(x))."
   ]
  },
  {
   "cell_type": "code",
   "execution_count": 79,
   "metadata": {
    "collapsed": true
   },
   "outputs": [],
   "source": [
    "# todo\n",
    "\n",
    "\n",
    "\n",
    "\n",
    "\n"
   ]
  }
 ],
 "metadata": {
  "kernelspec": {
   "display_name": "Python 3",
   "language": "python",
   "name": "python3"
  },
  "language_info": {
   "codemirror_mode": {
    "name": "ipython",
    "version": 3
   },
   "file_extension": ".py",
   "mimetype": "text/x-python",
   "name": "python",
   "nbconvert_exporter": "python",
   "pygments_lexer": "ipython3",
   "version": "3.4.6"
  }
 },
 "nbformat": 4,
 "nbformat_minor": 2
}
