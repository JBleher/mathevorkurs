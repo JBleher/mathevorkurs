{
 "cells": [
  {
   "cell_type": "markdown",
   "metadata": {},
   "source": [
    "# Folgen"
   ]
  },
  {
   "cell_type": "markdown",
   "metadata": {},
   "source": [
    "## Task 1\n",
    "Schreiben Sie eine Funktion für die Folgen\n",
    "\\begin{align*}\n",
    "A_{n} &= \\dfrac{(-1)^{n} *4 n}{n^{2} + 2} \\\\[12pt]\n",
    "B_{n} &= \\dfrac{(-1)^{n} *4 n}{n + 2}\n",
    "\\end{align*}\n"
   ]
  },
  {
   "cell_type": "code",
   "execution_count": 1,
   "metadata": {},
   "outputs": [],
   "source": [
    "#todo"
   ]
  },
  {
   "cell_type": "markdown",
   "metadata": {},
   "source": [
    "## Task 2\n",
    "\n",
    "Erstellen Sie eine Liste aller Folgenwerte $A_n$ und $B_n$ für $n \\in [1,100]$ wobei $n \\in \\mathbb{N}$."
   ]
  },
  {
   "cell_type": "code",
   "execution_count": 2,
   "metadata": {},
   "outputs": [],
   "source": [
    "#todo"
   ]
  },
  {
   "cell_type": "markdown",
   "metadata": {},
   "source": [
    "## Task 3\n",
    "\n",
    "Schreiben Sie eine Funktion, die eine Folgen generierende Funktion (hier A oder B) entgegennimmt sowie einen Toleranzwert $\\varepsilon$.  Die Funktion soll dann ermitteln, ob die Folge gegen einen Grenzwert konvergiert. \n",
    "\n",
    "\n",
    "\n",
    "Für diese Funktion und in Anlehnung an das Cauchy-Kriterium definieren wir dazu, dass eine Folge konvergiert, wenn die folgenden Kriterien erfüllt sind:\n",
    "- der Absolutwert der Differenz der direkten Nachfolger innerhalb der Folge kleiner als der Toleranzwert ist, d.h. $|a_{n+1} - a_{n}|<\\varepsilon$.\n",
    "- der Absolutwert der Differenz des 100. Folgewerts innerhalb der Folge kleiner als der Toleranzwert ist, d.h.\n",
    "$|a_{n+100} - a_{n}|<\\varepsilon$.\n",
    "\n",
    "Die Stelle in der Folge, an der diese beiden Kriterien erfüllt sind, soll $n_{\\varepsilon}$ genannt werden.\n",
    "\n",
    "Darüberhinaus legen wir für unsere Funktion fest, dass eine Folge als divergent eingestuft wird, wenn nach $10^6$ Iterationen die obigen Kriterien nicht erfüllt sind. \n",
    "\n",
    "Um den Grenzwert zu ermitteln, werten Sie die Folge $10^4$ Schritte nach $n_{\\varepsilon}$ aus.\n",
    "\n",
    "Im Fall einer konvergenten Folge soll Ihre Funktion eine Liste mit dem Grenzwert sowie der Stelle $n_{\\varepsilon}$ zurückgeben."
   ]
  },
  {
   "cell_type": "code",
   "execution_count": 3,
   "metadata": {},
   "outputs": [
    {
     "data": {
      "text/html": [
       "<dl>\n",
       "\t<dt>$Grenzwert</dt>\n",
       "\t\t<dd>0.000399201588854196</dd>\n",
       "\t<dt>$n</dt>\n",
       "\t\t<dd>20</dd>\n",
       "</dl>\n"
      ],
      "text/latex": [
       "\\begin{description}\n",
       "\\item[\\$Grenzwert] 0.000399201588854196\n",
       "\\item[\\$n] 20\n",
       "\\end{description}\n"
      ],
      "text/markdown": [
       "$Grenzwert\n",
       ":   0.000399201588854196\n",
       "$n\n",
       ":   20\n",
       "\n",
       "\n"
      ],
      "text/plain": [
       "$Grenzwert\n",
       "[1] 0.0003992016\n",
       "\n",
       "$n\n",
       "[1] 20\n"
      ]
     },
     "metadata": {},
     "output_type": "display_data"
    },
    {
     "name": "stdout",
     "output_type": "stream",
     "text": [
      "[1] \"Sequence did not converge!\"\n"
     ]
    },
    {
     "data": {
      "text/html": [
       "<dl>\n",
       "\t<dt>$Grenzwert</dt>\n",
       "\t\t<dd>'Error'</dd>\n",
       "\t<dt>$n</dt>\n",
       "\t\t<dd>-1</dd>\n",
       "</dl>\n"
      ],
      "text/latex": [
       "\\begin{description}\n",
       "\\item[\\$Grenzwert] 'Error'\n",
       "\\item[\\$n] -1\n",
       "\\end{description}\n"
      ],
      "text/markdown": [
       "$Grenzwert\n",
       ":   'Error'\n",
       "$n\n",
       ":   -1\n",
       "\n",
       "\n"
      ],
      "text/plain": [
       "$Grenzwert\n",
       "[1] \"Error\"\n",
       "\n",
       "$n\n",
       "[1] -1\n"
      ]
     },
     "metadata": {},
     "output_type": "display_data"
    }
   ],
   "source": [
    "#todo"
   ]
  },
  {
   "cell_type": "markdown",
   "metadata": {},
   "source": [
    "## Task 4\n",
    "Erstellen Sie ein Graphik für $A_n$. Zeichnen Sie den Grenzwert $\\lim_{n \\to \\infty} a_n = a$, den Ihre Funktion ermittelt, ein. Verwenden Sie einen Toleranzwert von 0.4. Hebn Sie den Bereich $[a-\\varepsilon,a+\\varepsilon]$ in Ihrer Graphik hervor. Machen Sie außerdem den Wert deutlich, ab dem die Konvergenzkriterien Ihrer Funktion erfüllt sind, d.h. $n_\\varepsilon$."
   ]
  },
  {
   "cell_type": "code",
   "execution_count": 1,
   "metadata": {},
   "outputs": [],
   "source": [
    "#todo\n"
   ]
  },
  {
   "cell_type": "markdown",
   "metadata": {},
   "source": [
    "## Task 5\n",
    "\n",
    "Schreiben Sie eine Funktion, die lediglich eine Funktion für eine Folge entgegennimmt, einen Toleranzwert $\\varepsilon$ die obere Grenze für $n$ bis zu welcher die Folge abgetragen werden soll. Die Funktion soll, keinen Ausgabewert haben, jedoch einen Graphen wie in Task 4 erstellt.\n",
    "\n",
    "Testen Sie die Funktion mit der Folge:\n",
    "\n",
    "\\begin{align*}\n",
    "C_n = 1+\\frac{1}{n}\n",
    "\\end{align*}\n"
   ]
  },
  {
   "cell_type": "code",
   "execution_count": 2,
   "metadata": {},
   "outputs": [],
   "source": [
    "#todo\n"
   ]
  },
  {
   "cell_type": "markdown",
   "metadata": {},
   "source": [
    "## Task 6\n",
    "Nuzten Sie die in Task 4 erstellte Funktion um die geometrische Reihe $q = \\frac{1}{1.02}$ für die partiellen Summen bis $ n = 1000$ zu zeichnen. <br>\n",
    "\n",
    "\\begin{align*}\n",
    "S_{n} = \\sum\\limits_{k=0}^{n}\\left(\\frac{1}{1.02}\\right)^{k}\n",
    "\\end{align*}"
   ]
  },
  {
   "cell_type": "code",
   "execution_count": 3,
   "metadata": {},
   "outputs": [],
   "source": [
    "#todo"
   ]
  },
  {
   "cell_type": "code",
   "execution_count": null,
   "metadata": {},
   "outputs": [],
   "source": []
  }
 ],
 "metadata": {
  "kernelspec": {
   "display_name": "R",
   "language": "R",
   "name": "ir"
  },
  "language_info": {
   "codemirror_mode": "r",
   "file_extension": ".r",
   "mimetype": "text/x-r-source",
   "name": "R",
   "pygments_lexer": "r",
   "version": "3.5.1"
  }
 },
 "nbformat": 4,
 "nbformat_minor": 2
}
