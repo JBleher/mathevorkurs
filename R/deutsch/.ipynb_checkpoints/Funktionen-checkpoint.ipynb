{
 "cells": [
  {
   "cell_type": "markdown",
   "metadata": {},
   "source": [
    "# Funktionen"
   ]
  },
  {
   "cell_type": "markdown",
   "metadata": {},
   "source": [
    "## Beispiele für mathematische Funktionen in Python:\n",
    "\n",
    "Die Funktion $f(x) = \\frac{1}{x}$ kann definiert werden durch die Funktion"
   ]
  },
  {
   "cell_type": "code",
   "execution_count": 1,
   "metadata": {},
   "outputs": [],
   "source": [
    "f <- function(x){\n",
    "    return (1/x)\n",
    "}"
   ]
  },
  {
   "cell_type": "markdown",
   "metadata": {},
   "source": [
    "Die Funktionswerte erhalten wir, indem Werte für $x$ eingegeben werden. Weil eine Funktion nichts anderes ist als eine Relation, bei der für jeden $x$ Wert ein $y$ generiert wird, können wir einfach eine Menge an $x$ Werten generieren für die wir die Funktion auswerten wollen."
   ]
  },
  {
   "cell_type": "code",
   "execution_count": 2,
   "metadata": {},
   "outputs": [
    {
     "name": "stdout",
     "output_type": "stream",
     "text": [
      "[1]    0.5000000    0.3333333    1.0000000 1000.0000000\n"
     ]
    }
   ],
   "source": [
    "x = c(2,3,1,0.001)\n",
    "y = f(x)\n",
    "print(y)"
   ]
  },
  {
   "cell_type": "markdown",
   "metadata": {},
   "source": [
    "Weil die Funktion $f(x)$ an jeder Stelle definiert ist außer an $x_0=0$, können wir alle Werte $x\\in\\mathbb{R}\\setminus 0$ in die Funktion einsetzen. Wenn wir $x_0 = 0$ setzen und $f$ an der Stelle $x_0$ auswerten in R erhalten wir keine Fehlermeldung, aber der Funktionswert wird auf $\\texttt{Inf}$ gesetzt -- dem Wert <a href=\"http://stat.ethz.ch/R-manual/R-devel/library/base/html/is.finite.html\">den R zuweist für $\\infty$</a>."
   ]
  },
  {
   "cell_type": "code",
   "execution_count": 4,
   "metadata": {},
   "outputs": [
    {
     "data": {
      "text/html": [
       "Inf"
      ],
      "text/latex": [
       "Inf"
      ],
      "text/markdown": [
       "Inf"
      ],
      "text/plain": [
       "[1] Inf"
      ]
     },
     "metadata": {},
     "output_type": "display_data"
    }
   ],
   "source": [
    "x0 = 0\n",
    "f(x0)"
   ]
  },
  {
   "cell_type": "markdown",
   "metadata": {},
   "source": [
    "Um die Funktion als Graph darzustellen, können wir den Eindruck einer kontinuierlichen gezeichneten Funktion dann erwecken, wenn wir die Auswertungspunkte und die von der Funktion generierten Werte so eng wie möglich aneinander legen. Mit der Funktion $\\texttt{seq(start,stop,step)}$ können wir eine Folge von equidistanten Punkten generieren."
   ]
  },
  {
   "cell_type": "code",
   "execution_count": 5,
   "metadata": {},
   "outputs": [],
   "source": [
    "x = seq(-10,10,0.1)\n",
    "y = f(x)"
   ]
  },
  {
   "cell_type": "markdown",
   "metadata": {},
   "source": [
    "Um die Sache interessanter zu machen, können wir uns noch eine weitere Funktion $g(x) = \\sqrt{x}$ generieren. NB: Im Fall, dass die Wurzelfunktion $\\texttt{sqrt}$ mathematisch nicht definiert ist, gibt R eine Warnung und einen fehlenden Wert \"NA\" aus. Der Programmfluss wird dabei jedoch nicht unterbrochen, folgender Code wird weiter ausgeführt."
   ]
  },
  {
   "cell_type": "code",
   "execution_count": 7,
   "metadata": {},
   "outputs": [
    {
     "name": "stderr",
     "output_type": "stream",
     "text": [
      "Warning message in sqrt(x):\n",
      "“NaNs wurden erzeugt”"
     ]
    }
   ],
   "source": [
    "g <- function(x){\n",
    "    return(sqrt(x))\n",
    "}\n",
    "\n",
    "z <- g(x)"
   ]
  },
  {
   "cell_type": "markdown",
   "metadata": {},
   "source": [
    "Beide Funktionen wollen wir nun plotten."
   ]
  },
  {
   "cell_type": "code",
   "execution_count": 9,
   "metadata": {},
   "outputs": [
    {
     "data": {
      "image/png": "[encoded data removed]",
      "text/plain": [
       "plot without title"
      ]
     },
     "metadata": {},
     "output_type": "display_data"
    }
   ],
   "source": [
    "plot(x,y,type=\"l\",col=\"black\",xlab=\"x\",ylab=\"y\")\n",
    "lines(x,z,col=\"blue\")\n",
    "legend(\"topleft\", legend = c(expression(paste(\"f(x)=\",frac(1,x))), expression(paste(\"g(x)=\",sqrt(x)))),\n",
    "               lty = c(1,1), col=c(\"black\",\"blue\"))"
   ]
  },
  {
   "cell_type": "markdown",
   "metadata": {},
   "source": [
    "### Task 1\n",
    "\n",
    "Plotten Sie die folgende Funktion $f(x) = x^3 - 3x^2+3x$."
   ]
  },
  {
   "cell_type": "code",
   "execution_count": 1,
   "metadata": {},
   "outputs": [],
   "source": [
    "#todo "
   ]
  },
  {
   "cell_type": "markdown",
   "metadata": {},
   "source": [
    "### Task 2:\n",
    "Plotten Sie die Funktion\n",
    "\n",
    "\\begin{equation*}\n",
    "f(x)=\n",
    "\\begin{cases}\n",
    "    5x - 2 & \\text{for } x \\lt 1 \\\\\n",
    "    x^{2} + 4 & \\text{for } x \\geq 1\n",
    "\\end{cases}\n",
    "\\end{equation*}\n",
    "\n",
    "\n",
    "Ist diese Funktion stetig? Falls nicht, machen Sie mit einem ausgefüllten und einem nicht-ausgefüllten Punkt deutlich  wo die Funktion definiert ist und wo nicht. Darüber hinaus vermeiden Sie das Zeichnen einer Linie an den Sprungstellen der Funktion."
   ]
  },
  {
   "cell_type": "code",
   "execution_count": 2,
   "metadata": {},
   "outputs": [],
   "source": [
    "#todo "
   ]
  },
  {
   "cell_type": "markdown",
   "metadata": {},
   "source": [
    "### Task 3\n",
    "Zeichnen Sie eine ganzrationale Funktion mit $n<m$. Zeichnen Sie auch die Asymptoten ihrer Funktion ein"
   ]
  },
  {
   "cell_type": "code",
   "execution_count": 3,
   "metadata": {},
   "outputs": [],
   "source": [
    "#todo "
   ]
  },
  {
   "cell_type": "markdown",
   "metadata": {},
   "source": [
    "### Task 4\n",
    "Zeichnen Sie eine ganzrationale Funktion mit $n>m$. Zeichnen Sie auch die Asymptoten der jerweiligen Funktionen ein. Stellen Sie sicher, dass eventuelle Polstellen richtig abgetragen sind."
   ]
  },
  {
   "cell_type": "code",
   "execution_count": 4,
   "metadata": {},
   "outputs": [],
   "source": [
    "#todo "
   ]
  },
  {
   "cell_type": "markdown",
   "metadata": {},
   "source": [
    "### Task 5\n",
    "Schreiben Sie eine Funkion $\\text{comp}()$, die zwei Funktionen als Input entgegennimmt und sie verkettet."
   ]
  },
  {
   "cell_type": "code",
   "execution_count": 6,
   "metadata": {},
   "outputs": [],
   "source": [
    "#todo "
   ]
  },
  {
   "cell_type": "markdown",
   "metadata": {},
   "source": [
    "### Task 6\n",
    "Plotten Sie die beiden Funktionen $f(x) = x^{2} - 1$ und  $g(x) = 2x - 1$.\n",
    "Verketten Sie die beiden $f \\circ g (x) = f(g(x))$ und tragen Sie auch diese Verkettung ab."
   ]
  },
  {
   "cell_type": "code",
   "execution_count": 7,
   "metadata": {},
   "outputs": [],
   "source": [
    "#todo "
   ]
  },
  {
   "cell_type": "code",
   "execution_count": null,
   "metadata": {},
   "outputs": [],
   "source": []
  }
 ],
 "metadata": {
  "kernelspec": {
   "display_name": "R",
   "language": "R",
   "name": "ir"
  },
  "language_info": {
   "codemirror_mode": "r",
   "file_extension": ".r",
   "mimetype": "text/x-r-source",
   "name": "R",
   "pygments_lexer": "r",
   "version": "3.5.1"
  }
 },
 "nbformat": 4,
 "nbformat_minor": 2
}
