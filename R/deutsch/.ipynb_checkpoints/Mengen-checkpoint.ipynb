{
 "cells": [
  {
   "cell_type": "markdown",
   "metadata": {},
   "source": [
    "# Mengen\n",
    "\n",
    "Es gibt in R standardmäßig keinen eigenen Variablentyp für mathematische Mengen. Um mit mathematischen Mengen zu arbeiten wurde das \"sets\" Paket kreeirt."
   ]
  },
  {
   "cell_type": "code",
   "execution_count": 1,
   "metadata": {},
   "outputs": [],
   "source": [
    "library(\"sets\")"
   ]
  },
  {
   "cell_type": "code",
   "execution_count": 2,
   "metadata": {},
   "outputs": [
    {
     "name": "stdout",
     "output_type": "stream",
     "text": [
      "{1, 2}\n"
     ]
    },
    {
     "data": {
      "text/html": [
       "'set'"
      ],
      "text/latex": [
       "'set'"
      ],
      "text/markdown": [
       "'set'"
      ],
      "text/plain": [
       "[1] \"set\""
      ]
     },
     "metadata": {},
     "output_type": "display_data"
    },
    {
     "name": "stdout",
     "output_type": "stream",
     "text": [
      "{\"A\", \"B\", 1}\n"
     ]
    },
    {
     "data": {
      "text/html": [
       "'set'"
      ],
      "text/latex": [
       "'set'"
      ],
      "text/markdown": [
       "'set'"
      ],
      "text/plain": [
       "[1] \"set\""
      ]
     },
     "metadata": {},
     "output_type": "display_data"
    }
   ],
   "source": [
    "# Definition of a set\n",
    "A = set(1,2,1,2)\n",
    "print(A)\n",
    "is(A)\n",
    "B = set(1,'A','B','A')\n",
    "print(B)\n",
    "is(B)"
   ]
  },
  {
   "cell_type": "markdown",
   "metadata": {},
   "source": [
    "Die Aussage $a \\in A$ kann in R fast einszueins umgesetzt werden mit dem <a href=\"http://stat.ethz.ch/R-manual/R-devel/library/base/html/match.html\"> %in% Operator </a> . Die leere Menge kann definiert werden mit dem leeren Aufruf der $\\texttt{set()}$ Funktion.\n",
    "\n",
    "Eine Menge von Operationen für Sets sind in Python umgesetzt.\n",
    "1. $A \\cup B$ - Die Vereininungsmenge\n",
    "2. $A \\cap B$ - Die Schnittmenge\n",
    "3. $A \\setminus B$  - Die Differenz\n",
    "4. $A \\triangle B$ - Die symmetrische Differenz"
   ]
  },
  {
   "cell_type": "code",
   "execution_count": 4,
   "metadata": {},
   "outputs": [
    {
     "data": {
      "text/html": [
       "'A ='"
      ],
      "text/latex": [
       "'A ='"
      ],
      "text/markdown": [
       "'A ='"
      ],
      "text/plain": [
       "[1] \"A =\""
      ]
     },
     "metadata": {},
     "output_type": "display_data"
    },
    {
     "data": {
      "text/plain": [
       "{1, 2}"
      ]
     },
     "metadata": {},
     "output_type": "display_data"
    },
    {
     "data": {
      "text/html": [
       "'B ='"
      ],
      "text/latex": [
       "'B ='"
      ],
      "text/markdown": [
       "'B ='"
      ],
      "text/plain": [
       "[1] \"B =\""
      ]
     },
     "metadata": {},
     "output_type": "display_data"
    },
    {
     "data": {
      "text/plain": [
       "{\"A\", \"B\", 1}"
      ]
     },
     "metadata": {},
     "output_type": "display_data"
    },
    {
     "data": {
      "text/html": [
       "'Die Vereininungsmenge:'"
      ],
      "text/latex": [
       "'Die Vereininungsmenge:'"
      ],
      "text/markdown": [
       "'Die Vereininungsmenge:'"
      ],
      "text/plain": [
       "[1] \"Die Vereininungsmenge:\""
      ]
     },
     "metadata": {},
     "output_type": "display_data"
    },
    {
     "data": {
      "text/plain": [
       "{\"A\", \"B\", 1, 2}"
      ]
     },
     "metadata": {},
     "output_type": "display_data"
    },
    {
     "data": {
      "text/html": [
       "'Die Schnittmenge: '"
      ],
      "text/latex": [
       "'Die Schnittmenge: '"
      ],
      "text/markdown": [
       "'Die Schnittmenge: '"
      ],
      "text/plain": [
       "[1] \"Die Schnittmenge: \""
      ]
     },
     "metadata": {},
     "output_type": "display_data"
    },
    {
     "data": {
      "text/plain": [
       "{1}"
      ]
     },
     "metadata": {},
     "output_type": "display_data"
    },
    {
     "data": {
      "text/html": [
       "'A ohne Elemente aus B: '"
      ],
      "text/latex": [
       "'A ohne Elemente aus B: '"
      ],
      "text/markdown": [
       "'A ohne Elemente aus B: '"
      ],
      "text/plain": [
       "[1] \"A ohne Elemente aus B: \""
      ]
     },
     "metadata": {},
     "output_type": "display_data"
    },
    {
     "data": {
      "text/plain": [
       "{2}"
      ]
     },
     "metadata": {},
     "output_type": "display_data"
    },
    {
     "data": {
      "text/html": [
       "'Die symmetrische Differenz: '"
      ],
      "text/latex": [
       "'Die symmetrische Differenz: '"
      ],
      "text/markdown": [
       "'Die symmetrische Differenz: '"
      ],
      "text/plain": [
       "[1] \"Die symmetrische Differenz: \""
      ]
     },
     "metadata": {},
     "output_type": "display_data"
    },
    {
     "data": {
      "text/plain": [
       "{\"A\", \"B\", 2}"
      ]
     },
     "metadata": {},
     "output_type": "display_data"
    }
   ],
   "source": [
    "\"A =\"\n",
    "A\n",
    "\"B =\"\n",
    "B\n",
    "\n",
    "#1. $A \\cup B$ - Die Vereininungsmenge\n",
    "\"Die Vereininungsmenge:\"\n",
    "A | B\n",
    "#2. $A \\cap B$ - Die Schnittmenge\n",
    "\"Die Schnittmenge: \"\n",
    "A & B\n",
    "#3. $A \\setminus B$  - Die Differenz\n",
    "\"A ohne Elemente aus B: \"\n",
    "A - B\n",
    "#4. $A \\triangle B$ - Die symmetrische Differenz\n",
    "\"Die symmetrische Differenz: \"\n",
    "A %D% B"
   ]
  },
  {
   "cell_type": "markdown",
   "metadata": {},
   "source": [
    "## Definition von Mengen\n",
    "\n",
    "Mengen können über eine freie Variable. Zum Beispiel können wir die Menge $V$ wie folgt definieren $V = \\{v \\in \\mathbb{N} \\,|\\, 0 < v^2 < 20\\}$. Dabei wird die freie Variable $v \\in \\mathbb{N}$ verwendet. In R müssen wir dazu $v$ vorab als Vektor definieren, der alle zulässigen Werte von $v$ enthält. Wir können dann auf Elemente des Vektors zugreifen mittels einer logischen Aussage innerhalb der eckigen Klammern [ ]. Das Ergebnis ist ein numerischer Vektor. Um den Variablentyp auf \"set\" zu ändern, können wir die Funktion $\\texttt{as.set()}$ (nicht die Funktion $\\texttt{set}$. \n",
    "\n",
    "*(Da wir keine unendlich großen Sets wie die natürlichen Zahlen absuchen können und wollen, reicht es für dieses Set aus das Diskursuniversum auf alle natürlichen Zahlen kleiner 20 oder sogar weiter einzuschränken.)*"
   ]
  },
  {
   "cell_type": "markdown",
   "metadata": {},
   "source": [
    "## Definition von Familien (Mengen von Mengen)\n",
    "\n",
    "Die Definition von Mengen in R innerhalb des \"sets\" Pakets funktioniert ohne einen weiteren Datentyp."
   ]
  },
  {
   "cell_type": "code",
   "execution_count": 5,
   "metadata": {},
   "outputs": [
    {
     "name": "stdout",
     "output_type": "stream",
     "text": [
      "{{1, 2}, {1, 2, 3}}\n",
      "{{1, 2, 3}}\n"
     ]
    }
   ],
   "source": [
    "# Define the sets A_1 and A_2\n",
    "A1 = set(1,2,3)\n",
    "A2 = set(1,2)\n",
    "\n",
    "# Create the family from A_1 and A_2\n",
    "A = set(A1,A2)\n",
    "print(A)\n",
    "\n",
    "# Define the sets B_1 and B_2 (NB: B_1 = B_2)\n",
    "B1 = set(1,2,3)\n",
    "B2 = set(2,3,1)\n",
    "# Create the family from B_1 and B_2, with only one set since B_1 = B_2\n",
    "B = set(B1,B2)\n",
    "print(B)"
   ]
  },
  {
   "cell_type": "markdown",
   "metadata": {},
   "source": [
    "## Task 1:\n",
    "\n",
    "Schreiben Sie eine Funktion, welche die Potenzmenge einer Menge $S$ erstellt. Benutzen Sie nicht die im Paket \"sets\" verfügbare Funktion 2^S."
   ]
  },
  {
   "cell_type": "code",
   "execution_count": 6,
   "metadata": {},
   "outputs": [
    {
     "data": {
      "text/plain": [
       "{{}, {1}, {2}, {\"A\"}, {1, 2}, {\"A\", 1}, {\"A\", 2}, {\"A\", 1, 2}}"
      ]
     },
     "metadata": {},
     "output_type": "display_data"
    },
    {
     "data": {
      "text/plain": [
       "{{}, {1}, {2}, {\"A\"}, {1, 2}, {\"A\", 1}, {\"A\", 2}, {\"A\", 1, 2}}"
      ]
     },
     "metadata": {},
     "output_type": "display_data"
    }
   ],
   "source": [
    "#Here is the set S\n",
    "S <- set(1,2,\"A\")\n",
    "# This is the result of the build in function\n",
    "2^S\n",
    "\n",
    "# todo -- Write your own powerset function"
   ]
  },
  {
   "cell_type": "markdown",
   "metadata": {},
   "source": [
    "## Task 2:\n",
    "Unser Diskursuniversum $\\Omega$ sei der Zahlenraum aller natürlichen Zahlen bis 100. \n",
    "1. Bilden Sie die Menge aller geraden Zahlen im Diskursuniversum $\\Omega$.\n",
    "2. Bilden Sie die Menge aller ungeraden Zahlen im Diskursuniversum $\\Omega$.\n",
    "\n",
    "*Hinweis: verwenden Sie den Modulo Operator.*"
   ]
  },
  {
   "cell_type": "code",
   "execution_count": null,
   "metadata": {},
   "outputs": [],
   "source": [
    "Omega = 1:1:101\n",
    "\n",
    "# todo "
   ]
  },
  {
   "cell_type": "markdown",
   "metadata": {},
   "source": [
    "## Task 3\n",
    "\n",
    "Schreiben Sie eine Funktion, die überprüft, ob eine natürliche Zahl $x$ ein Primzahl ist. Also durch einen beliebigen Ihrer natürlichen Vorgänger ausgenommen der 1 teilbar ist. Konstruieren Sie mit dieser Funktion die Menge aller Primzahlen im Zahlenraum bis 200."
   ]
  },
  {
   "cell_type": "code",
   "execution_count": 2,
   "metadata": {},
   "outputs": [],
   "source": [
    "#todo"
   ]
  },
  {
   "cell_type": "markdown",
   "metadata": {},
   "source": [
    "## Task 4\n",
    "\n",
    "In den Folien zum Thema Mengen, wird die Menge $S$ wie folgt definiert. \n",
    "\n",
    "\\begin{align}\n",
    " S = \\{ w \\;|\\; 6 \\notin \\{ x \\;|\\; x \\text{ ist teilbar durch } w \\} \\}\n",
    "\\end{align}\n",
    "\n",
    "Erstellen Sie die Menge $S$. Nehmen Sie als Diskursuniversum die ganzen Zahlen im Bereich von -100 bis 100 ohne die Null an.\n",
    "\n",
    "Überprüfen Sie die Aussage $2 \\in S$."
   ]
  },
  {
   "cell_type": "code",
   "execution_count": 1,
   "metadata": {},
   "outputs": [],
   "source": [
    "# todo"
   ]
  },
  {
   "cell_type": "code",
   "execution_count": null,
   "metadata": {},
   "outputs": [],
   "source": []
  }
 ],
 "metadata": {
  "kernelspec": {
   "display_name": "R",
   "language": "R",
   "name": "ir"
  },
  "language_info": {
   "codemirror_mode": "r",
   "file_extension": ".r",
   "mimetype": "text/x-r-source",
   "name": "R",
   "pygments_lexer": "r",
   "version": "3.5.1"
  }
 },
 "nbformat": 4,
 "nbformat_minor": 2
}
