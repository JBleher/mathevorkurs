{
 "cells": [
  {
   "cell_type": "markdown",
   "metadata": {},
   "source": [
    "# Relationen\n"
   ]
  },
  {
   "cell_type": "markdown",
   "metadata": {},
   "source": [
    "Eine (zweistellige) <a href=\"https://de.wikipedia.org/wiki/Relation_(Mathematik)\">Relation </a> $R$ wird definiert als\n",
    "\\begin{align*}\n",
    "R \\subseteq A \\ \\times \\ B\n",
    "\\end{align*}\n",
    "\n",
    "In Worten: Eine (zweistellige) Relation $R$ zwischen zwei Mengen $A$ und $B$ ist definiert als eine Teilmenge des kartesischen Produkts $A \\times B$.\n",
    "\n",
    "Das kartesische Produkt wiederum ist definiert als\n",
    "\\begin{align}\n",
    "A \\ \\times \\ B = \\{ (a, b) \\ | \\ a \\in  A \\land b \\in \\ B\\}\n",
    "\\end{align}\n",
    "\n",
    "Das kartesische Produkt ist also die Menge aller geoordneten Paare mit der ersten Koordinate $a$ aus der Menge $A$ und der zweiten Koordinate $b$ aus der Menge $B$.\n",
    "\n",
    "Geordnete Paare sind 2-<a href=\"https://de.wikipedia.org/wiki/Tupel\">Tuple</a> und können mittels des in Python verfügbaren Datentyps <a href=\"https://docs.python.org/3.4/c-api/tuple.html\">$\\texttt{tuple}$</a> implementiert werden.\n",
    "\n",
    "Eine Relation kann damit auch als Wahrheitsmenge einer logischen Aussage mit 2 freien Variablen aufgefasst werden.\n",
    "\\begin{align*}\n",
    "R = \\{(a,b) \\in A \\times B \\;|\\; P(a,b)\\}\n",
    "\\end{align*}\n"
   ]
  },
  {
   "cell_type": "code",
   "execution_count": 3,
   "metadata": {},
   "outputs": [
    {
     "data": {
      "text/plain": [
       "(1, 2)"
      ]
     },
     "metadata": {},
     "output_type": "display_data"
    },
    {
     "data": {
      "text/html": [
       "'tuple'"
      ],
      "text/latex": [
       "'tuple'"
      ],
      "text/markdown": [
       "'tuple'"
      ],
      "text/plain": [
       "[1] \"tuple\""
      ]
     },
     "metadata": {},
     "output_type": "display_data"
    },
    {
     "data": {
      "text/plain": [
       "(1, 2)"
      ]
     },
     "metadata": {},
     "output_type": "display_data"
    },
    {
     "data": {
      "text/html": [
       "'tuple'"
      ],
      "text/latex": [
       "'tuple'"
      ],
      "text/markdown": [
       "'tuple'"
      ],
      "text/plain": [
       "[1] \"tuple\""
      ]
     },
     "metadata": {},
     "output_type": "display_data"
    }
   ],
   "source": [
    "library(\"sets\")\n",
    "\n",
    "t <- tuple(1,2)\n",
    "t\n",
    "is(t)\n",
    "p <- pair(1,2)\n",
    "p\n",
    "is(p)"
   ]
  },
  {
   "cell_type": "markdown",
   "metadata": {},
   "source": [
    "## Task 1\n",
    "\n",
    "Schreiben Sie eine Funktion, die das Kartesische Produkt von zwei Mengen zurückgibt. Verwenden Sie den Datentyp Tupel."
   ]
  },
  {
   "cell_type": "code",
   "execution_count": 4,
   "metadata": {},
   "outputs": [
    {
     "data": {
      "text/plain": [
       "{(1, \"A\"), (1, \"B\"), (1, \"C\"), (2, \"A\"), (2, \"B\"), (2, \"C\"), (3, \"A\"),\n",
       " (3, \"B\"), (3, \"C\")}"
      ]
     },
     "metadata": {},
     "output_type": "display_data"
    },
    {
     "name": "stdout",
     "output_type": "stream",
     "text": [
      "{(1, \"A\"), (1, \"B\"), (1, \"C\"), (2, \"A\"), (2, \"B\"), (2, \"C\"), (3, \"A\"),\n",
      " (3, \"B\"), (3, \"C\")}\n"
     ]
    }
   ],
   "source": [
    "# define a function that returns the cartesian product using set comprehensions\n",
    "product <- function(A, B){\n",
    "    #todo\n",
    "}\n",
    "\n",
    "A = set(1,2,3)\n",
    "B = set('A','B','C')\n",
    "# build in Cartesian product\n",
    "A*B\n",
    "# self-written Cartesian product\n",
    "print(product(A, B))"
   ]
  },
  {
   "cell_type": "markdown",
   "metadata": {},
   "source": [
    "## Task 2\n",
    "Schreiben Sie eine Funktion $\\texttt{relation}$, die als Input zwei Mengen $A$ und $B$ nimmt, sowie eine weitere Funktion $P(a,b)$ wobei $a\\in A$ und $b\\in B$. Ausgeben soll die Funktion die Wahrheitsmenge von $P$. Gehen Sie wie folgt dazu vor:\n",
    "\n",
    "1. Definieren Sie eine Funktion $P$ mittels Lambda-Calculus, die in Abhängigkeit von $a \\in A$ und $b \\in B$, die Aussage $a>b$ auswertet.\n",
    "2. Schreiben Sie die Funktion $\\texttt{relation}$ und testen sie die Funktion mittels der Mengen $A$ und $B$ sowie ihrer Funktion $P(a,b)$."
   ]
  },
  {
   "cell_type": "code",
   "execution_count": 6,
   "metadata": {},
   "outputs": [
    {
     "data": {
      "text/plain": [
       "{(0L, -2L), (0L, -1L), (1L, 0L), (1L, -2L), (1L, -1L), (2L, 0L), (2L,\n",
       " 1L), (2L, -2L), (2L, -1L), (-1L, -2L)}"
      ]
     },
     "metadata": {},
     "output_type": "display_data"
    }
   ],
   "source": [
    "A <- -2:2\n",
    "B <- -2:2\n",
    "\n",
    "P <- function(a,b){\n",
    "   # todo\n",
    "}\n",
    "\n",
    "relation <- function(A,B,P){\n",
    "# todo\n",
    "}\n",
    "\n",
    "relation(A,B,P)"
   ]
  },
  {
   "cell_type": "markdown",
   "metadata": {},
   "source": [
    "### Task 3\n",
    "Verwenden Sie Ihre Funktion $\\texttt{relation}$ aus Task 2 und konstruieren Sie so die Wahrheitsmenge der Aussage:<br>\n",
    "\"$a$ ist teilbar durch $b$\"\n",
    "wobei $a \\in A$ und  $b \\in B\\setminus\\{0\\}$."
   ]
  },
  {
   "cell_type": "code",
   "execution_count": 8,
   "metadata": {},
   "outputs": [
    {
     "data": {
      "text/plain": [
       "{(1L, 1L), (2L, 1L), (2L, 2L), (3L, 1L), (3L, 3L), (4L, 1L), (4L, 2L),\n",
       " (4L, 4L), (5L, 1L), (5L, 5L), (6L, 1L), (6L, 2L), (6L, 3L), (6L, 6L),\n",
       " (7L, 1L), (7L, 7L), (8L, 1L), (8L, 2L), (8L, 4L), (8L, 8L), (9L, 1L),\n",
       " (9L, 3L), (9L, 9L), (10L, 1L), (10L, 2L), (10L, 5L), (10L, 10L)}"
      ]
     },
     "metadata": {},
     "output_type": "display_data"
    }
   ],
   "source": [
    "#todo\n",
    "A <- 1:10\n",
    "B <- 1:10\n",
    "Q <- function(a,b){\n",
    "    #todo\n",
    "}\n",
    "\n",
    "relation(A,B,Q)"
   ]
  },
  {
   "cell_type": "markdown",
   "metadata": {},
   "source": [
    "## Task 4\n",
    "1. Schreiben Sie eine Funktion $\\texttt{Dom}$, die als Input die Quell- und Zielmenge, sowie die Relation annimmt und die Definitionsmenge der Relation zurückgibt.\n",
    "2. Schreiben Sie eine Funktion $\\texttt{Ran}$, die als Input die Quell- und Zielmenge, sowie die Relation annimmt und die Wertemenege einer Relation zurückgibt.\n",
    "\n",
    "Verwenden Sie die nachfolgend definierten Objekte $A,B,W$ und $R$ um Ihre Funktionen zu testen."
   ]
  },
  {
   "cell_type": "code",
   "execution_count": 9,
   "metadata": {},
   "outputs": [
    {
     "name": "stdout",
     "output_type": "stream",
     "text": [
      "{-3L, -2L, -1L, 0L, 1L, 2L, 3L}\n",
      "{0L, 1L, 4L, 9L}\n"
     ]
    }
   ],
   "source": [
    "A = -10:10\n",
    "B = -10:10\n",
    "W <- function(a,b) a^2 == b\n",
    "R = relation(A,B,W)\n",
    "\n",
    "#todo"
   ]
  },
  {
   "cell_type": "markdown",
   "metadata": {},
   "source": [
    "### Task 5\n",
    "Schreiben Sie nun zwei Funktionen, die allein die Relation als Input Parameter annimmt und\n",
    "1. die Definitionsmenge zurückgibt ($\\texttt{dom}$)\n",
    "2. die Wertemenge zurückgibt ($\\texttt{ran}$)"
   ]
  },
  {
   "cell_type": "code",
   "execution_count": 10,
   "metadata": {},
   "outputs": [
    {
     "name": "stdout",
     "output_type": "stream",
     "text": [
      "{-3L, -2L, -1L, 0L, 1L, 2L, 3L}\n",
      "{0L, 1L, 4L, 9L}\n"
     ]
    }
   ],
   "source": [
    "#todo"
   ]
  },
  {
   "cell_type": "markdown",
   "metadata": {},
   "source": [
    "## Task 6\n",
    "\n",
    "Write a function which takes two relations $S$ and $R$ as inputs and returns the composition of the two. Do the two relations commute, i.e. does $R\\circ S = S \\circ R$ hold?"
   ]
  },
  {
   "cell_type": "code",
   "execution_count": 11,
   "metadata": {},
   "outputs": [
    {
     "data": {
      "text/html": [
       "FALSE"
      ],
      "text/latex": [
       "FALSE"
      ],
      "text/markdown": [
       "FALSE"
      ],
      "text/plain": [
       "[1] FALSE"
      ]
     },
     "metadata": {},
     "output_type": "display_data"
    }
   ],
   "source": [
    "A = -10:10\n",
    "B = -10:10\n",
    "C = 2:10\n",
    "\n",
    "\n",
    "R = relation(A, B,function(a,b) a**2==b)\n",
    "S = relation(A, C,function(a,b) a%%b == 0)\n",
    "\n",
    "\n",
    "#todo\n"
   ]
  },
  {
   "cell_type": "markdown",
   "metadata": {},
   "source": [
    "## Task 7\n",
    "\n",
    "Implement functions to check whether a given relation $R$ has the characteristic\n",
    "- $\\texttt{isDefinal}(R,A,B)$ - checks whether the relation is definal.\n",
    "- $\\texttt{isLeftUnique}(R,A,B)$ - checks whether the relation is left-unique.\n",
    "- $\\texttt{isSurjektive}(R,A,B)$ -checks whether the relation is surjective.\n",
    "-  $\\texttt{isRightUnique}(R,A,B)$ - checks whether the relation is right-unique.\n",
    "- $\\texttt{isBitotal}(R,A,B)$ - checks whether the relation is bitotal.\n",
    "- $\\texttt{isUniqueUnique}(R,A,B)$ - checks whether the relation is unique-unique.\n",
    "- $\\texttt{isBijektiv}(R,A,B)$ - checks whether the relation is bijective.\n",
    "\n",
    "All functions should take as input arguments a relation $R$ as we ll as the sets $A$ and $B$. The functions should return a boolean variable (True/False)."
   ]
  },
  {
   "cell_type": "code",
   "execution_count": 12,
   "metadata": {},
   "outputs": [
    {
     "data": {
      "text/html": [
       "'isDefinal: R1:'"
      ],
      "text/latex": [
       "'isDefinal: R1:'"
      ],
      "text/markdown": [
       "'isDefinal: R1:'"
      ],
      "text/plain": [
       "[1] \"isDefinal: R1:\""
      ]
     },
     "metadata": {},
     "output_type": "display_data"
    },
    {
     "data": {
      "text/html": [
       "TRUE"
      ],
      "text/latex": [
       "TRUE"
      ],
      "text/markdown": [
       "TRUE"
      ],
      "text/plain": [
       "[1] TRUE"
      ]
     },
     "metadata": {},
     "output_type": "display_data"
    },
    {
     "data": {
      "text/html": [
       "'isDefinal: R2:'"
      ],
      "text/latex": [
       "'isDefinal: R2:'"
      ],
      "text/markdown": [
       "'isDefinal: R2:'"
      ],
      "text/plain": [
       "[1] \"isDefinal: R2:\""
      ]
     },
     "metadata": {},
     "output_type": "display_data"
    },
    {
     "data": {
      "text/html": [
       "TRUE"
      ],
      "text/latex": [
       "TRUE"
      ],
      "text/markdown": [
       "TRUE"
      ],
      "text/plain": [
       "[1] TRUE"
      ]
     },
     "metadata": {},
     "output_type": "display_data"
    },
    {
     "data": {
      "text/html": [
       "'isDefinal: R5:'"
      ],
      "text/latex": [
       "'isDefinal: R5:'"
      ],
      "text/markdown": [
       "'isDefinal: R5:'"
      ],
      "text/plain": [
       "[1] \"isDefinal: R5:\""
      ]
     },
     "metadata": {},
     "output_type": "display_data"
    },
    {
     "data": {
      "text/html": [
       "FALSE"
      ],
      "text/latex": [
       "FALSE"
      ],
      "text/markdown": [
       "FALSE"
      ],
      "text/plain": [
       "[1] FALSE"
      ]
     },
     "metadata": {},
     "output_type": "display_data"
    },
    {
     "data": {
      "text/html": [
       "'isSurjektiv: R1:'"
      ],
      "text/latex": [
       "'isSurjektiv: R1:'"
      ],
      "text/markdown": [
       "'isSurjektiv: R1:'"
      ],
      "text/plain": [
       "[1] \"isSurjektiv: R1:\""
      ]
     },
     "metadata": {},
     "output_type": "display_data"
    },
    {
     "data": {
      "text/html": [
       "TRUE"
      ],
      "text/latex": [
       "TRUE"
      ],
      "text/markdown": [
       "TRUE"
      ],
      "text/plain": [
       "[1] TRUE"
      ]
     },
     "metadata": {},
     "output_type": "display_data"
    },
    {
     "data": {
      "text/html": [
       "'isSurjektiv: R2:'"
      ],
      "text/latex": [
       "'isSurjektiv: R2:'"
      ],
      "text/markdown": [
       "'isSurjektiv: R2:'"
      ],
      "text/plain": [
       "[1] \"isSurjektiv: R2:\""
      ]
     },
     "metadata": {},
     "output_type": "display_data"
    },
    {
     "data": {
      "text/html": [
       "FALSE"
      ],
      "text/latex": [
       "FALSE"
      ],
      "text/markdown": [
       "FALSE"
      ],
      "text/plain": [
       "[1] FALSE"
      ]
     },
     "metadata": {},
     "output_type": "display_data"
    },
    {
     "data": {
      "text/html": [
       "'isSurjektiv: R5:'"
      ],
      "text/latex": [
       "'isSurjektiv: R5:'"
      ],
      "text/markdown": [
       "'isSurjektiv: R5:'"
      ],
      "text/plain": [
       "[1] \"isSurjektiv: R5:\""
      ]
     },
     "metadata": {},
     "output_type": "display_data"
    },
    {
     "data": {
      "text/html": [
       "FALSE"
      ],
      "text/latex": [
       "FALSE"
      ],
      "text/markdown": [
       "FALSE"
      ],
      "text/plain": [
       "[1] FALSE"
      ]
     },
     "metadata": {},
     "output_type": "display_data"
    },
    {
     "data": {
      "text/html": [
       "'isLeftUnique R3?:'"
      ],
      "text/latex": [
       "'isLeftUnique R3?:'"
      ],
      "text/markdown": [
       "'isLeftUnique R3?:'"
      ],
      "text/plain": [
       "[1] \"isLeftUnique R3?:\""
      ]
     },
     "metadata": {},
     "output_type": "display_data"
    },
    {
     "data": {
      "text/html": [
       "TRUE"
      ],
      "text/latex": [
       "TRUE"
      ],
      "text/markdown": [
       "TRUE"
      ],
      "text/plain": [
       "[1] TRUE"
      ]
     },
     "metadata": {},
     "output_type": "display_data"
    },
    {
     "data": {
      "text/html": [
       "'isLeftUnique R4?:'"
      ],
      "text/latex": [
       "'isLeftUnique R4?:'"
      ],
      "text/markdown": [
       "'isLeftUnique R4?:'"
      ],
      "text/plain": [
       "[1] \"isLeftUnique R4?:\""
      ]
     },
     "metadata": {},
     "output_type": "display_data"
    },
    {
     "data": {
      "text/html": [
       "FALSE"
      ],
      "text/latex": [
       "FALSE"
      ],
      "text/markdown": [
       "FALSE"
      ],
      "text/plain": [
       "[1] FALSE"
      ]
     },
     "metadata": {},
     "output_type": "display_data"
    },
    {
     "data": {
      "text/html": [
       "'isRightUnique R5?:'"
      ],
      "text/latex": [
       "'isRightUnique R5?:'"
      ],
      "text/markdown": [
       "'isRightUnique R5?:'"
      ],
      "text/plain": [
       "[1] \"isRightUnique R5?:\""
      ]
     },
     "metadata": {},
     "output_type": "display_data"
    },
    {
     "data": {
      "text/html": [
       "TRUE"
      ],
      "text/latex": [
       "TRUE"
      ],
      "text/markdown": [
       "TRUE"
      ],
      "text/plain": [
       "[1] TRUE"
      ]
     },
     "metadata": {},
     "output_type": "display_data"
    },
    {
     "data": {
      "text/html": [
       "'isRightUnique R6?:'"
      ],
      "text/latex": [
       "'isRightUnique R6?:'"
      ],
      "text/markdown": [
       "'isRightUnique R6?:'"
      ],
      "text/plain": [
       "[1] \"isRightUnique R6?:\""
      ]
     },
     "metadata": {},
     "output_type": "display_data"
    },
    {
     "data": {
      "text/html": [
       "FALSE"
      ],
      "text/latex": [
       "FALSE"
      ],
      "text/markdown": [
       "FALSE"
      ],
      "text/plain": [
       "[1] FALSE"
      ]
     },
     "metadata": {},
     "output_type": "display_data"
    },
    {
     "data": {
      "text/html": [
       "'isBijektiv R1?:'"
      ],
      "text/latex": [
       "'isBijektiv R1?:'"
      ],
      "text/markdown": [
       "'isBijektiv R1?:'"
      ],
      "text/plain": [
       "[1] \"isBijektiv R1?:\""
      ]
     },
     "metadata": {},
     "output_type": "display_data"
    },
    {
     "data": {
      "text/html": [
       "FALSE"
      ],
      "text/latex": [
       "FALSE"
      ],
      "text/markdown": [
       "FALSE"
      ],
      "text/plain": [
       "[1] FALSE"
      ]
     },
     "metadata": {},
     "output_type": "display_data"
    },
    {
     "data": {
      "text/html": [
       "'isBijektiv R7?:'"
      ],
      "text/latex": [
       "'isBijektiv R7?:'"
      ],
      "text/markdown": [
       "'isBijektiv R7?:'"
      ],
      "text/plain": [
       "[1] \"isBijektiv R7?:\""
      ]
     },
     "metadata": {},
     "output_type": "display_data"
    },
    {
     "data": {
      "text/html": [
       "TRUE"
      ],
      "text/latex": [
       "TRUE"
      ],
      "text/markdown": [
       "TRUE"
      ],
      "text/plain": [
       "[1] TRUE"
      ]
     },
     "metadata": {},
     "output_type": "display_data"
    },
    {
     "data": {
      "text/html": [
       "'isFunction R1?:'"
      ],
      "text/latex": [
       "'isFunction R1?:'"
      ],
      "text/markdown": [
       "'isFunction R1?:'"
      ],
      "text/plain": [
       "[1] \"isFunction R1?:\""
      ]
     },
     "metadata": {},
     "output_type": "display_data"
    },
    {
     "data": {
      "text/html": [
       "FALSE"
      ],
      "text/latex": [
       "FALSE"
      ],
      "text/markdown": [
       "FALSE"
      ],
      "text/plain": [
       "[1] FALSE"
      ]
     },
     "metadata": {},
     "output_type": "display_data"
    },
    {
     "data": {
      "text/html": [
       "'isFunction R3?:'"
      ],
      "text/latex": [
       "'isFunction R3?:'"
      ],
      "text/markdown": [
       "'isFunction R3?:'"
      ],
      "text/plain": [
       "[1] \"isFunction R3?:\""
      ]
     },
     "metadata": {},
     "output_type": "display_data"
    },
    {
     "data": {
      "text/html": [
       "TRUE"
      ],
      "text/latex": [
       "TRUE"
      ],
      "text/markdown": [
       "TRUE"
      ],
      "text/plain": [
       "[1] TRUE"
      ]
     },
     "metadata": {},
     "output_type": "display_data"
    }
   ],
   "source": [
    "# two helper functions\n",
    "thereExists <- function(a,R,dim){\n",
    "    return(sum(sapply(R,function(el) unlist(el[dim])==a))>=1)\n",
    "}\n",
    "                      \n",
    "thereExistsOne <- function(a,R,dim){\n",
    "    return(sum(sapply(R,function(el) unlist(el[dim])==a))==1)\n",
    "}\n",
    "                      \n",
    "#todo\n",
    "\n",
    "                      \n",
    "                      \n",
    "# Zum Testen\n",
    "A = set(1, 2, 3)\n",
    "B = set(\"A\", \"B\", \"C\", \"D\")\n",
    "C = set(1,2,3,4)\n",
    "D = set(\"K\",\"L\",\"M\")\n",
    "\n",
    "R1 = set(pair(1, \"A\"), pair(2, \"B\"), pair(3, \"B\"), pair(3, \"C\"), pair(2, \"D\"))\n",
    "R2 = set(pair(1, \"A\"), pair(2, \"A\"), pair(3, \"B\"))\n",
    "\n",
    "R3 = set(pair(1, \"A\"), pair(2, \"C\"), pair(3, \"B\"))\n",
    "R4 = set(pair(1, \"A\"), pair(2, \"B\"), pair(3, \"B\"))\n",
    "\n",
    "R5 = set(pair(1, \"A\"), pair(3, \"B\"))\n",
    "R6 = set(pair(1, \"A\"), pair(3, \"B\"), pair(3, \"C\"))\n",
    "\n",
    "R7 = set(pair(1,\"K\"),pair(2,\"L\"),pair(3,\"M\"))\n",
    "                      \n",
    "\"isDefinal: R1:\"\n",
    "isDefinal(R1, A, B) # True\n",
    "\"isDefinal: R2:\"\n",
    "isDefinal(R2, A, B) # True\n",
    "\"isDefinal: R5:\"\n",
    "isDefinal(R5, A, B) # False                     \n",
    "\n",
    "\"isSurjektiv: R1:\"\n",
    "isSurjektiv(R1, A, B) #True\n",
    "\"isSurjektiv: R2:\"\n",
    "isSurjektiv(R2, A, B) # False\n",
    "\"isSurjektiv: R5:\"\n",
    "isSurjektiv(R5, A, B) # False\n",
    "                                           \n",
    "\"isLeftUnique R3?:\"\n",
    "isLeftUnique(R3, A, B) # True\n",
    "\"isLeftUnique R4?:\"\n",
    "isLeftUnique(R4, A, B) # False\n",
    "                      \n",
    "                      \n",
    "\"isRightUnique R5?:\"\n",
    "isRightUnique(R5, A, B) # True\n",
    "\"isRightUnique R6?:\"\n",
    "isRightUnique(R6, A, B) # False\n",
    "                      \n",
    "                      \n",
    "\"isBijektiv R1?:\"\n",
    "isBijektiv(R1, A, B) # False\n",
    "\"isBijektiv R7?:\"\n",
    "isBijektiv(R7, C, D) # True\n",
    "                      \n",
    "\n",
    "\"isFunction R1?:\"\n",
    "isFunction(R1, A, B) # False\n",
    "\"isFunction R3?:\"\n",
    "isFunction(R3, A, B) # True\n"
   ]
  },
  {
   "cell_type": "code",
   "execution_count": null,
   "metadata": {},
   "outputs": [],
   "source": []
  }
 ],
 "metadata": {
  "kernelspec": {
   "display_name": "R",
   "language": "R",
   "name": "ir"
  },
  "language_info": {
   "codemirror_mode": "r",
   "file_extension": ".r",
   "mimetype": "text/x-r-source",
   "name": "R",
   "pygments_lexer": "r",
   "version": "3.5.1"
  }
 },
 "nbformat": 4,
 "nbformat_minor": 2
}
