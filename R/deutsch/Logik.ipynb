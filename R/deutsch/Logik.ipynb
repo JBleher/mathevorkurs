{
 "cells": [
  {
   "cell_type": "markdown",
   "metadata": {},
   "source": [
    "# Logik"
   ]
  },
  {
   "cell_type": "markdown",
   "metadata": {},
   "source": [
    "Logische Aussagen bilden einen Grundbaustein von programmen. Oft sollen Dinge getan werden bis eine gewisse Aussage wahr oder falsch ist (while, until-Schleifen) und oft soll etwas getan werden, wenn eine bestimmte Bedingung erfüllt ist  (if-else-Anweisungen, Fallunterscheidungen).\n",
    "\n",
    "Der fundamentale Baustein logischer Aussagen ist dabei die Einordnung einer Aussage in die beiden Kategorien: wahr oder falsch. Variablen, die diese beiden Werte annehmen können, werden Boolsche Variablen genannt."
   ]
  },
  {
   "cell_type": "code",
   "execution_count": 4,
   "metadata": {},
   "outputs": [
    {
     "name": "stdout",
     "output_type": "stream",
     "text": [
      "[1] TRUE TRUE TRUE\n"
     ]
    }
   ],
   "source": [
    "# Definition von boolschen Variable\n",
    "w = TRUE\n",
    "x = FALSE\n",
    "# Definition von boolschen Variable mit logischen Aussagen durch Ordnungsoperatoren\n",
    "y = (1==2-1)\n",
    "z = (2>1)\n",
    "\n",
    "# Ausgabe des Variablentyps\n",
    "is(x)\n",
    "is(y)\n",
    "is(z)"
   ]
  },
  {
   "cell_type": "markdown",
   "metadata": {},
   "source": [
    "Aussagen können auch verknüpft werden. Dabei gelten die logischen Operatoren $\\land, \\lor, \\lnot$. "
   ]
  },
  {
   "cell_type": "code",
   "execution_count": 5,
   "metadata": {},
   "outputs": [
    {
     "data": {
      "text/html": [
       "<span style=white-space:pre-wrap>'A and B:  FALSE'</span>"
      ],
      "text/latex": [
       "'A and B:  FALSE'"
      ],
      "text/markdown": [
       "<span style=white-space:pre-wrap>'A and B:  FALSE'</span>"
      ],
      "text/plain": [
       "[1] \"A and B:  FALSE\""
      ]
     },
     "metadata": {},
     "output_type": "display_data"
    },
    {
     "data": {
      "text/html": [
       "<span style=white-space:pre-wrap>'A or B:  TRUE'</span>"
      ],
      "text/latex": [
       "'A or B:  TRUE'"
      ],
      "text/markdown": [
       "<span style=white-space:pre-wrap>'A or B:  TRUE'</span>"
      ],
      "text/plain": [
       "[1] \"A or B:  TRUE\""
      ]
     },
     "metadata": {},
     "output_type": "display_data"
    },
    {
     "data": {
      "text/html": [
       "<span style=white-space:pre-wrap>'not A:  TRUE'</span>"
      ],
      "text/latex": [
       "'not A:  TRUE'"
      ],
      "text/markdown": [
       "<span style=white-space:pre-wrap>'not A:  TRUE'</span>"
      ],
      "text/plain": [
       "[1] \"not A:  TRUE\""
      ]
     },
     "metadata": {},
     "output_type": "display_data"
    }
   ],
   "source": [
    "# Suppose we have two statements\n",
    "A = FALSE\n",
    "B = TRUE\n",
    "\n",
    "# ... then we can connect the two statements\n",
    "paste(\"A and B: \",A & B)\n",
    "paste(\"A or B: \", A | B)\n",
    "paste(\"not A: \", !A)"
   ]
  },
  {
   "cell_type": "markdown",
   "metadata": {},
   "source": [
    "## Task 1\n",
    "\n",
    "Schreiben Sie eine Funktion $\\texttt{implies}(A,B)$, die den Wahrheitsgehalt von $A\\implies B$ zurückgibt. \n",
    "\n",
    "*Hinweis*: $(A\\implies B)$ kann auch als $(\\lnot A \\lor B)$ geschrieben werden."
   ]
  },
  {
   "cell_type": "code",
   "execution_count": 7,
   "metadata": {},
   "outputs": [
    {
     "data": {
      "text/html": [
       "'A implies B: FALSE'"
      ],
      "text/latex": [
       "'A implies B: FALSE'"
      ],
      "text/markdown": [
       "'A implies B: FALSE'"
      ],
      "text/plain": [
       "[1] \"A implies B: FALSE\""
      ]
     },
     "metadata": {},
     "output_type": "display_data"
    }
   ],
   "source": [
    "# todo"
   ]
  },
  {
   "cell_type": "markdown",
   "metadata": {},
   "source": [
    "# Task 2\n",
    "\n",
    "Erstellen Sie eine Funktion $\\texttt{equiv}(A,B)$ die den Wahrheitsgehalt von $A\\iff B$ zurückgibt."
   ]
  },
  {
   "cell_type": "code",
   "execution_count": 8,
   "metadata": {},
   "outputs": [
    {
     "data": {
      "text/html": [
       "FALSE"
      ],
      "text/latex": [
       "FALSE"
      ],
      "text/markdown": [
       "FALSE"
      ],
      "text/plain": [
       "[1] FALSE"
      ]
     },
     "metadata": {},
     "output_type": "display_data"
    },
    {
     "data": {
      "text/html": [
       "'A is equivalent to B: FALSE'"
      ],
      "text/latex": [
       "'A is equivalent to B: FALSE'"
      ],
      "text/markdown": [
       "'A is equivalent to B: FALSE'"
      ],
      "text/plain": [
       "[1] \"A is equivalent to B: FALSE\""
      ]
     },
     "metadata": {},
     "output_type": "display_data"
    }
   ],
   "source": [
    "#todo"
   ]
  },
  {
   "cell_type": "markdown",
   "metadata": {},
   "source": [
    "## Task 3\n",
    "\n",
    "Suppose you have two logical statements $P$ and $Q$. Construct a truth table that displays the values a joint statement (consisting of these two statements connected with some junctors $\\land, \\lor, \\implies, \\iff$) can take."
   ]
  },
  {
   "cell_type": "code",
   "execution_count": 9,
   "metadata": {},
   "outputs": [
    {
     "data": {
      "text/html": [
       "<table>\n",
       "<thead><tr><th scope=col>P</th><th scope=col>Q</th><th scope=col>and</th><th scope=col>or</th><th scope=col>implies</th><th scope=col>equivalent</th></tr></thead>\n",
       "<tbody>\n",
       "\t<tr><td> TRUE</td><td> TRUE</td><td> TRUE</td><td> TRUE</td><td> TRUE</td><td>TRUE </td></tr>\n",
       "\t<tr><td> TRUE</td><td>FALSE</td><td>FALSE</td><td> TRUE</td><td> TRUE</td><td>TRUE </td></tr>\n",
       "\t<tr><td>FALSE</td><td> TRUE</td><td>FALSE</td><td> TRUE</td><td>FALSE</td><td>TRUE </td></tr>\n",
       "\t<tr><td>FALSE</td><td>FALSE</td><td>FALSE</td><td>FALSE</td><td> TRUE</td><td>TRUE </td></tr>\n",
       "</tbody>\n",
       "</table>\n"
      ],
      "text/latex": [
       "\\begin{tabular}{llllll}\n",
       " P & Q & and & or & implies & equivalent\\\\\n",
       "\\hline\n",
       "\t  TRUE &  TRUE &  TRUE &  TRUE &  TRUE & TRUE \\\\\n",
       "\t  TRUE & FALSE & FALSE &  TRUE &  TRUE & TRUE \\\\\n",
       "\t FALSE &  TRUE & FALSE &  TRUE & FALSE & TRUE \\\\\n",
       "\t FALSE & FALSE & FALSE & FALSE &  TRUE & TRUE \\\\\n",
       "\\end{tabular}\n"
      ],
      "text/markdown": [
       "\n",
       "P | Q | and | or | implies | equivalent | \n",
       "|---|---|---|---|\n",
       "|  TRUE |  TRUE |  TRUE |  TRUE |  TRUE | TRUE  | \n",
       "|  TRUE | FALSE | FALSE |  TRUE |  TRUE | TRUE  | \n",
       "| FALSE |  TRUE | FALSE |  TRUE | FALSE | TRUE  | \n",
       "| FALSE | FALSE | FALSE | FALSE |  TRUE | TRUE  | \n",
       "\n",
       "\n"
      ],
      "text/plain": [
       "     P     Q     and   or    implies equivalent\n",
       "[1,]  TRUE  TRUE  TRUE  TRUE  TRUE   TRUE      \n",
       "[2,]  TRUE FALSE FALSE  TRUE  TRUE   TRUE      \n",
       "[3,] FALSE  TRUE FALSE  TRUE FALSE   TRUE      \n",
       "[4,] FALSE FALSE FALSE FALSE  TRUE   TRUE      "
      ]
     },
     "metadata": {},
     "output_type": "display_data"
    }
   ],
   "source": [
    "#todo "
   ]
  },
  {
   "cell_type": "markdown",
   "metadata": {},
   "source": [
    "## Task 4:\n",
    "Auf einer Insel gibt es zwei Typen von Bewohnern:  ehrliche Menschen und Lügner. Angenommen der Einwohner $A$ behauptet von sich und seinem Bruder $B$: \"Mindestens einer von uns ist ein Lügner.\" Finden Sie heraus von welcher Sorte Mensch die beiden sind.\n",
    "\n",
    "- Formulieren Sie die Behauptung $C$ als logisches Aussage in Abhängigkeit von $A$ und $B$. Dabei ist $A=1$, wenn $A$ ehrlich ist und $A=0$, wenn $A$ ein Lügner ist. Entsprechendes gilt für $B$"
   ]
  },
  {
   "cell_type": "code",
   "execution_count": 12,
   "metadata": {},
   "outputs": [],
   "source": [
    "# todo\n"
   ]
  },
  {
   "cell_type": "markdown",
   "metadata": {},
   "source": [
    "- Weiterhin wissen wir, dass wenn $A$ ein Lügner ist, dann muss die Behauptung falsch sein und wenn $A$ ein Ehrlicher ist muss sie richtig sein. Formulieren Sie die Gesamtaussage in Abhängigkeit von $A$ und $B$."
   ]
  },
  {
   "cell_type": "code",
   "execution_count": 13,
   "metadata": {},
   "outputs": [],
   "source": [
    "# todo\n"
   ]
  },
  {
   "cell_type": "markdown",
   "metadata": {},
   "source": [
    "- Erstellen Sie eine Wahrheitstabelle für alle Möglichen Kombinationen von $A$ und $B$. Von welcher Sorte Mensch sind die beiden?"
   ]
  },
  {
   "cell_type": "code",
   "execution_count": 14,
   "metadata": {},
   "outputs": [
    {
     "data": {
      "text/html": [
       "<table>\n",
       "<thead><tr><th scope=col>Acol</th><th scope=col>Bcol</th><th scope=col></th></tr></thead>\n",
       "<tbody>\n",
       "\t<tr><td> TRUE</td><td> TRUE</td><td>FALSE</td></tr>\n",
       "\t<tr><td> TRUE</td><td>FALSE</td><td> TRUE</td></tr>\n",
       "\t<tr><td>FALSE</td><td> TRUE</td><td>FALSE</td></tr>\n",
       "\t<tr><td>FALSE</td><td>FALSE</td><td>FALSE</td></tr>\n",
       "</tbody>\n",
       "</table>\n"
      ],
      "text/latex": [
       "\\begin{tabular}{lll}\n",
       " Acol & Bcol & \\\\\n",
       "\\hline\n",
       "\t  TRUE &  TRUE & FALSE\\\\\n",
       "\t  TRUE & FALSE &  TRUE\\\\\n",
       "\t FALSE &  TRUE & FALSE\\\\\n",
       "\t FALSE & FALSE & FALSE\\\\\n",
       "\\end{tabular}\n"
      ],
      "text/markdown": [
       "\n",
       "Acol | Bcol |  | \n",
       "|---|---|---|---|\n",
       "|  TRUE |  TRUE | FALSE | \n",
       "|  TRUE | FALSE |  TRUE | \n",
       "| FALSE |  TRUE | FALSE | \n",
       "| FALSE | FALSE | FALSE | \n",
       "\n",
       "\n"
      ],
      "text/plain": [
       "     Acol  Bcol       \n",
       "[1,]  TRUE  TRUE FALSE\n",
       "[2,]  TRUE FALSE  TRUE\n",
       "[3,] FALSE  TRUE FALSE\n",
       "[4,] FALSE FALSE FALSE"
      ]
     },
     "metadata": {},
     "output_type": "display_data"
    }
   ],
   "source": [
    "# todo\n"
   ]
  },
  {
   "cell_type": "markdown",
   "metadata": {},
   "source": [
    "## Task 5\n",
    "\n",
    "Gleiches Szenario wie in Task 4. Wie verändert sich ihre Aussage wenn $A$ sagt \"Genau einer von uns ist ein Lügner\"."
   ]
  },
  {
   "cell_type": "code",
   "execution_count": 15,
   "metadata": {},
   "outputs": [
    {
     "data": {
      "text/html": [
       "<table>\n",
       "<thead><tr><th scope=col>Acol</th><th scope=col>Bcol</th><th scope=col></th></tr></thead>\n",
       "<tbody>\n",
       "\t<tr><td> TRUE</td><td> TRUE</td><td>FALSE</td></tr>\n",
       "\t<tr><td> TRUE</td><td>FALSE</td><td> TRUE</td></tr>\n",
       "\t<tr><td>FALSE</td><td> TRUE</td><td>FALSE</td></tr>\n",
       "\t<tr><td>FALSE</td><td>FALSE</td><td> TRUE</td></tr>\n",
       "</tbody>\n",
       "</table>\n"
      ],
      "text/latex": [
       "\\begin{tabular}{lll}\n",
       " Acol & Bcol & \\\\\n",
       "\\hline\n",
       "\t  TRUE &  TRUE & FALSE\\\\\n",
       "\t  TRUE & FALSE &  TRUE\\\\\n",
       "\t FALSE &  TRUE & FALSE\\\\\n",
       "\t FALSE & FALSE &  TRUE\\\\\n",
       "\\end{tabular}\n"
      ],
      "text/markdown": [
       "\n",
       "Acol | Bcol |  | \n",
       "|---|---|---|---|\n",
       "|  TRUE |  TRUE | FALSE | \n",
       "|  TRUE | FALSE |  TRUE | \n",
       "| FALSE |  TRUE | FALSE | \n",
       "| FALSE | FALSE |  TRUE | \n",
       "\n",
       "\n"
      ],
      "text/plain": [
       "     Acol  Bcol       \n",
       "[1,]  TRUE  TRUE FALSE\n",
       "[2,]  TRUE FALSE  TRUE\n",
       "[3,] FALSE  TRUE FALSE\n",
       "[4,] FALSE FALSE  TRUE"
      ]
     },
     "metadata": {},
     "output_type": "display_data"
    }
   ],
   "source": [
    "# todo\n"
   ]
  },
  {
   "cell_type": "markdown",
   "metadata": {},
   "source": [
    "## Task 6\n",
    "\n",
    "In dem Buch “The Logician and the Engineer, How George Boole and Claude Shannon Created the Information Age” P.J. Nahin findet sich folgendes Rätsel:\n",
    "\n",
    "Auf einem Tisch stehen drei kleine Schachteln, ettiketiert mit den Buchstaben $A$, $B$ und $C$. In jeder Box ist ein farbiger Plastikchip. Ein Chip ist rot, einer weiß und einer blau. In welcher Box, welcher Chip zu finden ist, ist unbekannt. Einen weiteren Hinweis haben Sie jedoch. Eine der folgenden Aussagen ist wahr:\n",
    "\n",
    "- In Schachtel $A$ ist der rote Chip\n",
    "- Schachtel $B$ enthält nicht den roten Chip\n",
    "- Schachtel $C$ enthält nicht den blauen Chip\n",
    "\n",
    "In welcher Schachtel ist welcher Chip?\n",
    "\n",
    "\n",
    "Um das Problem programmatisch zu lösen führen wir ein numpy Array mit 9 boolschen Einträgen (wahr/falsch) ein. Wir haben also grundsätzlich $2^9 = 512$ Möglichkeiten. Mit einem Computer können wir alle Möglichkeiten einzeln checken.\n",
    "Für das Numpy-Array legen wir folgende Konvention für die einzelnen Reihen und spalten Fest:\n",
    "\n",
    "\n",
    " <table>\n",
    "  <tr>\n",
    "    <th></th>\n",
    "    <th>A</th>\n",
    "    <th>B</th>\n",
    "    <th>C</th>\n",
    "  </tr>\n",
    "  <tr>\n",
    "    <td>r</td>\n",
    "    <td>wahr/falsch</td>\n",
    "    <td>wahr/falsch</td>\n",
    "    <td>wahr/falsch</td>\n",
    "  </tr>\n",
    "   <tr>\n",
    "    <td>w</td>\n",
    "    <td>wahr/falsch</td>\n",
    "    <td>wahr/falsch</td>\n",
    "    <td>wahr/falsch</td>\n",
    "  </tr>\n",
    "   <tr>\n",
    "    <td>b</td>\n",
    "    <td>wahr/falsch</td>\n",
    "    <td>wahr/falsch</td>\n",
    "    <td>wahr/falsch</td>\n",
    "  </tr>\n",
    "</table> \n",
    "\n",
    "Steht also in Zeile 1 und Spalte 1 der Wert \"True\", dann ist in Schachtel $A$ der rote Chip.\n",
    "Schreiben Sie die Funktion $\\texttt{check}()$, die die einzelnen Aussagen auf Ihre Stichhaltigkeit überprüft."
   ]
  },
  {
   "cell_type": "code",
   "execution_count": 16,
   "metadata": {},
   "outputs": [
    {
     "name": "stdout",
     "output_type": "stream",
     "text": [
      "     [,1] [,2] [,3]\n",
      "[1,]    0    0    1\n",
      "[2,]    1    0    0\n",
      "[3,]    0    1    0\n"
     ]
    }
   ],
   "source": []
  },
  {
   "cell_type": "code",
   "execution_count": null,
   "metadata": {},
   "outputs": [],
   "source": []
  }
 ],
 "metadata": {
  "kernelspec": {
   "display_name": "R",
   "language": "R",
   "name": "ir"
  },
  "language_info": {
   "codemirror_mode": "r",
   "file_extension": ".r",
   "mimetype": "text/x-r-source",
   "name": "R",
   "pygments_lexer": "r",
   "version": "3.5.1"
  }
 },
 "nbformat": 4,
 "nbformat_minor": 2
}
