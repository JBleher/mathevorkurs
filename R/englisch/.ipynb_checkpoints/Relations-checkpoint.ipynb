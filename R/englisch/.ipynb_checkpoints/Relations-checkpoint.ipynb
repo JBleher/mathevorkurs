{
 "cells": [
  {
   "cell_type": "markdown",
   "metadata": {},
   "source": [
    "# Relations"
   ]
  },
  {
   "cell_type": "markdown",
   "metadata": {},
   "source": [
    "A <a href=\"https://en.wikipedia.org/wiki/Finitary_relation\">finitary relation with two places</a> $R$ is defined by\n",
    "\\begin{align*}\n",
    "R \\subseteq A \\ \\times \\ B\n",
    "\\end{align*}\n",
    "\n",
    "In words: A relation $R$  with two places from the sets $A$ and $B$ is defined as a subset of the Cartesian product $A \\times B$.\n",
    "\n",
    "The Cartesian product, again, is defined as\n",
    "\\begin{align}\n",
    "A \\ \\times \\ B = \\{ (a, b) \\ | \\ a \\in  A \\land b \\in \\ B\\}\n",
    "\\end{align}\n",
    "\n",
    "So, the Cartesian product is the set of all ordered pairs where the first coordinate $a$ is a member of the set $A$ and the second coordinate $b$ is a member of $B$.\n",
    "\n",
    "Ordered pairs are 2-<a href=\"https://en.wikipedia.org/wiki/Tuple\">Tuple</a> and in R (with the package \"sets\") are implemented with the data type $\\texttt{tuple}$.\n",
    "\n",
    "A relation can, thus, be conceived as a truth set of a logical statement with two free variables.\n",
    "\\begin{align*}\n",
    "R = \\{(a,b) \\in A \\times B \\;|\\; P(a,b)\\}\n",
    "\\end{align*}"
   ]
  },
  {
   "cell_type": "code",
   "execution_count": 5,
   "metadata": {},
   "outputs": [
    {
     "data": {
      "text/plain": [
       "(1, 2)"
      ]
     },
     "metadata": {},
     "output_type": "display_data"
    },
    {
     "data": {
      "text/html": [
       "'tuple'"
      ],
      "text/latex": [
       "'tuple'"
      ],
      "text/markdown": [
       "'tuple'"
      ],
      "text/plain": [
       "[1] \"tuple\""
      ]
     },
     "metadata": {},
     "output_type": "display_data"
    },
    {
     "data": {
      "text/plain": [
       "(1, 2)"
      ]
     },
     "metadata": {},
     "output_type": "display_data"
    },
    {
     "data": {
      "text/html": [
       "'tuple'"
      ],
      "text/latex": [
       "'tuple'"
      ],
      "text/markdown": [
       "'tuple'"
      ],
      "text/plain": [
       "[1] \"tuple\""
      ]
     },
     "metadata": {},
     "output_type": "display_data"
    }
   ],
   "source": [
    "library(\"sets\")\n",
    "\n",
    "t <- tuple(1,2)\n",
    "t\n",
    "is(t)\n",
    "p <- pair(1,2)\n",
    "p\n",
    "is(p)"
   ]
  },
  {
   "cell_type": "markdown",
   "metadata": {},
   "source": [
    "## Task 1\n",
    "\n",
    "Write a function that constructs the Cartesian product of two fuctions. Use the variable type tuple. Do not use the build in operator $*$."
   ]
  },
  {
   "cell_type": "code",
   "execution_count": 1,
   "metadata": {},
   "outputs": [],
   "source": [
    "#todo"
   ]
  },
  {
   "cell_type": "markdown",
   "metadata": {},
   "source": [
    "## Task 2\n",
    "Write a function $\\texttt{relation}$ which takes as an input two sets $A$ and $B$, as well as a function $P(a,b)$ where $a\\in A$ and $b\\in B$. The function should return a truth set for $P$. \n",
    "\n",
    "Proceed as follows:\n",
    "1. Define the function $P$ which takes the inputs $a \\in A$ and $b \\in B$. The function shall evaluate the statement $a>b$.\n",
    "2. Write the function $\\texttt{relation}$ and test it with the sets $A$ and $B$ and the function $P(a,b)$."
   ]
  },
  {
   "cell_type": "code",
   "execution_count": 2,
   "metadata": {},
   "outputs": [],
   "source": [
    "#todo"
   ]
  },
  {
   "cell_type": "markdown",
   "metadata": {},
   "source": [
    "## Task 3\n",
    "Use your function $\\texttt{relation}$ from task 2 and construct the truth set for the statement:<br>\n",
    "\"$a$ is devisable by $b$\"\n",
    "where $a \\in A$ and  $b \\in B\\setminus\\{0\\}$."
   ]
  },
  {
   "cell_type": "code",
   "execution_count": null,
   "metadata": {},
   "outputs": [],
   "source": []
  },
  {
   "cell_type": "markdown",
   "metadata": {},
   "source": [
    "## Task 4\n",
    "\n",
    "1. Write a function $\\texttt{Dom}$ which takes a source set and a target set as well as a relation as input arguments. The function shall return the domain of the relation.\n",
    "2. Write a function $\\texttt{Ran}$ which takes a source set and a target set as well as a relation as input arguments. The function shall return the range of the relation.\n",
    "\n",
    "Use the objects $A,B,W$ and $R$ to test your function."
   ]
  },
  {
   "cell_type": "code",
   "execution_count": 4,
   "metadata": {},
   "outputs": [],
   "source": [
    "A = -10:10\n",
    "B = -10:10\n",
    "W <- function(a,b) a^2 == b\n",
    "R = relation(A,B,W)\n",
    "\n",
    "#todo\n"
   ]
  },
  {
   "cell_type": "markdown",
   "metadata": {},
   "source": [
    "## Task 5\n",
    "Now, write two function that only take a relation as an input parameter and return\n",
    "1. the domain ($\\texttt{dom}$)\n",
    "2. and the range ($\\texttt{ran}$)"
   ]
  },
  {
   "cell_type": "code",
   "execution_count": 5,
   "metadata": {},
   "outputs": [],
   "source": [
    "#todo"
   ]
  },
  {
   "cell_type": "markdown",
   "metadata": {},
   "source": [
    "## Task 6\n",
    "\n",
    "Write a function which takes two relations $S$ and $R$ as inputs and returns the composition of the two. Do the two relations commute, i.e. does $R\\circ S = S \\circ R$ hold?"
   ]
  },
  {
   "cell_type": "code",
   "execution_count": 6,
   "metadata": {},
   "outputs": [],
   "source": [
    "A = -10:10\n",
    "B = -10:10\n",
    "C = 2:10"
   ]
  },
  {
   "cell_type": "markdown",
   "metadata": {},
   "source": [
    "## Task 6\n",
    "\n",
    "Implementieren Sie die Funktionen\n",
    "- $\\texttt{isDefinal}(R,A,B)$ - prüft ob die Relation definal ist.\n",
    "- $\\texttt{isLeftUnique}(R,A,B)$ - prüft ob die Relation links-eindeutig ist.\n",
    "- $\\texttt{isSurjektive}(R,A,B)$ - prüft ob die Relation surjektiv ist.\n",
    "-  $\\texttt{isRightUnique}(R,A,B)$ - prüft ob die Relation rechts-eindeutig ist.\n",
    "- $\\texttt{isBitotal}(R,A,B)$ - prüft ob die Relation bitotal ist.\n",
    "- $\\texttt{isUniqueUnique}(R,A,B)$ - prüft ob die Relation eineindeutig ist.\n",
    "- $\\texttt{isBijektiv}(R,A,B)$ - prüft ob die Relation bijektiv ist.\n",
    "\n",
    "Alle Funktionen sollten die als Inputparameter eine Relation $R$ sowie zwei Mengen $A$ und $B$ annehmen und geben eine Wahrheitswert (Wahr/Falsch) in Form einer boolschen Variable zurück."
   ]
  },
  {
   "cell_type": "code",
   "execution_count": 7,
   "metadata": {},
   "outputs": [
    {
     "ename": "ERROR",
     "evalue": "Error in set(1, 2, 3): konnte Funktion \"set\" nicht finden\n",
     "output_type": "error",
     "traceback": [
      "Error in set(1, 2, 3): konnte Funktion \"set\" nicht finden\nTraceback:\n"
     ]
    }
   ],
   "source": [
    "# two helper functions\n",
    "thereExists <- function(a,R,dim){\n",
    "    return(sum(sapply(R,function(el) unlist(el[dim])==a))>=1)\n",
    "}\n",
    "                      \n",
    "thereExistsOne <- function(a,R,dim){\n",
    "    return(sum(sapply(R,function(el) unlist(el[dim])==a))==1)\n",
    "}\n",
    "                      \n",
    "#todo\n",
    "                 \n",
    "                      \n",
    "# Zum Testen\n",
    "A = set(1, 2, 3)\n",
    "B = set(\"A\", \"B\", \"C\", \"D\")\n",
    "C = set(1,2,3,4)\n",
    "D = set(\"K\",\"L\",\"M\")\n",
    "\n",
    "R1 = set(pair(1, \"A\"), pair(2, \"B\"), pair(3, \"B\"), pair(3, \"C\"), pair(2, \"D\"))\n",
    "R2 = set(pair(1, \"A\"), pair(2, \"A\"), pair(3, \"B\"))\n",
    "\n",
    "R3 = set(pair(1, \"A\"), pair(2, \"C\"), pair(3, \"B\"))\n",
    "R4 = set(pair(1, \"A\"), pair(2, \"B\"), pair(3, \"B\"))\n",
    "\n",
    "R5 = set(pair(1, \"A\"), pair(3, \"B\"))\n",
    "R6 = set(pair(1, \"A\"), pair(3, \"B\"), pair(3, \"C\"))\n",
    "\n",
    "R7 = set(pair(1,\"K\"),pair(2,\"L\"),pair(3,\"M\"))\n",
    "                      \n",
    "\"isDefinal: R1:\"\n",
    "isDefinal(R1, A, B) # True\n",
    "\"isDefinal: R2:\"\n",
    "isDefinal(R2, A, B) # True\n",
    "\"isDefinal: R5:\"\n",
    "isDefinal(R5, A, B) # False                     \n",
    "\n",
    "\"isSurjektiv: R1:\"\n",
    "isSurjektiv(R1, A, B) #True\n",
    "\"isSurjektiv: R2:\"\n",
    "isSurjektiv(R2, A, B) # False\n",
    "\"isSurjektiv: R5:\"\n",
    "isSurjektiv(R5, A, B) # False\n",
    "                                           \n",
    "\"isLeftUnique R3?:\"\n",
    "isLeftUnique(R3, A, B) # True\n",
    "\"isLeftUnique R4?:\"\n",
    "isLeftUnique(R4, A, B) # False\n",
    "                      \n",
    "                      \n",
    "\"isRightUnique R5?:\"\n",
    "isRightUnique(R5, A, B) # True\n",
    "\"isRightUnique R6?:\"\n",
    "isRightUnique(R6, A, B) # False\n",
    "                      \n",
    "                      \n",
    "\"isBijektiv R1?:\"\n",
    "isBijektiv(R1, A, B) # False\n",
    "\"isBijektiv R7?:\"\n",
    "isBijektiv(R7, C, D) # True\n",
    "                      \n",
    "\n",
    "\"isFunction R1?:\"\n",
    "isFunction(R1, A, B) # False\n",
    "\"isFunction R3?:\"\n",
    "isFunction(R3, A, B) # True\n"
   ]
  },
  {
   "cell_type": "code",
   "execution_count": null,
   "metadata": {},
   "outputs": [],
   "source": [
    "\n",
    "\n"
   ]
  }
 ],
 "metadata": {
  "kernelspec": {
   "display_name": "R",
   "language": "R",
   "name": "ir"
  },
  "language_info": {
   "codemirror_mode": "r",
   "file_extension": ".r",
   "mimetype": "text/x-r-source",
   "name": "R",
   "pygments_lexer": "r",
   "version": "3.5.0"
  }
 },
 "nbformat": 4,
 "nbformat_minor": 2
}
