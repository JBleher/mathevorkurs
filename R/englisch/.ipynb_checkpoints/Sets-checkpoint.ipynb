{
 "cells": [
  {
   "cell_type": "markdown",
   "metadata": {},
   "source": [
    "# Sets"
   ]
  },
  {
   "cell_type": "markdown",
   "metadata": {},
   "source": [
    "In R there is no standard variable type that adequately handles the definition of sets. In order to work with sets, the packages \"sets\" has been created."
   ]
  },
  {
   "cell_type": "code",
   "execution_count": 1,
   "metadata": {},
   "outputs": [],
   "source": [
    "library(\"sets\")"
   ]
  },
  {
   "cell_type": "code",
   "execution_count": 2,
   "metadata": {},
   "outputs": [
    {
     "name": "stdout",
     "output_type": "stream",
     "text": [
      "{1, 2}\n"
     ]
    },
    {
     "data": {
      "text/html": [
       "'set'"
      ],
      "text/latex": [
       "'set'"
      ],
      "text/markdown": [
       "'set'"
      ],
      "text/plain": [
       "[1] \"set\""
      ]
     },
     "metadata": {},
     "output_type": "display_data"
    },
    {
     "name": "stdout",
     "output_type": "stream",
     "text": [
      "{\"A\", \"B\", 1}\n"
     ]
    },
    {
     "data": {
      "text/html": [
       "'set'"
      ],
      "text/latex": [
       "'set'"
      ],
      "text/markdown": [
       "'set'"
      ],
      "text/plain": [
       "[1] \"set\""
      ]
     },
     "metadata": {},
     "output_type": "display_data"
    }
   ],
   "source": [
    "# Definition of a set\n",
    "A = set(1,2,1,2)\n",
    "print(A)\n",
    "is(A)\n",
    "B = set(1,'A','B','A')\n",
    "print(B)\n",
    "is(B)"
   ]
  },
  {
   "cell_type": "markdown",
   "metadata": {},
   "source": [
    "The statement $a \\in A $ can in R then implemented almost literally with R's <a href=\"http://stat.ethz.ch/R-manual/R-devel/library/base/html/match.html\">%in% operator</a>. Also the empty set can literally be defined as an empty call of the $\\texttt{set()}$ function."
   ]
  },
  {
   "cell_type": "code",
   "execution_count": 1,
   "metadata": {},
   "outputs": [
    {
     "data": {
      "text/html": [
       "'Is a = 1 in A? '"
      ],
      "text/latex": [
       "'Is a = 1 in A? '"
      ],
      "text/markdown": [
       "'Is a = 1 in A? '"
      ],
      "text/plain": [
       "[1] \"Is a = 1 in A? \""
      ]
     },
     "metadata": {},
     "output_type": "display_data"
    },
    {
     "ename": "ERROR",
     "evalue": "Error in a %in% A: Objekt 'A' nicht gefunden\n",
     "output_type": "error",
     "traceback": [
      "Error in a %in% A: Objekt 'A' nicht gefunden\nTraceback:\n",
      "1. a %in% A"
     ]
    }
   ],
   "source": [
    "# Is a in A?\n",
    "a =1 \n",
    "\"Is a = 1 in A? \"\n",
    "a %in% A\n",
    "\n",
    "#The empty set\n",
    "\"The emtpy set:\"\n",
    "set()"
   ]
  },
  {
   "cell_type": "markdown",
   "metadata": {},
   "source": [
    "Several Operations for sets are implemented in the R package \"sets\".\n",
    "1. $A \\cup B$ - union\n",
    "2. $A \\cap B$ - intersection\n",
    "3. $A \\setminus B$  - difference\n",
    "4. $A \\triangle B$ - symmetric Differenz"
   ]
  },
  {
   "cell_type": "code",
   "execution_count": 4,
   "metadata": {},
   "outputs": [
    {
     "data": {
      "text/html": [
       "'A ='"
      ],
      "text/latex": [
       "'A ='"
      ],
      "text/markdown": [
       "'A ='"
      ],
      "text/plain": [
       "[1] \"A =\""
      ]
     },
     "metadata": {},
     "output_type": "display_data"
    },
    {
     "data": {
      "text/plain": [
       "{1, 2}"
      ]
     },
     "metadata": {},
     "output_type": "display_data"
    },
    {
     "data": {
      "text/html": [
       "'B ='"
      ],
      "text/latex": [
       "'B ='"
      ],
      "text/markdown": [
       "'B ='"
      ],
      "text/plain": [
       "[1] \"B =\""
      ]
     },
     "metadata": {},
     "output_type": "display_data"
    },
    {
     "data": {
      "text/plain": [
       "{\"A\", \"B\", 1}"
      ]
     },
     "metadata": {},
     "output_type": "display_data"
    },
    {
     "data": {
      "text/html": [
       "'Die Vereininungsmenge:'"
      ],
      "text/latex": [
       "'Die Vereininungsmenge:'"
      ],
      "text/markdown": [
       "'Die Vereininungsmenge:'"
      ],
      "text/plain": [
       "[1] \"Die Vereininungsmenge:\""
      ]
     },
     "metadata": {},
     "output_type": "display_data"
    },
    {
     "data": {
      "text/plain": [
       "{\"A\", \"B\", 1, 2}"
      ]
     },
     "metadata": {},
     "output_type": "display_data"
    },
    {
     "data": {
      "text/html": [
       "'Die Schnittmenge: '"
      ],
      "text/latex": [
       "'Die Schnittmenge: '"
      ],
      "text/markdown": [
       "'Die Schnittmenge: '"
      ],
      "text/plain": [
       "[1] \"Die Schnittmenge: \""
      ]
     },
     "metadata": {},
     "output_type": "display_data"
    },
    {
     "data": {
      "text/plain": [
       "{1}"
      ]
     },
     "metadata": {},
     "output_type": "display_data"
    },
    {
     "data": {
      "text/html": [
       "'A ohne Elemente aus B: '"
      ],
      "text/latex": [
       "'A ohne Elemente aus B: '"
      ],
      "text/markdown": [
       "'A ohne Elemente aus B: '"
      ],
      "text/plain": [
       "[1] \"A ohne Elemente aus B: \""
      ]
     },
     "metadata": {},
     "output_type": "display_data"
    },
    {
     "data": {
      "text/plain": [
       "{2}"
      ]
     },
     "metadata": {},
     "output_type": "display_data"
    },
    {
     "data": {
      "text/html": [
       "'Die symmetrische Differenz: '"
      ],
      "text/latex": [
       "'Die symmetrische Differenz: '"
      ],
      "text/markdown": [
       "'Die symmetrische Differenz: '"
      ],
      "text/plain": [
       "[1] \"Die symmetrische Differenz: \""
      ]
     },
     "metadata": {},
     "output_type": "display_data"
    },
    {
     "data": {
      "text/plain": [
       "{\"A\", \"B\", 2}"
      ]
     },
     "metadata": {},
     "output_type": "display_data"
    }
   ],
   "source": [
    "\"A =\"\n",
    "A\n",
    "\"B =\"\n",
    "B\n",
    "\n",
    "#1. $A \\cup B$ - union\n",
    "\"The union:\"\n",
    "A | B\n",
    "#2. $A \\cap B$ - intesetction\n",
    "\"The interesection: \"\n",
    "A & B\n",
    "#3. $A \\setminus B$  -  difference\n",
    "\"A without elements from B: \"\n",
    "A - B\n",
    "#4. $A \\triangle B$ - the symmetric difference\n",
    "\"The symmetric difference: \"\n",
    "A %D% B"
   ]
  },
  {
   "cell_type": "markdown",
   "metadata": {},
   "source": [
    "## Definition of sets via set comprehension\n",
    "\n",
    "Sets can be defined by a free variable. For example, let's define the set $V = \\{v \\in \\mathbb{N} \\,|\\, 0 < v^2 < 20\\}$. As can be seen in the definition, we regress on a free variable $v \\in \\mathbb{N}$. In R we will have to define the set of all possible $v$ beforehand as vector. We then subset the vector by a logical statement with the accessors [ ]. The result will be a numerical vector. In order to change the variable type to \"set\", we can use the function $\\texttt{as.set()}$ (rather than the function $\\texttt{set}$. \n",
    "\n",
    "*(Since we cannot define the infinite set of natural numbers as the universe, we limit our considerations to natural numbers below or equal to 20.)*"
   ]
  },
  {
   "cell_type": "code",
   "execution_count": 5,
   "metadata": {},
   "outputs": [
    {
     "name": "stdout",
     "output_type": "stream",
     "text": [
      "{1L, 2L, 3L, 4L}\n"
     ]
    }
   ],
   "source": [
    "vv <- 1:20\n",
    "VV <- as.set(vv[vv^2>0 & 20>vv^2])\n",
    "print(VV)"
   ]
  },
  {
   "cell_type": "markdown",
   "metadata": {},
   "source": [
    "## Definition of sets of sets\n",
    "\n",
    "The definition of sets of sets in R using the \"sets\" package is easy, no additional datatype is needed."
   ]
  },
  {
   "cell_type": "code",
   "execution_count": 6,
   "metadata": {},
   "outputs": [
    {
     "name": "stdout",
     "output_type": "stream",
     "text": [
      "{{1, 2}, {1, 2, 3}}\n",
      "{{1, 2, 3}}\n"
     ]
    }
   ],
   "source": [
    "# Define the sets A_1 and A_2\n",
    "A1 = set(1,2,3)\n",
    "A2 = set(1,2)\n",
    "\n",
    "# Create the family from A_1 and A_2\n",
    "A = set(A1,A2)\n",
    "print(A)\n",
    "\n",
    "# Define the sets B_1 and B_2 (NB: B_1 = B_2)\n",
    "B1 = set(1,2,3)\n",
    "B2 = set(2,3,1)\n",
    "# Create the family from B_1 and B_2, with only one set since B_1 = B_2\n",
    "B = set(B1,B2)\n",
    "print(B)"
   ]
  },
  {
   "cell_type": "markdown",
   "metadata": {},
   "source": [
    "## Task 1:\n",
    "\n",
    "Write a function, that returns the power set of some set $S$. Don't use the build in function $\\texttt{2^S}$."
   ]
  },
  {
   "cell_type": "code",
   "execution_count": 1,
   "metadata": {},
   "outputs": [
    {
     "ename": "ERROR",
     "evalue": "Error in set(1, 2, \"A\"): konnte Funktion \"set\" nicht finden\n",
     "output_type": "error",
     "traceback": [
      "Error in set(1, 2, \"A\"): konnte Funktion \"set\" nicht finden\nTraceback:\n"
     ]
    }
   ],
   "source": [
    "#Here is the set S\n",
    "S <- set(1,2,\"A\")\n",
    "# This is the result of the build in function\n",
    "2^S\n",
    "\n",
    "# todo -- Write your own powerset function\n"
   ]
  },
  {
   "cell_type": "markdown",
   "metadata": {},
   "source": [
    "## Task 2:\n",
    "Let the universe $\\Omega$ be all natural numbers up to 100. \n",
    "1. Form the set of all even numbers in the universe $\\Omega$.\n",
    "2. Form the set of all uneven numbers in the universe $\\Omega$.\n",
    "\n",
    "*Hint: use the modulo operator.*"
   ]
  },
  {
   "cell_type": "code",
   "execution_count": 3,
   "metadata": {},
   "outputs": [],
   "source": [
    "Omega = 1:1:101\n",
    "\n",
    "# todo "
   ]
  },
  {
   "cell_type": "markdown",
   "metadata": {},
   "source": [
    "## Task 3\n",
    "\n",
    "Write a function that checks whether the natural number $x$ is a prime, i.e. check whether it is divisable by any of its predecessors except for 1. Construct with this function another function that gives the set of all primes for all natural numbers up to 200.\n"
   ]
  },
  {
   "cell_type": "code",
   "execution_count": 2,
   "metadata": {},
   "outputs": [],
   "source": [
    "#todo"
   ]
  },
  {
   "cell_type": "markdown",
   "metadata": {},
   "source": [
    "## Task 4\n",
    "\n",
    "In the slides, the set $S$ is defined as follows. \n",
    "\n",
    "\\begin{align}\n",
    " S = \\{ w \\;|\\; 6 \\notin \\{ x \\;|\\; x \\text{ ist teilbar durch } w \\} \\}\n",
    "\\end{align}\n",
    "\n",
    "Create the set $S$ in Python. Let the universe be all integer numbers in the interval ranging from -100 to 100 without zero.\n",
    "\n",
    "Check wether $2 \\in S$."
   ]
  },
  {
   "cell_type": "code",
   "execution_count": 4,
   "metadata": {},
   "outputs": [],
   "source": [
    "# todo"
   ]
  }
 ],
 "metadata": {
  "kernelspec": {
   "display_name": "R",
   "language": "R",
   "name": "ir"
  },
  "language_info": {
   "codemirror_mode": "r",
   "file_extension": ".r",
   "mimetype": "text/x-r-source",
   "name": "R",
   "pygments_lexer": "r",
   "version": "3.5.1"
  }
 },
 "nbformat": 4,
 "nbformat_minor": 2
}
