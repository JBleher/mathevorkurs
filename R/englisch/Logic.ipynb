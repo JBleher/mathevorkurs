{
 "cells": [
  {
   "cell_type": "markdown",
   "metadata": {},
   "source": [
    "# Logic"
   ]
  },
  {
   "cell_type": "markdown",
   "metadata": {},
   "source": [
    "Logical statements form the foundation of computational programs. Often tasks shall be accomplished until or while a certain logical statement is either true or false (until/while loops). In other cases program code is only evaluated if a certain condition is satisfied (if-else-statements, case distinction).\n",
    "\n",
    "The fundamental building block of logical statements is the categorization as being either true or false. Variables which can take either one of those two values, are called Boolean variables."
   ]
  },
  {
   "cell_type": "code",
   "execution_count": 1,
   "metadata": {},
   "outputs": [
    {
     "data": {
      "text/html": [
       "<ol class=list-inline>\n",
       "\t<li>'logical'</li>\n",
       "\t<li>'vector'</li>\n",
       "</ol>\n"
      ],
      "text/latex": [
       "\\begin{enumerate*}\n",
       "\\item 'logical'\n",
       "\\item 'vector'\n",
       "\\end{enumerate*}\n"
      ],
      "text/markdown": [
       "1. 'logical'\n",
       "2. 'vector'\n",
       "\n",
       "\n"
      ],
      "text/plain": [
       "[1] \"logical\" \"vector\" "
      ]
     },
     "metadata": {},
     "output_type": "display_data"
    },
    {
     "data": {
      "text/html": [
       "<ol class=list-inline>\n",
       "\t<li>'logical'</li>\n",
       "\t<li>'vector'</li>\n",
       "</ol>\n"
      ],
      "text/latex": [
       "\\begin{enumerate*}\n",
       "\\item 'logical'\n",
       "\\item 'vector'\n",
       "\\end{enumerate*}\n"
      ],
      "text/markdown": [
       "1. 'logical'\n",
       "2. 'vector'\n",
       "\n",
       "\n"
      ],
      "text/plain": [
       "[1] \"logical\" \"vector\" "
      ]
     },
     "metadata": {},
     "output_type": "display_data"
    },
    {
     "data": {
      "text/html": [
       "<ol class=list-inline>\n",
       "\t<li>'logical'</li>\n",
       "\t<li>'vector'</li>\n",
       "</ol>\n"
      ],
      "text/latex": [
       "\\begin{enumerate*}\n",
       "\\item 'logical'\n",
       "\\item 'vector'\n",
       "\\end{enumerate*}\n"
      ],
      "text/markdown": [
       "1. 'logical'\n",
       "2. 'vector'\n",
       "\n",
       "\n"
      ],
      "text/plain": [
       "[1] \"logical\" \"vector\" "
      ]
     },
     "metadata": {},
     "output_type": "display_data"
    }
   ],
   "source": [
    "# Definition of boolean Variable\n",
    "w = TRUE\n",
    "x = FALSE\n",
    "# Definition of a boolean variable with logical statements using ordering operators\n",
    "y = (1==2-1)\n",
    "z = (2>1)\n",
    "\n",
    "# Print the type of the variables\n",
    "is(x)\n",
    "is(y)\n",
    "is(z)"
   ]
  },
  {
   "cell_type": "markdown",
   "metadata": {},
   "source": [
    "Statements can also be connected. For this purpose the junctors i.e. the logical operators $\\land, \\lor, \\lnot$ (and, or, not) are defined. "
   ]
  },
  {
   "cell_type": "code",
   "execution_count": 2,
   "metadata": {},
   "outputs": [
    {
     "data": {
      "text/html": [
       "<span style=white-space:pre-wrap>'A and B:  FALSE'</span>"
      ],
      "text/latex": [
       "'A and B:  FALSE'"
      ],
      "text/markdown": [
       "<span style=white-space:pre-wrap>'A and B:  FALSE'</span>"
      ],
      "text/plain": [
       "[1] \"A and B:  FALSE\""
      ]
     },
     "metadata": {},
     "output_type": "display_data"
    },
    {
     "data": {
      "text/html": [
       "<span style=white-space:pre-wrap>'A or B:  TRUE'</span>"
      ],
      "text/latex": [
       "'A or B:  TRUE'"
      ],
      "text/markdown": [
       "<span style=white-space:pre-wrap>'A or B:  TRUE'</span>"
      ],
      "text/plain": [
       "[1] \"A or B:  TRUE\""
      ]
     },
     "metadata": {},
     "output_type": "display_data"
    },
    {
     "data": {
      "text/html": [
       "<span style=white-space:pre-wrap>'not A:  TRUE'</span>"
      ],
      "text/latex": [
       "'not A:  TRUE'"
      ],
      "text/markdown": [
       "<span style=white-space:pre-wrap>'not A:  TRUE'</span>"
      ],
      "text/plain": [
       "[1] \"not A:  TRUE\""
      ]
     },
     "metadata": {},
     "output_type": "display_data"
    }
   ],
   "source": [
    "# Suppose we have two statements\n",
    "A = FALSE\n",
    "B = TRUE\n",
    "\n",
    "# ... then we can connect the two statements\n",
    "paste(\"A and B: \",A & B)\n",
    "paste(\"A or B: \", A | B)\n",
    "paste(\"not A: \", !A)"
   ]
  },
  {
   "cell_type": "markdown",
   "metadata": {},
   "source": [
    "## Task 1\n",
    "\n",
    "Write a function $\\texttt{implies}(A,B)$ which evaluates if the statement $A\\implies B$ holds. \n",
    "\n",
    "*Hint*: $(A\\implies B)$ can also be written as $(A \\land B)\\lor \\lnot B$."
   ]
  },
  {
   "cell_type": "code",
   "execution_count": 1,
   "metadata": {},
   "outputs": [],
   "source": [
    "#todo"
   ]
  },
  {
   "cell_type": "markdown",
   "metadata": {},
   "source": [
    "## Task 2\n",
    "\n",
    "Write a function $\\texttt{equiv}(A,B)$ which evaluates the statement $A\\iff B$."
   ]
  },
  {
   "cell_type": "code",
   "execution_count": 2,
   "metadata": {},
   "outputs": [],
   "source": [
    "#todo"
   ]
  },
  {
   "cell_type": "markdown",
   "metadata": {},
   "source": [
    "## Task 3\n",
    "\n",
    "Suppose you have two logical statements $P$ and $Q$. Construct a truth table that displays the values a joint statement (consisting of these two statements connected with some junctors $\\land, \\lor, \\implies, \\iff$) can take."
   ]
  },
  {
   "cell_type": "code",
   "execution_count": 3,
   "metadata": {},
   "outputs": [],
   "source": [
    "#todo"
   ]
  },
  {
   "cell_type": "markdown",
   "metadata": {},
   "source": [
    "## Task 4:\n",
    "On an island there live two types of islanders: honest insulars and liars. Suppose the insular $A$ claims about himself and his brother $B$: \"At least one of us is a liar.\" Find out of which type both $A$ and his brother $B$ are.\n",
    "\n",
    "- Formulate the claim $C$ as a logical statement depending on the type of $A$ and $B$. For this purpose, $A=1$ if $A$ is honest and $A=0$, if $A$ is a liar."
   ]
  },
  {
   "cell_type": "code",
   "execution_count": 4,
   "metadata": {},
   "outputs": [],
   "source": [
    "#todo"
   ]
  },
  {
   "cell_type": "markdown",
   "metadata": {},
   "source": [
    "- Furthermore, we know that if $A$ is a liar then the claim $C$ is false and if $A$ is an honest perso the claim $C$ has to be true. Thus, formulate the total statement in dependence of $A$ and $B$."
   ]
  },
  {
   "cell_type": "code",
   "execution_count": 5,
   "metadata": {},
   "outputs": [],
   "source": [
    "# todo"
   ]
  },
  {
   "cell_type": "markdown",
   "metadata": {},
   "source": [
    "- Generate a truth table for all possible combinations of $A$ and $B$. Of which sort are both persons?"
   ]
  },
  {
   "cell_type": "code",
   "execution_count": 6,
   "metadata": {},
   "outputs": [],
   "source": [
    "# todo"
   ]
  },
  {
   "cell_type": "markdown",
   "metadata": {},
   "source": [
    "## Task 5\n",
    "\n",
    "Consider the same szenario as in Task 4. How does the result change if $A$ claims \"Exactly one of us is a liar\"."
   ]
  },
  {
   "cell_type": "code",
   "execution_count": 7,
   "metadata": {},
   "outputs": [],
   "source": [
    "# todo"
   ]
  },
  {
   "cell_type": "markdown",
   "metadata": {},
   "source": [
    "## Task 6\n",
    "In the book “The Logician and the Engineer, How George Boole and Claude Shannon Created the Information Age” P.J. Nahin you can find the following puzzle:\n",
    "\n",
    "On a desk there are three boxes, labeled with three letters $A$, $B$ und $C$. In each box, there is a coloured plastic chip. One chip is red, one white, and one blue. Where each chip can be found is unknown. You have one further hint: Exactly one of the following statements is true:\n",
    "\n",
    "- The red chip is in box $A$\n",
    "- The red chip is not in box $B$\n",
    "- Box $C$ does not contain the blue chip.\n",
    "\n",
    "Which chip is in which box?\n",
    "\n",
    "\n",
    "In order to solve the problem programmatically we can introduce an array with 9 boolean entries (TRUE/FALSE). We have, in principle, $2^9 = 512$ possibilities. With a computer we can check all possibilities.\n",
    "For the array, we define the following conventions:\n",
    "\n",
    "\n",
    " <table>\n",
    "  <tr>\n",
    "    <th></th>\n",
    "    <th>A</th>\n",
    "    <th>B</th>\n",
    "    <th>C</th>\n",
    "  </tr>\n",
    "  <tr>\n",
    "    <td>r</td>\n",
    "    <td>TRUE/FALSE</td>\n",
    "    <td>TRUE/FALSE</td>\n",
    "    <td>TRUE/FALSE</td>\n",
    "  </tr>\n",
    "   <tr>\n",
    "    <td>w</td>\n",
    "    <td>TRUE/FALSE</td>\n",
    "    <td>TRUE/FALSE</td>\n",
    "    <td>TRUE/FALSE</td>\n",
    "  </tr>\n",
    "   <tr>\n",
    "    <td>b</td>\n",
    "    <td>TRUE/FALSE</td>\n",
    "    <td>TRUE/FALSE</td>\n",
    "    <td>TRUE/FALSE</td>\n",
    "  </tr>\n",
    "</table> \n",
    "\n",
    "So, if in row 1 and column 1 there the value \"TRUE\" is set, then the box $A$ contains the red chip.\n",
    "Write a function $\\texttt{check}()$, which evaluates all possible statments."
   ]
  },
  {
   "cell_type": "code",
   "execution_count": null,
   "metadata": {},
   "outputs": [],
   "source": [
    " #todo"
   ]
  },
  {
   "cell_type": "code",
   "execution_count": null,
   "metadata": {},
   "outputs": [],
   "source": []
  }
 ],
 "metadata": {
  "kernelspec": {
   "display_name": "R",
   "language": "R",
   "name": "ir"
  },
  "language_info": {
   "codemirror_mode": "r",
   "file_extension": ".r",
   "mimetype": "text/x-r-source",
   "name": "R",
   "pygments_lexer": "r",
   "version": "3.5.1"
  }
 },
 "nbformat": 4,
 "nbformat_minor": 2
}
