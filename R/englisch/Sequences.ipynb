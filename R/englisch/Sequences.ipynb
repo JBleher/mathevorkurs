{
 "cells": [
  {
   "cell_type": "markdown",
   "metadata": {},
   "source": [
    "# Sequences"
   ]
  },
  {
   "cell_type": "markdown",
   "metadata": {},
   "source": [
    "## Task 1\n",
    "\n",
    "Write a function that for the sequence\n",
    "\\begin{align*}\n",
    "A_{n} &= \\dfrac{(-1)^{n} *4 n}{n^{2} + 2} \\\\[12pt]\n",
    "B_{n} &= \\dfrac{(-1)^{n} *4 n}{n + 2}\n",
    "\\end{align*}"
   ]
  },
  {
   "cell_type": "code",
   "execution_count": 1,
   "metadata": {},
   "outputs": [],
   "source": [
    "#todo"
   ]
  },
  {
   "cell_type": "markdown",
   "metadata": {},
   "source": [
    "## Task 2\n",
    "\n",
    "Create a vector of all sequence values $A_n$ and $B_n$ for $n \\in [1,100]$ while $n \\in \\mathbb{N}$."
   ]
  },
  {
   "cell_type": "code",
   "execution_count": 2,
   "metadata": {},
   "outputs": [],
   "source": [
    "#todo"
   ]
  },
  {
   "cell_type": "markdown",
   "metadata": {},
   "source": [
    "## Task 3\n",
    "\n",
    "Write a function that takes as input arguments a sequence-generating function (here A or B) as well as threshold-value $\\varepsilon$. The function should then determine, whether the sequence converges or not and, if so, return the limiting value of the sequence. \n",
    "\n",
    "For the purpose of this function, and similar to the Cauchy criterion, we define that a sequence converges if the following two characteristics are fulfilled:\n",
    "- the absolute value of the difference of the direct successor within the sequence is smaller than the threshold value, i.e. $|a_{n+1} - a_{n}|<\\varepsilon$.\n",
    "- the absolute value of the difference of the 100$^{\\text{th}}$ successor within the sequence is smaller than the threshold value, i.e. $|a_{n+100} - a_{n}|<\\varepsilon$.\n",
    "\n",
    "The point for which these two characterstics are fulfilled, we call $n_{\\varepsilon}$.\n",
    "\n",
    "Furthermore, we define for this function that a sequence is taxed as diverging if after $10^6$ iterations the above characteristisc are not fulfilled. \n",
    "\n",
    "In order to determine the limiting value, evaluate the sequence $10^4$ steps after $n_{\\varepsilon}$.\n",
    "\n",
    "In the case that your function converges, it should return the a list with the limiting value as well as the point $n_{\\varepsilon}$. In the case that it does not converge, the limiting value returned should be the string \"Error\" and $n_{\\varepsilon} = -1$.\n"
   ]
  },
  {
   "cell_type": "code",
   "execution_count": 1,
   "metadata": {},
   "outputs": [],
   "source": [
    "# todo"
   ]
  },
  {
   "cell_type": "markdown",
   "metadata": {},
   "source": [
    "## Task 4\n",
    "Plot the sequence $A_n$. Draw the limiting value $\\lim_{n \\to \\infty} a_n = a$, which the function from Task 3 has determined into the graph. Use a thresholdvalue $\\varepsilon= 0.4$. Shade the area $[a-\\varepsilon,a+\\varepsilon]$ grey. Also highlight the value from which on the convergence criteria (that your function uses) are satisfied i.e. $n>n_\\varepsilon$."
   ]
  },
  {
   "cell_type": "code",
   "execution_count": 2,
   "metadata": {},
   "outputs": [],
   "source": [
    "#todo\n"
   ]
  },
  {
   "cell_type": "markdown",
   "metadata": {},
   "source": [
    "## Task 5\n",
    "\n",
    "Write a function that takes as input arguments a sequence-generating function, a threshold value $\\varepsilon$ and an upper limit for $n$ up to which the sequence should be plotted. The function should have no return value but produce a graph like in task 4.\n",
    "\n",
    "Test the function for the sequence:\n",
    "\n",
    "\\begin{align*}\n",
    "C_n = 1+\\frac{1}{n}\n",
    "\\end{align*}"
   ]
  },
  {
   "cell_type": "code",
   "execution_count": 4,
   "metadata": {},
   "outputs": [],
   "source": [
    "#todo\n",
    "\n"
   ]
  },
  {
   "cell_type": "markdown",
   "metadata": {},
   "source": [
    "## Task 6\n",
    "\n",
    "Use the function you just have created to plot the geometrical series $q = \\frac{1}{1.02}$ for partial sums up to $ n = 1000$. <br>\n",
    "\n",
    "\\begin{align*}\n",
    "S_{n} = \\sum\\limits_{k=0}^{n}\\left(\\frac{1}{1.02}\\right)^{k}\n",
    "\\end{align*}"
   ]
  },
  {
   "cell_type": "code",
   "execution_count": 5,
   "metadata": {},
   "outputs": [],
   "source": [
    "#todo\n"
   ]
  },
  {
   "cell_type": "code",
   "execution_count": null,
   "metadata": {},
   "outputs": [],
   "source": []
  }
 ],
 "metadata": {
  "kernelspec": {
   "display_name": "R",
   "language": "R",
   "name": "ir"
  },
  "language_info": {
   "codemirror_mode": "r",
   "file_extension": ".r",
   "mimetype": "text/x-r-source",
   "name": "R",
   "pygments_lexer": "r",
   "version": "3.5.0"
  }
 },
 "nbformat": 4,
 "nbformat_minor": 2
}
