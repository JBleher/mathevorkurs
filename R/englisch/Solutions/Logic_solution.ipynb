{
 "cells": [
  {
   "cell_type": "markdown",
   "metadata": {},
   "source": [
    "# Logic"
   ]
  },
  {
   "cell_type": "markdown",
   "metadata": {},
   "source": [
    "Logical statements form the foundation of computational programs. Often tasks shall be accomplished until or while a certain logical statement is either true or false (until/while loops). In other cases program code is only evaluated if a certain condition is satisfied (if-else-statements, case distinction).\n",
    "\n",
    "The fundamental building block of logical statements is the categorization as being either true or false. Variables which can take either one of those two values, are called Boolean variables."
   ]
  },
  {
   "cell_type": "code",
   "execution_count": 1,
   "metadata": {},
   "outputs": [
    {
     "data": {
      "text/html": [
       "<ol class=list-inline>\n",
       "\t<li>'logical'</li>\n",
       "\t<li>'vector'</li>\n",
       "</ol>\n"
      ],
      "text/latex": [
       "\\begin{enumerate*}\n",
       "\\item 'logical'\n",
       "\\item 'vector'\n",
       "\\end{enumerate*}\n"
      ],
      "text/markdown": [
       "1. 'logical'\n",
       "2. 'vector'\n",
       "\n",
       "\n"
      ],
      "text/plain": [
       "[1] \"logical\" \"vector\" "
      ]
     },
     "metadata": {},
     "output_type": "display_data"
    },
    {
     "data": {
      "text/html": [
       "<ol class=list-inline>\n",
       "\t<li>'logical'</li>\n",
       "\t<li>'vector'</li>\n",
       "</ol>\n"
      ],
      "text/latex": [
       "\\begin{enumerate*}\n",
       "\\item 'logical'\n",
       "\\item 'vector'\n",
       "\\end{enumerate*}\n"
      ],
      "text/markdown": [
       "1. 'logical'\n",
       "2. 'vector'\n",
       "\n",
       "\n"
      ],
      "text/plain": [
       "[1] \"logical\" \"vector\" "
      ]
     },
     "metadata": {},
     "output_type": "display_data"
    },
    {
     "data": {
      "text/html": [
       "<ol class=list-inline>\n",
       "\t<li>'logical'</li>\n",
       "\t<li>'vector'</li>\n",
       "</ol>\n"
      ],
      "text/latex": [
       "\\begin{enumerate*}\n",
       "\\item 'logical'\n",
       "\\item 'vector'\n",
       "\\end{enumerate*}\n"
      ],
      "text/markdown": [
       "1. 'logical'\n",
       "2. 'vector'\n",
       "\n",
       "\n"
      ],
      "text/plain": [
       "[1] \"logical\" \"vector\" "
      ]
     },
     "metadata": {},
     "output_type": "display_data"
    }
   ],
   "source": [
    "# Definition of boolean Variable\n",
    "w = TRUE\n",
    "x = FALSE\n",
    "# Definition of a boolean variable with logical statements using ordering operators\n",
    "y = (1==2-1)\n",
    "z = (2>1)\n",
    "\n",
    "# Print the type of the variables\n",
    "is(x)\n",
    "is(y)\n",
    "is(z)"
   ]
  },
  {
   "cell_type": "markdown",
   "metadata": {},
   "source": [
    "Statements can also be connected. Therefore, for this purpose the junctors i.e. the logical operators $\\land, \\lor, \\lnot$ (and, or, not) are defined. "
   ]
  },
  {
   "cell_type": "code",
   "execution_count": 2,
   "metadata": {},
   "outputs": [
    {
     "data": {
      "text/html": [
       "<span style=white-space:pre-wrap>'A and B:  FALSE'</span>"
      ],
      "text/latex": [
       "'A and B:  FALSE'"
      ],
      "text/markdown": [
       "<span style=white-space:pre-wrap>'A and B:  FALSE'</span>"
      ],
      "text/plain": [
       "[1] \"A and B:  FALSE\""
      ]
     },
     "metadata": {},
     "output_type": "display_data"
    },
    {
     "data": {
      "text/html": [
       "<span style=white-space:pre-wrap>'A or B:  TRUE'</span>"
      ],
      "text/latex": [
       "'A or B:  TRUE'"
      ],
      "text/markdown": [
       "<span style=white-space:pre-wrap>'A or B:  TRUE'</span>"
      ],
      "text/plain": [
       "[1] \"A or B:  TRUE\""
      ]
     },
     "metadata": {},
     "output_type": "display_data"
    },
    {
     "data": {
      "text/html": [
       "<span style=white-space:pre-wrap>'not A:  TRUE'</span>"
      ],
      "text/latex": [
       "'not A:  TRUE'"
      ],
      "text/markdown": [
       "<span style=white-space:pre-wrap>'not A:  TRUE'</span>"
      ],
      "text/plain": [
       "[1] \"not A:  TRUE\""
      ]
     },
     "metadata": {},
     "output_type": "display_data"
    }
   ],
   "source": [
    "# Suppose we have two statements\n",
    "A = FALSE\n",
    "B = TRUE\n",
    "\n",
    "# ... dann können wir diese Aussagen miteinander verknüpfen\n",
    "paste(\"A and B: \",A & B)\n",
    "paste(\"A or B: \", A | B)\n",
    "paste(\"not A: \", !A)"
   ]
  },
  {
   "cell_type": "markdown",
   "metadata": {},
   "source": [
    "## Task 1\n",
    "\n",
    "Write a function $\\texttt{implies}(A,B)$ which evaluates if the statement $A\\implies B$ holds. \n",
    "\n",
    "*Hint*: $(A\\implies B)$ can also be written as $(A \\land B)\\lor \\lnot B$."
   ]
  },
  {
   "cell_type": "code",
   "execution_count": 3,
   "metadata": {},
   "outputs": [
    {
     "data": {
      "text/html": [
       "'A implies B: FALSE'"
      ],
      "text/latex": [
       "'A implies B: FALSE'"
      ],
      "text/markdown": [
       "'A implies B: FALSE'"
      ],
      "text/plain": [
       "[1] \"A implies B: FALSE\""
      ]
     },
     "metadata": {},
     "output_type": "display_data"
    }
   ],
   "source": [
    "implies <- function(A,B)\n",
    "    return((A & B)| !B)\n",
    "\n",
    "paste(\"A implies B:\",implies(A,B))"
   ]
  },
  {
   "cell_type": "markdown",
   "metadata": {},
   "source": [
    "## Task 2\n",
    "\n",
    "Write a function $\\texttt{equiv}(A,B)$ which evaluates the statement $A\\iff B$."
   ]
  },
  {
   "cell_type": "code",
   "execution_count": 4,
   "metadata": {},
   "outputs": [
    {
     "data": {
      "text/html": [
       "FALSE"
      ],
      "text/latex": [
       "FALSE"
      ],
      "text/markdown": [
       "FALSE"
      ],
      "text/plain": [
       "[1] FALSE"
      ]
     },
     "metadata": {},
     "output_type": "display_data"
    },
    {
     "data": {
      "text/html": [
       "'A is equivalent to B: FALSE'"
      ],
      "text/latex": [
       "'A is equivalent to B: FALSE'"
      ],
      "text/markdown": [
       "'A is equivalent to B: FALSE'"
      ],
      "text/plain": [
       "[1] \"A is equivalent to B: FALSE\""
      ]
     },
     "metadata": {},
     "output_type": "display_data"
    }
   ],
   "source": [
    "equiv <- function(A,B){\n",
    "    return((A & B) | ((!A) & (!B)))\n",
    "}\n",
    "equiv(A,B)\n",
    "paste(\"A is equivalent to B:\",equiv(A,B))"
   ]
  },
  {
   "cell_type": "markdown",
   "metadata": {},
   "source": [
    "## Task 3\n",
    "\n",
    "Suppose you have two logical statements $P$ and $Q$. Construct a truth table that displays the values a joint statement (consisting of these two statements connected with some junctors $\\land, \\lor, \\implies, \\iff$) can take."
   ]
  },
  {
   "cell_type": "code",
   "execution_count": 5,
   "metadata": {},
   "outputs": [
    {
     "data": {
      "text/html": [
       "<table>\n",
       "<thead><tr><th scope=col>P</th><th scope=col>Q</th><th scope=col>and</th><th scope=col>or</th><th scope=col>implies</th><th scope=col>equivalent</th></tr></thead>\n",
       "<tbody>\n",
       "\t<tr><td> TRUE</td><td> TRUE</td><td> TRUE</td><td> TRUE</td><td> TRUE</td><td>TRUE </td></tr>\n",
       "\t<tr><td> TRUE</td><td>FALSE</td><td>FALSE</td><td> TRUE</td><td> TRUE</td><td>TRUE </td></tr>\n",
       "\t<tr><td>FALSE</td><td> TRUE</td><td>FALSE</td><td> TRUE</td><td>FALSE</td><td>TRUE </td></tr>\n",
       "\t<tr><td>FALSE</td><td>FALSE</td><td>FALSE</td><td>FALSE</td><td> TRUE</td><td>TRUE </td></tr>\n",
       "</tbody>\n",
       "</table>\n"
      ],
      "text/latex": [
       "\\begin{tabular}{llllll}\n",
       " P & Q & and & or & implies & equivalent\\\\\n",
       "\\hline\n",
       "\t  TRUE &  TRUE &  TRUE &  TRUE &  TRUE & TRUE \\\\\n",
       "\t  TRUE & FALSE & FALSE &  TRUE &  TRUE & TRUE \\\\\n",
       "\t FALSE &  TRUE & FALSE &  TRUE & FALSE & TRUE \\\\\n",
       "\t FALSE & FALSE & FALSE & FALSE &  TRUE & TRUE \\\\\n",
       "\\end{tabular}\n"
      ],
      "text/markdown": [
       "\n",
       "P | Q | and | or | implies | equivalent | \n",
       "|---|---|---|---|\n",
       "|  TRUE |  TRUE |  TRUE |  TRUE |  TRUE | TRUE  | \n",
       "|  TRUE | FALSE | FALSE |  TRUE |  TRUE | TRUE  | \n",
       "| FALSE |  TRUE | FALSE |  TRUE | FALSE | TRUE  | \n",
       "| FALSE | FALSE | FALSE | FALSE |  TRUE | TRUE  | \n",
       "\n",
       "\n"
      ],
      "text/plain": [
       "     P     Q     and   or    implies equivalent\n",
       "[1,]  TRUE  TRUE  TRUE  TRUE  TRUE   TRUE      \n",
       "[2,]  TRUE FALSE FALSE  TRUE  TRUE   TRUE      \n",
       "[3,] FALSE  TRUE FALSE  TRUE FALSE   TRUE      \n",
       "[4,] FALSE FALSE FALSE FALSE  TRUE   TRUE      "
      ]
     },
     "metadata": {},
     "output_type": "display_data"
    }
   ],
   "source": [
    "P = c(TRUE, FALSE)\n",
    "Q = c(TRUE, FALSE)\n",
    "\n",
    "Pcol <- c(rbind(P,P))\n",
    "Qcol <- c(Q,Q)\n",
    "\n",
    "\n",
    "and <- Pcol & Qcol\n",
    "or <- Pcol | Qcol\n",
    "impl <- implies(Pcol,Qcol)\n",
    "eqv <- equiv(P,Q)\n",
    "\n",
    "\n",
    "ttable <- cbind(Pcol,Qcol,and,or,impl,eqv)\n",
    "colnames(ttable) <- c(\"P\",\"Q\",\"and\",\"or\",\"implies\",\"equivalent\")\n",
    "\n",
    "ttable"
   ]
  },
  {
   "cell_type": "markdown",
   "metadata": {},
   "source": [
    "## Task 4:\n",
    "On an island there live two types of islanders: honest insulars and liars. Suppose the insular $A$ claims about himself and his brother $B$: \"At least one of us is a liar.\" Find out of which type both $A$ and his brother $B$ are.\n",
    "\n",
    "- Formulate the claim $C$ as a logical statement depending on the type of $A$ and $B$. For this purpose, $A=1$ if $A$ is honest and $A=0$, if $A$ is a liar."
   ]
  },
  {
   "cell_type": "code",
   "execution_count": 6,
   "metadata": {},
   "outputs": [],
   "source": [
    "# todo\n",
    "\n",
    "CC <- function(A,B){\n",
    "    return((A & (!B)) | ((!A) & B) | ((!A) & (!B)))\n",
    "}\n",
    "    "
   ]
  },
  {
   "cell_type": "markdown",
   "metadata": {},
   "source": [
    "- Furthermore, we know that if $A$ is a liar then the claim $C$ is false and if $A$ is an honest perso the claim $C$ has to be true. Thus, formulate the total statement in dependence of $A$ and $B$."
   ]
  },
  {
   "cell_type": "code",
   "execution_count": 7,
   "metadata": {},
   "outputs": [],
   "source": [
    "# todo\n",
    "\n",
    "S <- function(A,B){\n",
    "    return((A & CC(A,B)) | ((!A)  & (!CC(A,B))))\n",
    "}\n",
    "    "
   ]
  },
  {
   "cell_type": "markdown",
   "metadata": {},
   "source": [
    "- Generate a truth table for all possible combinations of $A$ and $B$. Of which sort are both persons?"
   ]
  },
  {
   "cell_type": "code",
   "execution_count": 8,
   "metadata": {},
   "outputs": [
    {
     "data": {
      "text/html": [
       "<table>\n",
       "<thead><tr><th scope=col>Acol</th><th scope=col>Bcol</th><th scope=col></th></tr></thead>\n",
       "<tbody>\n",
       "\t<tr><td> TRUE</td><td> TRUE</td><td>FALSE</td></tr>\n",
       "\t<tr><td> TRUE</td><td>FALSE</td><td> TRUE</td></tr>\n",
       "\t<tr><td>FALSE</td><td> TRUE</td><td>FALSE</td></tr>\n",
       "\t<tr><td>FALSE</td><td>FALSE</td><td>FALSE</td></tr>\n",
       "</tbody>\n",
       "</table>\n"
      ],
      "text/latex": [
       "\\begin{tabular}{lll}\n",
       " Acol & Bcol & \\\\\n",
       "\\hline\n",
       "\t  TRUE &  TRUE & FALSE\\\\\n",
       "\t  TRUE & FALSE &  TRUE\\\\\n",
       "\t FALSE &  TRUE & FALSE\\\\\n",
       "\t FALSE & FALSE & FALSE\\\\\n",
       "\\end{tabular}\n"
      ],
      "text/markdown": [
       "\n",
       "Acol | Bcol |  | \n",
       "|---|---|---|---|\n",
       "|  TRUE |  TRUE | FALSE | \n",
       "|  TRUE | FALSE |  TRUE | \n",
       "| FALSE |  TRUE | FALSE | \n",
       "| FALSE | FALSE | FALSE | \n",
       "\n",
       "\n"
      ],
      "text/plain": [
       "     Acol  Bcol       \n",
       "[1,]  TRUE  TRUE FALSE\n",
       "[2,]  TRUE FALSE  TRUE\n",
       "[3,] FALSE  TRUE FALSE\n",
       "[4,] FALSE FALSE FALSE"
      ]
     },
     "metadata": {},
     "output_type": "display_data"
    }
   ],
   "source": [
    "# todo\n",
    "\n",
    "# The two vectors and with their two values\n",
    "A = c(TRUE, FALSE)\n",
    "B = c(TRUE, FALSE)\n",
    "\n",
    "Acol <- c(rbind(A,A))\n",
    "Bcol <- c(B,B)\n",
    "\n",
    "ttable <- cbind(Acol,Bcol,S(Acol,Bcol))\n",
    "ttable\n",
    "\n",
    "# A  tells the truth\n",
    "# B is a liar"
   ]
  },
  {
   "cell_type": "markdown",
   "metadata": {},
   "source": [
    "## Task 5\n",
    "\n",
    "Consider the same szenario as in Task 4. How does the result change if $A$ claims \"Exactly one of us is a liar\"."
   ]
  },
  {
   "cell_type": "code",
   "execution_count": 9,
   "metadata": {},
   "outputs": [
    {
     "data": {
      "text/html": [
       "<table>\n",
       "<thead><tr><th scope=col>Acol</th><th scope=col>Bcol</th><th scope=col></th></tr></thead>\n",
       "<tbody>\n",
       "\t<tr><td> TRUE</td><td> TRUE</td><td>FALSE</td></tr>\n",
       "\t<tr><td> TRUE</td><td>FALSE</td><td> TRUE</td></tr>\n",
       "\t<tr><td>FALSE</td><td> TRUE</td><td>FALSE</td></tr>\n",
       "\t<tr><td>FALSE</td><td>FALSE</td><td> TRUE</td></tr>\n",
       "</tbody>\n",
       "</table>\n"
      ],
      "text/latex": [
       "\\begin{tabular}{lll}\n",
       " Acol & Bcol & \\\\\n",
       "\\hline\n",
       "\t  TRUE &  TRUE & FALSE\\\\\n",
       "\t  TRUE & FALSE &  TRUE\\\\\n",
       "\t FALSE &  TRUE & FALSE\\\\\n",
       "\t FALSE & FALSE &  TRUE\\\\\n",
       "\\end{tabular}\n"
      ],
      "text/markdown": [
       "\n",
       "Acol | Bcol |  | \n",
       "|---|---|---|---|\n",
       "|  TRUE |  TRUE | FALSE | \n",
       "|  TRUE | FALSE |  TRUE | \n",
       "| FALSE |  TRUE | FALSE | \n",
       "| FALSE | FALSE |  TRUE | \n",
       "\n",
       "\n"
      ],
      "text/plain": [
       "     Acol  Bcol       \n",
       "[1,]  TRUE  TRUE FALSE\n",
       "[2,]  TRUE FALSE  TRUE\n",
       "[3,] FALSE  TRUE FALSE\n",
       "[4,] FALSE FALSE  TRUE"
      ]
     },
     "metadata": {},
     "output_type": "display_data"
    }
   ],
   "source": [
    "# todo\n",
    "#Alternative statement\n",
    "CCalt <- function(A,B){\n",
    "    return((A & (!B)) | ((!A) & B))\n",
    "}\n",
    "\n",
    "Salt <- function(A,B){\n",
    "    return((A & CCalt(A,B)) | ((!A)  & (!CCalt(A,B))))\n",
    "}\n",
    "\n",
    "ttable <- cbind(Acol,Bcol,Salt(Acol,Bcol))\n",
    "ttable\n",
    "\n",
    "# Then there are two possibilities, either both are liars (and the statement is false)\n",
    "# or A tells the truth and the statement is correct."
   ]
  },
  {
   "cell_type": "markdown",
   "metadata": {},
   "source": [
    "## Task 6\n",
    "In the book “The Logician and the Engineer, How George Boole and Claude Shannon Created the Information Age” P.J. Nahin you can find the following puzzle:\n",
    "\n",
    "On a desk there are three boxes, labeled with three letters $A$, $B$ und $C$. In each box, there is a coloured plastic chip. One chip is red, one white, and one blue. Where each chip can be found is unknown. You have one further hint: Exactly one of the following statements is true:\n",
    "\n",
    "- The red chip is in box $A$\n",
    "- The red chip is not in box $B$\n",
    "- Box $C$ does not contain the blue chip.\n",
    "\n",
    "Which chip is in which box?\n",
    "\n",
    "\n",
    "In order to solve the problem programmatically we can introduce an array with 9 boolean entries (TRUE/FALSE). We have, in principle, $2^9 = 512$ possibilities. With a computer we can check all possibilities.\n",
    "For the array, we define the following conventions:\n",
    "\n",
    "\n",
    " <table>\n",
    "  <tr>\n",
    "    <th></th>\n",
    "    <th>A</th>\n",
    "    <th>B</th>\n",
    "    <th>C</th>\n",
    "  </tr>\n",
    "  <tr>\n",
    "    <td>r</td>\n",
    "    <td>TRUE/FALSE</td>\n",
    "    <td>TRUE/FALSE</td>\n",
    "    <td>TRUE/FALSE</td>\n",
    "  </tr>\n",
    "   <tr>\n",
    "    <td>w</td>\n",
    "    <td>TRUE/FALSE</td>\n",
    "    <td>TRUE/FALSE</td>\n",
    "    <td>TRUE/FALSE</td>\n",
    "  </tr>\n",
    "   <tr>\n",
    "    <td>b</td>\n",
    "    <td>TRUE/FALSE</td>\n",
    "    <td>TRUE/FALSE</td>\n",
    "    <td>TRUE/FALSE</td>\n",
    "  </tr>\n",
    "</table> \n",
    "\n",
    "So, if in row 1 and column 1 there the value \"TRUE\" is set, then the box $A$ contains the red chip.\n",
    "Write a function $\\texttt{check}()$, which evaluates all possible statments."
   ]
  },
  {
   "cell_type": "code",
   "execution_count": 56,
   "metadata": {},
   "outputs": [
    {
     "name": "stdout",
     "output_type": "stream",
     "text": [
      "     [,1] [,2] [,3]\n",
      "[1,]    0    0    1\n",
      "[2,]    1    0    0\n",
      "[3,]    0    1    0\n"
     ]
    }
   ],
   "source": [
    "S = matrix(9,1)\n",
    "\n",
    "check <- function(Array){\n",
    "    #Check if 3 chips are in the array\n",
    "    Check1 = sum(Array)==3\n",
    "    #Check if 1 chip is in each box\n",
    "    Check2 = sum(apply(Array,1,sum)==c(1,1,1))==3\n",
    "    #Check if the chips have different colours\n",
    "    Check3 = sum(apply(Array,2,sum)==c(1,1,1))==3\n",
    "    #formulate the statements in the hint\n",
    "    I1 = Array[1,1] == 1\n",
    "    I2 = Array[2,1] == 0\n",
    "    I3 = Array[3,3] == 0\n",
    "    # Exactly one statement has to be true\n",
    "    Info = (I1 & (!I2) & (!I3)) | ((!I1) & I2 & (!I3)) | ((!I1) & (!I2) & I3)\n",
    "    # Make a joint overall statement\n",
    "    return(Check1 & Check2 & Check3 & Info)\n",
    "}\n",
    "\n",
    "for(ii in seq(1,2^9,1)){\n",
    "    S <- matrix(as.integer(intToBits(ii))[1:9],nrow=3,byrow=TRUE)\n",
    "    if(check(S)){\n",
    "        print(S)\n",
    "    }\n",
    "}\n",
    "    "
   ]
  },
  {
   "cell_type": "code",
   "execution_count": null,
   "metadata": {},
   "outputs": [],
   "source": []
  }
 ],
 "metadata": {
  "kernelspec": {
   "display_name": "R",
   "language": "R",
   "name": "ir"
  },
  "language_info": {
   "codemirror_mode": "r",
   "file_extension": ".r",
   "mimetype": "text/x-r-source",
   "name": "R",
   "pygments_lexer": "r",
   "version": "3.5.1"
  }
 },
 "nbformat": 4,
 "nbformat_minor": 2
}
