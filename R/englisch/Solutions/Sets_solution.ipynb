{
 "cells": [
  {
   "cell_type": "markdown",
   "metadata": {},
   "source": [
    "# Sets"
   ]
  },
  {
   "cell_type": "markdown",
   "metadata": {},
   "source": [
    "In R there is no standard variable type that adequately handles the definition of sets. In order to work with sets, the packages \"sets\" has been created."
   ]
  },
  {
   "cell_type": "code",
   "execution_count": 1,
   "metadata": {},
   "outputs": [],
   "source": [
    "library(\"sets\")"
   ]
  },
  {
   "cell_type": "code",
   "execution_count": 2,
   "metadata": {},
   "outputs": [
    {
     "name": "stdout",
     "output_type": "stream",
     "text": [
      "{1, 2}\n"
     ]
    },
    {
     "data": {
      "text/html": [
       "'set'"
      ],
      "text/latex": [
       "'set'"
      ],
      "text/markdown": [
       "'set'"
      ],
      "text/plain": [
       "[1] \"set\""
      ]
     },
     "metadata": {},
     "output_type": "display_data"
    },
    {
     "name": "stdout",
     "output_type": "stream",
     "text": [
      "{\"A\", \"B\", 1}\n"
     ]
    },
    {
     "data": {
      "text/html": [
       "'set'"
      ],
      "text/latex": [
       "'set'"
      ],
      "text/markdown": [
       "'set'"
      ],
      "text/plain": [
       "[1] \"set\""
      ]
     },
     "metadata": {},
     "output_type": "display_data"
    }
   ],
   "source": [
    "# Definition of a set\n",
    "A = set(1,2,1,2)\n",
    "print(A)\n",
    "is(A)\n",
    "B = set(1,'A','B','A')\n",
    "print(B)\n",
    "is(B)"
   ]
  },
  {
   "cell_type": "markdown",
   "metadata": {},
   "source": [
    "The statement $a \\in A $ can in R then implemented almost literally with R's <a href=\"http://stat.ethz.ch/R-manual/R-devel/library/base/html/match.html\">%in% operator</a>. Also the empty set can literally be defined as an empty call of the $\\texttt{set()}$ function."
   ]
  },
  {
   "cell_type": "code",
   "execution_count": 3,
   "metadata": {},
   "outputs": [
    {
     "data": {
      "text/html": [
       "'Ist a = 1 in der Menge A enthalten? '"
      ],
      "text/latex": [
       "'Ist a = 1 in der Menge A enthalten? '"
      ],
      "text/markdown": [
       "'Ist a = 1 in der Menge A enthalten? '"
      ],
      "text/plain": [
       "[1] \"Ist a = 1 in der Menge A enthalten? \""
      ]
     },
     "metadata": {},
     "output_type": "display_data"
    },
    {
     "data": {
      "text/html": [
       "TRUE"
      ],
      "text/latex": [
       "TRUE"
      ],
      "text/markdown": [
       "TRUE"
      ],
      "text/plain": [
       "[1] TRUE"
      ]
     },
     "metadata": {},
     "output_type": "display_data"
    },
    {
     "data": {
      "text/html": [
       "'Die leere Menge:'"
      ],
      "text/latex": [
       "'Die leere Menge:'"
      ],
      "text/markdown": [
       "'Die leere Menge:'"
      ],
      "text/plain": [
       "[1] \"Die leere Menge:\""
      ]
     },
     "metadata": {},
     "output_type": "display_data"
    },
    {
     "data": {
      "text/plain": [
       "{}"
      ]
     },
     "metadata": {},
     "output_type": "display_data"
    }
   ],
   "source": [
    "# Is a in A?\n",
    "a =1 \n",
    "\"Ist a = 1 in der Menge A enthalten? \"\n",
    "a %in% A\n",
    "\n",
    "# The empty set\n",
    "\"The empty set:\"\n",
    "set()"
   ]
  },
  {
   "cell_type": "markdown",
   "metadata": {},
   "source": [
    "A Set of operations for sets is implemented in the R package.\n",
    "1. $A \\cup B$ - The Union\n",
    "2. $A \\cap B$ - The Intersection\n",
    "3. $A \\setminus B$  - The difference\n",
    "4. $A \\triangle B$ - the symmetric difference"
   ]
  },
  {
   "cell_type": "code",
   "execution_count": 4,
   "metadata": {},
   "outputs": [
    {
     "data": {
      "text/html": [
       "'A ='"
      ],
      "text/latex": [
       "'A ='"
      ],
      "text/markdown": [
       "'A ='"
      ],
      "text/plain": [
       "[1] \"A =\""
      ]
     },
     "metadata": {},
     "output_type": "display_data"
    },
    {
     "data": {
      "text/plain": [
       "{1, 2}"
      ]
     },
     "metadata": {},
     "output_type": "display_data"
    },
    {
     "data": {
      "text/html": [
       "'B ='"
      ],
      "text/latex": [
       "'B ='"
      ],
      "text/markdown": [
       "'B ='"
      ],
      "text/plain": [
       "[1] \"B =\""
      ]
     },
     "metadata": {},
     "output_type": "display_data"
    },
    {
     "data": {
      "text/plain": [
       "{\"A\", \"B\", 1}"
      ]
     },
     "metadata": {},
     "output_type": "display_data"
    },
    {
     "data": {
      "text/html": [
       "'Die Vereininungsmenge:'"
      ],
      "text/latex": [
       "'Die Vereininungsmenge:'"
      ],
      "text/markdown": [
       "'Die Vereininungsmenge:'"
      ],
      "text/plain": [
       "[1] \"Die Vereininungsmenge:\""
      ]
     },
     "metadata": {},
     "output_type": "display_data"
    },
    {
     "data": {
      "text/plain": [
       "{\"A\", \"B\", 1, 2}"
      ]
     },
     "metadata": {},
     "output_type": "display_data"
    },
    {
     "data": {
      "text/html": [
       "'Die Schnittmenge: '"
      ],
      "text/latex": [
       "'Die Schnittmenge: '"
      ],
      "text/markdown": [
       "'Die Schnittmenge: '"
      ],
      "text/plain": [
       "[1] \"Die Schnittmenge: \""
      ]
     },
     "metadata": {},
     "output_type": "display_data"
    },
    {
     "data": {
      "text/plain": [
       "{1}"
      ]
     },
     "metadata": {},
     "output_type": "display_data"
    },
    {
     "data": {
      "text/html": [
       "'A ohne Elemente aus B: '"
      ],
      "text/latex": [
       "'A ohne Elemente aus B: '"
      ],
      "text/markdown": [
       "'A ohne Elemente aus B: '"
      ],
      "text/plain": [
       "[1] \"A ohne Elemente aus B: \""
      ]
     },
     "metadata": {},
     "output_type": "display_data"
    },
    {
     "data": {
      "text/plain": [
       "{2}"
      ]
     },
     "metadata": {},
     "output_type": "display_data"
    },
    {
     "data": {
      "text/html": [
       "'Die symmetrische Differenz: '"
      ],
      "text/latex": [
       "'Die symmetrische Differenz: '"
      ],
      "text/markdown": [
       "'Die symmetrische Differenz: '"
      ],
      "text/plain": [
       "[1] \"Die symmetrische Differenz: \""
      ]
     },
     "metadata": {},
     "output_type": "display_data"
    },
    {
     "data": {
      "text/plain": [
       "{\"A\", \"B\", 2}"
      ]
     },
     "metadata": {},
     "output_type": "display_data"
    }
   ],
   "source": [
    "\"A =\"\n",
    "A\n",
    "\"B =\"\n",
    "B\n",
    "\n",
    "#1. $A \\cup B$ - union\n",
    "\"The union:\"\n",
    "A | B\n",
    "#2. $A \\cap B$ - intesetction\n",
    "\"The interesection: \"\n",
    "A & B\n",
    "#3. $A \\setminus B$  -  difference\n",
    "\"A without elements from B: \"\n",
    "A - B\n",
    "#4. $A \\triangle B$ - the symmetric difference\n",
    "\"The symmetric difference: \"\n",
    "A %D% B"
   ]
  },
  {
   "cell_type": "markdown",
   "metadata": {},
   "source": [
    "## Definition of sets via set comprehension\n",
    "\n",
    "Sets can be defined by a free variable. For example, let's define the set $V = \\{v \\in \\mathbb{N} \\,|\\, 0 < v^2 < 20\\}$. As can be seen in the definition, we regress on a free variable $v \\in \\mathbb{N}$. In R we will have to define the set of all possible $v$ beforehand as vector. We then subset the vector by a logical statement with the accessors [ ]. The result will be a numerical vector. In order to change the variable type to \"set\", we can use the function $\\texttt{as.set()}$ (rather than the function $\\texttt{set}$. \n",
    "\n",
    "*(Since we cannot define the infinite set of natural numbers as the universe, we limit our considerations to natural numbers below or equal to 20.)*"
   ]
  },
  {
   "cell_type": "code",
   "execution_count": 5,
   "metadata": {},
   "outputs": [
    {
     "name": "stdout",
     "output_type": "stream",
     "text": [
      "{1L, 2L, 3L, 4L}\n"
     ]
    }
   ],
   "source": [
    "vv <- 1:20\n",
    "VV <- as.set(vv[vv^2>0 & 20>vv^2])\n",
    "print(VV)"
   ]
  },
  {
   "cell_type": "markdown",
   "metadata": {},
   "source": [
    "## Definition of sets of sets\n",
    "\n",
    "The definition of sets of sets in R using the \"sets\" package is easy, no additional datatype is needed."
   ]
  },
  {
   "cell_type": "code",
   "execution_count": 6,
   "metadata": {},
   "outputs": [
    {
     "name": "stdout",
     "output_type": "stream",
     "text": [
      "{{1, 2}, {1, 2, 3}}\n",
      "{{1, 2, 3}}\n"
     ]
    }
   ],
   "source": [
    "# Define the sets A_1 and A_2\n",
    "A1 = set(1,2,3)\n",
    "A2 = set(1,2)\n",
    "\n",
    "# Create the family from A_1 and A_2\n",
    "A = set(A1,A2)\n",
    "print(A)\n",
    "\n",
    "# Define the sets B_1 and B_2 (NB: B_1 = B_2)\n",
    "B1 = set(1,2,3)\n",
    "B2 = set(2,3,1)\n",
    "# Create the family from B_1 and B_2, with only one set since B_1 = B_2\n",
    "B = set(B1,B2)\n",
    "print(B)"
   ]
  },
  {
   "cell_type": "markdown",
   "metadata": {},
   "source": [
    "## Task 1:\n",
    "\n",
    "Write a function, that returns the power set of some set $S$. Don't use the build in function $\\texttt{2^S}$."
   ]
  },
  {
   "cell_type": "code",
   "execution_count": 7,
   "metadata": {},
   "outputs": [
    {
     "data": {
      "text/plain": [
       "{{}, {1}, {2}, {\"A\"}, {1, 2}, {\"A\", 1}, {\"A\", 2}, {\"A\", 1, 2}}"
      ]
     },
     "metadata": {},
     "output_type": "display_data"
    },
    {
     "data": {
      "text/plain": [
       "{{}, {1}, {2}, {\"A\"}, {1, 2}, {\"A\", 1}, {\"A\", 2}, {\"A\", 1, 2}}"
      ]
     },
     "metadata": {},
     "output_type": "display_data"
    }
   ],
   "source": [
    "#Here is the set S\n",
    "S <- set(1,2,\"A\")\n",
    "# This is the result of the build in function\n",
    "2^S\n",
    "\n",
    "# todo -- Write your own powerset function\n",
    "powerset <- function(A){\n",
    "    # Initialize the powerset with a set that contains an empty set\n",
    "    P <- set(set())\n",
    "    # Loop over each element in A\n",
    "    for(el in A){\n",
    "            # Store the single element as a separate set\n",
    "            eachel <- set(el)\n",
    "            # Loop over all elements in P and form the union with single elements\n",
    "            for(subS in P){\n",
    "               # Add the set of the union to the powerset\n",
    "               P <- set(subS | eachel) | P\n",
    "            }     \n",
    "    }\n",
    "    # return the set\n",
    "    return(P)\n",
    "}\n",
    "powerset(S)"
   ]
  },
  {
   "cell_type": "markdown",
   "metadata": {},
   "source": [
    "## Task 2:\n",
    "Let the universe $\\Omega$ be all natural numbers up to 100. \n",
    "1. Form the set of all even numbers in the universe $\\Omega$.\n",
    "2. Form the set of all uneven numbers in the universe $\\Omega$.\n",
    "\n",
    "*Hint: use the modulo operator.*"
   ]
  },
  {
   "cell_type": "code",
   "execution_count": 8,
   "metadata": {},
   "outputs": [
    {
     "name": "stdout",
     "output_type": "stream",
     "text": [
      " [1]   2   4   6   8  10  12  14  16  18  20  22  24  26  28  30  32  34  36  38\n",
      "[20]  40  42  44  46  48  50  52  54  56  58  60  62  64  66  68  70  72  74  76\n",
      "[39]  78  80  82  84  86  88  90  92  94  96  98 100\n",
      " [1]   1   3   5   7   9  11  13  15  17  19  21  23  25  27  29  31  33  35  37\n",
      "[20]  39  41  43  45  47  49  51  53  55  57  59  61  63  65  67  69  71  73  75\n",
      "[39]  77  79  81  83  85  87  89  91  93  95  97  99 101\n"
     ]
    }
   ],
   "source": [
    "Omega = 1:1:101\n",
    "\n",
    "# todo \n",
    "even = Omega[Omega%%2==0]\n",
    "print(even)\n",
    "\n",
    "uneven = Omega[Omega%%2==1]\n",
    "print(uneven)"
   ]
  },
  {
   "cell_type": "markdown",
   "metadata": {},
   "source": [
    "## Task 3\n",
    "\n",
    "Write a function that checks whether the natural number $x$ is a prime, i.e. check whether it is divisable by any of its predecessors except for 1. Construct with this function another function that gives the set of all primes for all natural numbers up to 200.\n"
   ]
  },
  {
   "cell_type": "code",
   "execution_count": 9,
   "metadata": {},
   "outputs": [
    {
     "data": {
      "text/html": [
       "<ol class=list-inline>\n",
       "\t<li>1</li>\n",
       "\t<li>3</li>\n",
       "\t<li>5</li>\n",
       "\t<li>7</li>\n",
       "\t<li>11</li>\n",
       "\t<li>13</li>\n",
       "\t<li>17</li>\n",
       "\t<li>19</li>\n",
       "\t<li>23</li>\n",
       "\t<li>29</li>\n",
       "\t<li>31</li>\n",
       "\t<li>37</li>\n",
       "\t<li>41</li>\n",
       "\t<li>43</li>\n",
       "\t<li>47</li>\n",
       "\t<li>53</li>\n",
       "\t<li>59</li>\n",
       "\t<li>61</li>\n",
       "\t<li>67</li>\n",
       "\t<li>71</li>\n",
       "\t<li>73</li>\n",
       "\t<li>79</li>\n",
       "\t<li>83</li>\n",
       "\t<li>89</li>\n",
       "\t<li>97</li>\n",
       "\t<li>101</li>\n",
       "\t<li>103</li>\n",
       "\t<li>107</li>\n",
       "\t<li>109</li>\n",
       "\t<li>113</li>\n",
       "\t<li>127</li>\n",
       "\t<li>131</li>\n",
       "\t<li>137</li>\n",
       "\t<li>139</li>\n",
       "\t<li>149</li>\n",
       "\t<li>151</li>\n",
       "\t<li>157</li>\n",
       "\t<li>163</li>\n",
       "\t<li>167</li>\n",
       "\t<li>173</li>\n",
       "\t<li>179</li>\n",
       "\t<li>181</li>\n",
       "\t<li>191</li>\n",
       "\t<li>193</li>\n",
       "\t<li>197</li>\n",
       "\t<li>199</li>\n",
       "</ol>\n"
      ],
      "text/latex": [
       "\\begin{enumerate*}\n",
       "\\item 1\n",
       "\\item 3\n",
       "\\item 5\n",
       "\\item 7\n",
       "\\item 11\n",
       "\\item 13\n",
       "\\item 17\n",
       "\\item 19\n",
       "\\item 23\n",
       "\\item 29\n",
       "\\item 31\n",
       "\\item 37\n",
       "\\item 41\n",
       "\\item 43\n",
       "\\item 47\n",
       "\\item 53\n",
       "\\item 59\n",
       "\\item 61\n",
       "\\item 67\n",
       "\\item 71\n",
       "\\item 73\n",
       "\\item 79\n",
       "\\item 83\n",
       "\\item 89\n",
       "\\item 97\n",
       "\\item 101\n",
       "\\item 103\n",
       "\\item 107\n",
       "\\item 109\n",
       "\\item 113\n",
       "\\item 127\n",
       "\\item 131\n",
       "\\item 137\n",
       "\\item 139\n",
       "\\item 149\n",
       "\\item 151\n",
       "\\item 157\n",
       "\\item 163\n",
       "\\item 167\n",
       "\\item 173\n",
       "\\item 179\n",
       "\\item 181\n",
       "\\item 191\n",
       "\\item 193\n",
       "\\item 197\n",
       "\\item 199\n",
       "\\end{enumerate*}\n"
      ],
      "text/markdown": [
       "1. 1\n",
       "2. 3\n",
       "3. 5\n",
       "4. 7\n",
       "5. 11\n",
       "6. 13\n",
       "7. 17\n",
       "8. 19\n",
       "9. 23\n",
       "10. 29\n",
       "11. 31\n",
       "12. 37\n",
       "13. 41\n",
       "14. 43\n",
       "15. 47\n",
       "16. 53\n",
       "17. 59\n",
       "18. 61\n",
       "19. 67\n",
       "20. 71\n",
       "21. 73\n",
       "22. 79\n",
       "23. 83\n",
       "24. 89\n",
       "25. 97\n",
       "26. 101\n",
       "27. 103\n",
       "28. 107\n",
       "29. 109\n",
       "30. 113\n",
       "31. 127\n",
       "32. 131\n",
       "33. 137\n",
       "34. 139\n",
       "35. 149\n",
       "36. 151\n",
       "37. 157\n",
       "38. 163\n",
       "39. 167\n",
       "40. 173\n",
       "41. 179\n",
       "42. 181\n",
       "43. 191\n",
       "44. 193\n",
       "45. 197\n",
       "46. 199\n",
       "\n",
       "\n"
      ],
      "text/plain": [
       " [1]   1   3   5   7  11  13  17  19  23  29  31  37  41  43  47  53  59  61  67\n",
       "[20]  71  73  79  83  89  97 101 103 107 109 113 127 131 137 139 149 151 157 163\n",
       "[39] 167 173 179 181 191 193 197 199"
      ]
     },
     "metadata": {},
     "output_type": "display_data"
    }
   ],
   "source": [
    "isPrime <- function(x){#\n",
    "    check <- FALSE\n",
    "    if (x ==1){\n",
    "        check <- FALSE\n",
    "    }else{\n",
    "        for (y in 2:(x-1)){\n",
    "             if( x%%y==0 ){\n",
    "                 check <- TRUE\n",
    "             }\n",
    "        }\n",
    "    }\n",
    "    return(!check)\n",
    "}\n",
    "    \n",
    "Omega <- 1:200\n",
    "Primes <- Omega[sapply(Omega,isPrime)]\n",
    "Primes"
   ]
  },
  {
   "cell_type": "markdown",
   "metadata": {},
   "source": [
    "## Task 4\n",
    "\n",
    "In the slides, the set $S$ is defined as follows. \n",
    "\n",
    "\\begin{align}\n",
    " S = \\{ w \\;|\\; 6 \\notin \\{ x \\;|\\; x \\text{ ist teilbar durch } w \\} \\}\n",
    "\\end{align}\n",
    "\n",
    "Create the set $S$ in Python. Let the universe be all integer numbers in the interval ranging from -100 to 100 without zero.\n",
    "\n",
    "Check wether $2 \\in S$."
   ]
  },
  {
   "cell_type": "code",
   "execution_count": 91,
   "metadata": {},
   "outputs": [
    {
     "data": {
      "text/plain": [
       "{-100L, -99L, -98L, -97L, -96L, -95L, -94L, -93L, -92L, -91L, -89L,\n",
       " -88L, -87L, -86L, -85L, -84L, -83L, -82L, -81L, -80L, -79L, -78L,\n",
       " -77L, -76L, -75L, -74L, -73L, -72L, -71L, -70L, -68L, -67L, -66L,\n",
       " -65L, -64L, -63L, -62L, -61L, -60L, -59L, -58L, -57L, -56L, -55L,\n",
       " -54L, -53L, -52L, -51L, -50L, -49L, -47L, -46L, -45L, -44L, -43L,\n",
       " -42L, -41L, -40L, -39L, -38L, -37L, -36L, -35L, -34L, -33L, -32L,\n",
       " -31L, -30L, -29L, -28L, -26L, -25L, -24L, -23L, -22L, -21L, -20L,\n",
       " -19L, -18L, -17L, -16L, -15L, -14L, -13L, -12L, -11L, -10L, -9L, -8L,\n",
       " -7L, -5L, -4L, 0L, 4L, 5L, 7L, 8L, 9L, 10L, 11L, 12L, 13L, 14L, 16L,\n",
       " 17L, 18L, 19L, 20L, 21L, 22L, 23L, 24L, 25L, 26L, 27L, 28L, 29L, 30L,\n",
       " 31L, 32L, 33L, 34L, 35L, 37L, 38L, 39L, 40L, 41L, 42L, 43L, 44L, 45L,\n",
       " 46L, 47L, 48L, 49L, 50L, 51L, 52L, 53L, 54L, 55L, 56L, 58L, 59L, 60L,\n",
       " 61L, 62L, 63L, 64L, 65L, 66L, 67L, 68L, 69L, 70L, 71L, 72L, 73L, 74L,\n",
       " 75L, 76L, 77L, 79L, 80L, 81L, 82L, 83L, 84L, 85L, 86L, 87L, 88L, 89L,\n",
       " 90L, 91L, 92L, 93L, 94L, 95L, 96L, 97L, 98L, 100L, NA}"
      ]
     },
     "metadata": {},
     "output_type": "display_data"
    },
    {
     "data": {
      "text/html": [
       "FALSE"
      ],
      "text/latex": [
       "FALSE"
      ],
      "text/markdown": [
       "FALSE"
      ],
      "text/plain": [
       "[1] FALSE"
      ]
     },
     "metadata": {},
     "output_type": "display_data"
    }
   ],
   "source": [
    "# todo\n",
    "\n",
    "# Create the universe\n",
    "Omega = (-100:100)[-10:10!=0]\n",
    "\n",
    "# Create a function that checks if x%%w==0\n",
    "f1 <- function(x,w){x%%w==0}\n",
    "\n",
    "# Create a function that forms the set of all numbers divisable by some w\n",
    "f2  <- function(Omega,ww){return(as.set(Omega[sapply(Omega,function(x) f1(x,ww))]))}\n",
    "\n",
    "# Create a list of sets for each w in Omega for which 6 is not in the set of numbers divisible by w\n",
    "Slist <- sapply(sapply(Omega,function(x) f2(Omega,x)),function(yy) if(!(6 %in% yy)){yy}else{NULL})\n",
    "\n",
    "# Unlist all sets (and elements) and make a set of the elements\n",
    "S <-  as.set(unlist(Slist))\n",
    "S                    \n",
    "# Test ob Aussage 2 in S wahr ist.\n",
    "2 %in% S"
   ]
  },
  {
   "cell_type": "code",
   "execution_count": 78,
   "metadata": {},
   "outputs": [
    {
     "data": {
      "text/html": [
       "<ol class=list-inline>\n",
       "\t<li>-10</li>\n",
       "\t<li>-9</li>\n",
       "\t<li>-8</li>\n",
       "\t<li>-7</li>\n",
       "\t<li>-5</li>\n",
       "\t<li>-4</li>\n",
       "\t<li>4</li>\n",
       "\t<li>5</li>\n",
       "\t<li>7</li>\n",
       "\t<li>8</li>\n",
       "\t<li>9</li>\n",
       "\t<li>10</li>\n",
       "</ol>\n"
      ],
      "text/latex": [
       "\\begin{enumerate*}\n",
       "\\item -10\n",
       "\\item -9\n",
       "\\item -8\n",
       "\\item -7\n",
       "\\item -5\n",
       "\\item -4\n",
       "\\item 4\n",
       "\\item 5\n",
       "\\item 7\n",
       "\\item 8\n",
       "\\item 9\n",
       "\\item 10\n",
       "\\end{enumerate*}\n"
      ],
      "text/markdown": [
       "1. -10\n",
       "2. -9\n",
       "3. -8\n",
       "4. -7\n",
       "5. -5\n",
       "6. -4\n",
       "7. 4\n",
       "8. 5\n",
       "9. 7\n",
       "10. 8\n",
       "11. 9\n",
       "12. 10\n",
       "\n",
       "\n"
      ],
      "text/plain": [
       " [1] -10  -9  -8  -7  -5  -4   4   5   7   8   9  10"
      ]
     },
     "metadata": {},
     "output_type": "display_data"
    }
   ],
   "source": []
  },
  {
   "cell_type": "code",
   "execution_count": null,
   "metadata": {},
   "outputs": [],
   "source": []
  }
 ],
 "metadata": {
  "kernelspec": {
   "display_name": "R",
   "language": "R",
   "name": "ir"
  },
  "language_info": {
   "codemirror_mode": "r",
   "file_extension": ".r",
   "mimetype": "text/x-r-source",
   "name": "R",
   "pygments_lexer": "r",
   "version": "3.5.1"
  }
 },
 "nbformat": 4,
 "nbformat_minor": 2
}
