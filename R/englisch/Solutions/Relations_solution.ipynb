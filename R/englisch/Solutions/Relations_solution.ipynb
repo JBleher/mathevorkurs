{
 "cells": [
  {
   "cell_type": "markdown",
   "metadata": {},
   "source": [
    "# Relations"
   ]
  },
  {
   "cell_type": "markdown",
   "metadata": {},
   "source": [
    "A <a href=\"https://en.wikipedia.org/wiki/Finitary_relation\">finitary relation with two places</a> $R$ is defined by\n",
    "\\begin{align*}\n",
    "R \\subseteq A \\ \\times \\ B\n",
    "\\end{align*}\n",
    "\n",
    "In words: A relation $R$  with two places from the sets $A$ and $B$ is defined as a subset of the Cartesian product $A \\times B$.\n",
    "\n",
    "The Cartesian product, again, is defined as\n",
    "\\begin{align}\n",
    "A \\ \\times \\ B = \\{ (a, b) \\ | \\ a \\in  A \\land b \\in \\ B\\}\n",
    "\\end{align}\n",
    "\n",
    "So, the Cartesian product is the set of all ordered pairs where the first coordinate $a$ is a member of the set $A$ and the second coordinate $b$ is a member of $B$.\n",
    "\n",
    "Ordered pairs are2-<a href=\"https://en.wikipedia.org/wiki/Tuple\">Tuple</a> and in R (with the package \"sets\") are implemented with the data type $\\texttt{tuple}$.\n",
    "\n",
    "A relation can, thus, be conceived as a truth set of a logical statement with two free variables.\n",
    "\\begin{align*}\n",
    "R = \\{(a,b) \\in A \\times B \\;|\\; P(a,b)\\}\n",
    "\\end{align*}"
   ]
  },
  {
   "cell_type": "code",
   "execution_count": 7,
   "metadata": {},
   "outputs": [
    {
     "data": {
      "text/plain": [
       "(1, 2)"
      ]
     },
     "metadata": {},
     "output_type": "display_data"
    },
    {
     "data": {
      "text/html": [
       "'tuple'"
      ],
      "text/latex": [
       "'tuple'"
      ],
      "text/markdown": [
       "'tuple'"
      ],
      "text/plain": [
       "[1] \"tuple\""
      ]
     },
     "metadata": {},
     "output_type": "display_data"
    },
    {
     "data": {
      "text/plain": [
       "(1, 2)"
      ]
     },
     "metadata": {},
     "output_type": "display_data"
    },
    {
     "data": {
      "text/html": [
       "'tuple'"
      ],
      "text/latex": [
       "'tuple'"
      ],
      "text/markdown": [
       "'tuple'"
      ],
      "text/plain": [
       "[1] \"tuple\""
      ]
     },
     "metadata": {},
     "output_type": "display_data"
    }
   ],
   "source": [
    "library(\"sets\")\n",
    "\n",
    "t <- tuple(1,2)\n",
    "t\n",
    "is(t)\n",
    "p <- pair(1,2)\n",
    "p\n",
    "is(p)"
   ]
  },
  {
   "cell_type": "markdown",
   "metadata": {},
   "source": [
    "## Task 1\n",
    "\n",
    "Write a function that constructs the Cartesian product of two fuctions. Use the variable type tuple. Do not use the build in operator $*$."
   ]
  },
  {
   "cell_type": "code",
   "execution_count": 8,
   "metadata": {},
   "outputs": [
    {
     "data": {
      "text/plain": [
       "{(1, \"A\"), (1, \"B\"), (1, \"C\"), (2, \"A\"), (2, \"B\"), (2, \"C\"), (3, \"A\"),\n",
       " (3, \"B\"), (3, \"C\")}"
      ]
     },
     "metadata": {},
     "output_type": "display_data"
    },
    {
     "name": "stdout",
     "output_type": "stream",
     "text": [
      "{(1, \"A\"), (1, \"B\"), (1, \"C\"), (2, \"A\"), (2, \"B\"), (2, \"C\"), (3, \"A\"),\n",
      " (3, \"B\"), (3, \"C\")}\n"
     ]
    }
   ],
   "source": [
    "# define a function that returns the cartesian product using set comprehensions\n",
    "product <- function(A, B){\n",
    "    result <- set()\n",
    "    for (ii in A){\n",
    "        for (jj in B){\n",
    "               result <- result | set(pair(ii,jj))\n",
    "        }   \n",
    "    }\n",
    "    return(result)\n",
    "}\n",
    "\n",
    "A = set(1,2,3)\n",
    "B = set('A','B','C')\n",
    "# build in Cartesian product\n",
    "A*B\n",
    "# self-written Cartesian product\n",
    "print(product(A, B))"
   ]
  },
  {
   "cell_type": "markdown",
   "metadata": {},
   "source": [
    "## Task 2\n",
    "Write a function $\\texttt{relation}$ which takes as an input two sets $A$ and $B$, as well as a function $P(a,b)$ where $a\\in A$ and $b\\in B$. The function should return a truth set for $P$. \n",
    "\n",
    "Proceed as follows:\n",
    "1. Define the function $P$ which takes the inputs $a \\in A$ and $b \\in B$. The function shall evaluate the statement $a>b$.\n",
    "2. Write the function $\\texttt{relation}$ and test it with the sets $A$ and $B$ and the function $P(a,b)$."
   ]
  },
  {
   "cell_type": "code",
   "execution_count": 10,
   "metadata": {},
   "outputs": [
    {
     "data": {
      "text/plain": [
       "{(0L, -2L), (0L, -1L), (1L, 0L), (1L, -2L), (1L, -1L), (2L, 0L), (2L,\n",
       " 1L), (2L, -2L), (2L, -1L), (-1L, -2L)}"
      ]
     },
     "metadata": {},
     "output_type": "display_data"
    }
   ],
   "source": [
    "A <- -2:2\n",
    "B <- -2:2\n",
    "\n",
    "P <- function(a,b){\n",
    "    return(a>b)\n",
    "}\n",
    "\n",
    "relation <- function(A,B,P){\n",
    "    result <- set()\n",
    "    for (ii in A){\n",
    "        for (jj in B){\n",
    "                if (P(ii,jj)){\n",
    "                    result <- result | set(pair(ii,jj))\n",
    "                    }\n",
    "        }   \n",
    "    }\n",
    "    return(result)\n",
    "}\n",
    "\n",
    "relation(A,B,P)"
   ]
  },
  {
   "cell_type": "markdown",
   "metadata": {},
   "source": [
    "## Task 3\n",
    "\n",
    "Use your function $\\texttt{relation}$ from task 2 and construct the truth set for the statement:<br>\n",
    "\"$a$ is devisable by $b$\"\n",
    "where $a \\in A$ and  $b \\in B\\setminus\\{0\\}$."
   ]
  },
  {
   "cell_type": "code",
   "execution_count": 17,
   "metadata": {},
   "outputs": [
    {
     "data": {
      "text/plain": [
       "{(1L, 1L), (2L, 1L), (2L, 2L), (3L, 1L), (3L, 3L), (4L, 1L), (4L, 2L),\n",
       " (4L, 4L), (5L, 1L), (5L, 5L), (6L, 1L), (6L, 2L), (6L, 3L), (6L, 6L),\n",
       " (7L, 1L), (7L, 7L), (8L, 1L), (8L, 2L), (8L, 4L), (8L, 8L), (9L, 1L),\n",
       " (9L, 3L), (9L, 9L), (10L, 1L), (10L, 2L), (10L, 5L), (10L, 10L)}"
      ]
     },
     "metadata": {},
     "output_type": "display_data"
    }
   ],
   "source": [
    "#todo\n",
    "A <- 1:10\n",
    "B <- 1:10\n",
    "Q <- function(a,b){\n",
    "    return( a%%b==0 )\n",
    "}\n",
    "\n",
    "relation(A,B,Q)"
   ]
  },
  {
   "cell_type": "markdown",
   "metadata": {},
   "source": [
    "## Task 4\n",
    "\n",
    "1. Write a function $\\texttt{Dom}$ which takes a source set and a target set as well as a relation as input arguments. The function shall return the domain of the relation.\n",
    "2. Write a function $\\texttt{Ran}$ which takes a source set and a target set as well as a relation as input arguments. The function shall return the range of the relation.\n",
    "\n",
    "Use the objects $A,B,W$ and $R$ to test your function."
   ]
  },
  {
   "cell_type": "code",
   "execution_count": 25,
   "metadata": {},
   "outputs": [
    {
     "name": "stdout",
     "output_type": "stream",
     "text": [
      "{-3L, -2L, -1L, 0L, 1L, 2L, 3L}\n",
      "{0L, 1L, 4L, 9L}\n"
     ]
    }
   ],
   "source": [
    "A = -10:10\n",
    "B = -10:10\n",
    "W <- function(a,b) a^2 == b\n",
    "R = relation(A,B,W)\n",
    "\n",
    "#todo\n",
    "Dom <- function(R, A, B){\n",
    "    Dom <- set()\n",
    "    for (a in A){\n",
    "        for (b in B){\n",
    "            if (set(pair(a,b)) %in% R){\n",
    "                            Dom <- Dom | a\n",
    "            }\n",
    "        }\n",
    "    }\n",
    "    return(Dom)\n",
    "}\n",
    "    \n",
    "\n",
    "Ran <- function(R, A, B){\n",
    "    Ran <- set()\n",
    "    for (a in A){\n",
    "        for (b in B){\n",
    "            if (set(pair(a,b)) %in% R){\n",
    "                Ran <- Ran | b\n",
    "            }\n",
    "        }\n",
    "    }\n",
    "    return(Ran)\n",
    "}\n",
    "\n",
    "print(Dom(R,A,B))\n",
    "print(Ran(R,A,B))"
   ]
  },
  {
   "cell_type": "markdown",
   "metadata": {},
   "source": [
    "## Task 5\n",
    "Now, write two function that only take a relation as an input parameter and return\n",
    "1. the domain ($\\texttt{dom}$)\n",
    "2. and the range ($\\texttt{ran}$)"
   ]
  },
  {
   "cell_type": "code",
   "execution_count": 60,
   "metadata": {},
   "outputs": [
    {
     "name": "stdout",
     "output_type": "stream",
     "text": [
      "{-3L, -2L, -1L, 0L, 1L, 2L, 3L}\n",
      "{0L, 1L, 4L, 9L}\n"
     ]
    }
   ],
   "source": [
    "dom <- function(R){\n",
    "    dom <- set()\n",
    "    for (el in R){\n",
    "        dom <-  (as.set(el[1]) | dom)\n",
    "    }\n",
    "    return(dom)\n",
    "}\n",
    "\n",
    "ran <- function(R){\n",
    "    ran <- set()\n",
    "    for (el in R){\n",
    "         ran <- (ran | as.set(el[2]))\n",
    "    }\n",
    "    return(ran)\n",
    "}\n",
    "\n",
    "print(dom(R))\n",
    "print(ran(R))"
   ]
  },
  {
   "cell_type": "markdown",
   "metadata": {},
   "source": [
    "## Task 6\n",
    "\n",
    "Write a function which takes two relations $S$ and $R$ as inputs and returns the composition of the two. Do the two relations commute, i.e. does $R\\circ S = S \\circ R$ hold?"
   ]
  },
  {
   "cell_type": "code",
   "execution_count": 104,
   "metadata": {},
   "outputs": [
    {
     "data": {
      "text/html": [
       "FALSE"
      ],
      "text/latex": [
       "FALSE"
      ],
      "text/markdown": [
       "FALSE"
      ],
      "text/plain": [
       "[1] FALSE"
      ]
     },
     "metadata": {},
     "output_type": "display_data"
    }
   ],
   "source": [
    "A = -10:10\n",
    "B = -10:10\n",
    "C = 2:10\n",
    "\n",
    "\n",
    "\n",
    "R = relation(A, B,function(a,b) a**2==b)\n",
    "S = relation(A, C,function(a,b) a%%b == 0)\n",
    "\n",
    "\n",
    "concat <- function(S, R){\n",
    "    result <- set()\n",
    "    for (elS in S){\n",
    "        for (elR in R){\n",
    "            a <- unlist(elS[1])\n",
    "            b <- unlist(elS[2])\n",
    "            c <- unlist(elR[1])\n",
    "            d <- unlist(elR[2])\n",
    "            if(b == c){\n",
    "                #print(set(pair(a,c)))\n",
    "                result <- result | set(pair(a,d))\n",
    "            }\n",
    "        }\n",
    "    }\n",
    "    return(result)\n",
    "}\n",
    "concat(S,R) == concat(R,S)"
   ]
  },
  {
   "cell_type": "markdown",
   "metadata": {},
   "source": [
    "## Task 7\n",
    "\n",
    "Implement functions to check whether a given relation $R$ has the characteristic\n",
    "- $\\texttt{isDefinal}(R,A,B)$ - checks whether the relation is definal.\n",
    "- $\\texttt{isLeftUnique}(R,A,B)$ - checks whether the relation is left-unique.\n",
    "- $\\texttt{isSurjektive}(R,A,B)$ -checks whether the relation is surjective.\n",
    "-  $\\texttt{isRightUnique}(R,A,B)$ - checks whether the relation is right-unique.\n",
    "- $\\texttt{isBitotal}(R,A,B)$ - checks whether the relation is bitotal.\n",
    "- $\\texttt{isUniqueUnique}(R,A,B)$ - checks whether the relation is unique-unique.\n",
    "- $\\texttt{isBijektiv}(R,A,B)$ - checks whether the relation is bijective.\n",
    "\n",
    "All functions should take as input arguments a relation $R$ as we ll as the sets $A$ and $B$. The functions should return a boolean variable (True/False)."
   ]
  },
  {
   "cell_type": "code",
   "execution_count": 151,
   "metadata": {},
   "outputs": [
    {
     "data": {
      "text/html": [
       "'isDefinal: R1:'"
      ],
      "text/latex": [
       "'isDefinal: R1:'"
      ],
      "text/markdown": [
       "'isDefinal: R1:'"
      ],
      "text/plain": [
       "[1] \"isDefinal: R1:\""
      ]
     },
     "metadata": {},
     "output_type": "display_data"
    },
    {
     "data": {
      "text/html": [
       "TRUE"
      ],
      "text/latex": [
       "TRUE"
      ],
      "text/markdown": [
       "TRUE"
      ],
      "text/plain": [
       "[1] TRUE"
      ]
     },
     "metadata": {},
     "output_type": "display_data"
    },
    {
     "data": {
      "text/html": [
       "'isDefinal: R2:'"
      ],
      "text/latex": [
       "'isDefinal: R2:'"
      ],
      "text/markdown": [
       "'isDefinal: R2:'"
      ],
      "text/plain": [
       "[1] \"isDefinal: R2:\""
      ]
     },
     "metadata": {},
     "output_type": "display_data"
    },
    {
     "data": {
      "text/html": [
       "TRUE"
      ],
      "text/latex": [
       "TRUE"
      ],
      "text/markdown": [
       "TRUE"
      ],
      "text/plain": [
       "[1] TRUE"
      ]
     },
     "metadata": {},
     "output_type": "display_data"
    },
    {
     "data": {
      "text/html": [
       "'isDefinal: R5:'"
      ],
      "text/latex": [
       "'isDefinal: R5:'"
      ],
      "text/markdown": [
       "'isDefinal: R5:'"
      ],
      "text/plain": [
       "[1] \"isDefinal: R5:\""
      ]
     },
     "metadata": {},
     "output_type": "display_data"
    },
    {
     "data": {
      "text/html": [
       "FALSE"
      ],
      "text/latex": [
       "FALSE"
      ],
      "text/markdown": [
       "FALSE"
      ],
      "text/plain": [
       "[1] FALSE"
      ]
     },
     "metadata": {},
     "output_type": "display_data"
    },
    {
     "data": {
      "text/html": [
       "'isSurjektiv: R1:'"
      ],
      "text/latex": [
       "'isSurjektiv: R1:'"
      ],
      "text/markdown": [
       "'isSurjektiv: R1:'"
      ],
      "text/plain": [
       "[1] \"isSurjektiv: R1:\""
      ]
     },
     "metadata": {},
     "output_type": "display_data"
    },
    {
     "data": {
      "text/html": [
       "TRUE"
      ],
      "text/latex": [
       "TRUE"
      ],
      "text/markdown": [
       "TRUE"
      ],
      "text/plain": [
       "[1] TRUE"
      ]
     },
     "metadata": {},
     "output_type": "display_data"
    },
    {
     "data": {
      "text/html": [
       "'isSurjektiv: R2:'"
      ],
      "text/latex": [
       "'isSurjektiv: R2:'"
      ],
      "text/markdown": [
       "'isSurjektiv: R2:'"
      ],
      "text/plain": [
       "[1] \"isSurjektiv: R2:\""
      ]
     },
     "metadata": {},
     "output_type": "display_data"
    },
    {
     "data": {
      "text/html": [
       "FALSE"
      ],
      "text/latex": [
       "FALSE"
      ],
      "text/markdown": [
       "FALSE"
      ],
      "text/plain": [
       "[1] FALSE"
      ]
     },
     "metadata": {},
     "output_type": "display_data"
    },
    {
     "data": {
      "text/html": [
       "'isSurjektiv: R5:'"
      ],
      "text/latex": [
       "'isSurjektiv: R5:'"
      ],
      "text/markdown": [
       "'isSurjektiv: R5:'"
      ],
      "text/plain": [
       "[1] \"isSurjektiv: R5:\""
      ]
     },
     "metadata": {},
     "output_type": "display_data"
    },
    {
     "data": {
      "text/html": [
       "FALSE"
      ],
      "text/latex": [
       "FALSE"
      ],
      "text/markdown": [
       "FALSE"
      ],
      "text/plain": [
       "[1] FALSE"
      ]
     },
     "metadata": {},
     "output_type": "display_data"
    },
    {
     "data": {
      "text/html": [
       "'isLeftUnique R3?:'"
      ],
      "text/latex": [
       "'isLeftUnique R3?:'"
      ],
      "text/markdown": [
       "'isLeftUnique R3?:'"
      ],
      "text/plain": [
       "[1] \"isLeftUnique R3?:\""
      ]
     },
     "metadata": {},
     "output_type": "display_data"
    },
    {
     "data": {
      "text/html": [
       "TRUE"
      ],
      "text/latex": [
       "TRUE"
      ],
      "text/markdown": [
       "TRUE"
      ],
      "text/plain": [
       "[1] TRUE"
      ]
     },
     "metadata": {},
     "output_type": "display_data"
    },
    {
     "data": {
      "text/html": [
       "'isLeftUnique R4?:'"
      ],
      "text/latex": [
       "'isLeftUnique R4?:'"
      ],
      "text/markdown": [
       "'isLeftUnique R4?:'"
      ],
      "text/plain": [
       "[1] \"isLeftUnique R4?:\""
      ]
     },
     "metadata": {},
     "output_type": "display_data"
    },
    {
     "data": {
      "text/html": [
       "FALSE"
      ],
      "text/latex": [
       "FALSE"
      ],
      "text/markdown": [
       "FALSE"
      ],
      "text/plain": [
       "[1] FALSE"
      ]
     },
     "metadata": {},
     "output_type": "display_data"
    },
    {
     "data": {
      "text/html": [
       "'isRightUnique R5?:'"
      ],
      "text/latex": [
       "'isRightUnique R5?:'"
      ],
      "text/markdown": [
       "'isRightUnique R5?:'"
      ],
      "text/plain": [
       "[1] \"isRightUnique R5?:\""
      ]
     },
     "metadata": {},
     "output_type": "display_data"
    },
    {
     "data": {
      "text/html": [
       "TRUE"
      ],
      "text/latex": [
       "TRUE"
      ],
      "text/markdown": [
       "TRUE"
      ],
      "text/plain": [
       "[1] TRUE"
      ]
     },
     "metadata": {},
     "output_type": "display_data"
    },
    {
     "data": {
      "text/html": [
       "'isRightUnique R6?:'"
      ],
      "text/latex": [
       "'isRightUnique R6?:'"
      ],
      "text/markdown": [
       "'isRightUnique R6?:'"
      ],
      "text/plain": [
       "[1] \"isRightUnique R6?:\""
      ]
     },
     "metadata": {},
     "output_type": "display_data"
    },
    {
     "data": {
      "text/html": [
       "FALSE"
      ],
      "text/latex": [
       "FALSE"
      ],
      "text/markdown": [
       "FALSE"
      ],
      "text/plain": [
       "[1] FALSE"
      ]
     },
     "metadata": {},
     "output_type": "display_data"
    },
    {
     "data": {
      "text/html": [
       "'isBijektiv R1?:'"
      ],
      "text/latex": [
       "'isBijektiv R1?:'"
      ],
      "text/markdown": [
       "'isBijektiv R1?:'"
      ],
      "text/plain": [
       "[1] \"isBijektiv R1?:\""
      ]
     },
     "metadata": {},
     "output_type": "display_data"
    },
    {
     "data": {
      "text/html": [
       "FALSE"
      ],
      "text/latex": [
       "FALSE"
      ],
      "text/markdown": [
       "FALSE"
      ],
      "text/plain": [
       "[1] FALSE"
      ]
     },
     "metadata": {},
     "output_type": "display_data"
    },
    {
     "data": {
      "text/html": [
       "'isBijektiv R7?:'"
      ],
      "text/latex": [
       "'isBijektiv R7?:'"
      ],
      "text/markdown": [
       "'isBijektiv R7?:'"
      ],
      "text/plain": [
       "[1] \"isBijektiv R7?:\""
      ]
     },
     "metadata": {},
     "output_type": "display_data"
    },
    {
     "data": {
      "text/html": [
       "TRUE"
      ],
      "text/latex": [
       "TRUE"
      ],
      "text/markdown": [
       "TRUE"
      ],
      "text/plain": [
       "[1] TRUE"
      ]
     },
     "metadata": {},
     "output_type": "display_data"
    },
    {
     "data": {
      "text/html": [
       "'isFunction R1?:'"
      ],
      "text/latex": [
       "'isFunction R1?:'"
      ],
      "text/markdown": [
       "'isFunction R1?:'"
      ],
      "text/plain": [
       "[1] \"isFunction R1?:\""
      ]
     },
     "metadata": {},
     "output_type": "display_data"
    },
    {
     "data": {
      "text/html": [
       "FALSE"
      ],
      "text/latex": [
       "FALSE"
      ],
      "text/markdown": [
       "FALSE"
      ],
      "text/plain": [
       "[1] FALSE"
      ]
     },
     "metadata": {},
     "output_type": "display_data"
    },
    {
     "data": {
      "text/html": [
       "'isFunction R3?:'"
      ],
      "text/latex": [
       "'isFunction R3?:'"
      ],
      "text/markdown": [
       "'isFunction R3?:'"
      ],
      "text/plain": [
       "[1] \"isFunction R3?:\""
      ]
     },
     "metadata": {},
     "output_type": "display_data"
    },
    {
     "data": {
      "text/html": [
       "TRUE"
      ],
      "text/latex": [
       "TRUE"
      ],
      "text/markdown": [
       "TRUE"
      ],
      "text/plain": [
       "[1] TRUE"
      ]
     },
     "metadata": {},
     "output_type": "display_data"
    }
   ],
   "source": [
    "# two helper functions\n",
    "thereExists <- function(a,R,dim){\n",
    "    return(sum(sapply(R,function(el) unlist(el[dim])==a))>=1)\n",
    "}\n",
    "                      \n",
    "thereExistsOne <- function(a,R,dim){\n",
    "    return(sum(sapply(R,function(el) unlist(el[dim])==a))==1)\n",
    "}\n",
    "                      \n",
    "#todo\n",
    "isDefinal <- function(R, A, B){\n",
    "     # Each element in A has at least one partner in B\n",
    "    return(sum(sapply(A,function(el) !thereExists(unlist(el),R,1)))==0)\n",
    "}\n",
    "\n",
    "                      \n",
    "isSurjektiv <- function(R, A, B){\n",
    "     # Each element in B has at least one partner in A\n",
    "    return(sum(sapply(B,function(el) !thereExists(unlist(el),R,2)))==0)\n",
    "}\n",
    "                      \n",
    "                      \n",
    "isLeftUnique <- function(R, A, B){\n",
    "     # Each element in A has at most one partner in B\n",
    "    check <- TRUE\n",
    "    for (a in A){\n",
    "        for (c in A){\n",
    "            for (b in B){\n",
    "                if ((set(pair(a,b)) %in% R) & (set(pair(c,b)) %in% R)){\n",
    "                    check <- a == c\n",
    "                    if (!check) {\n",
    "                        return(check)\n",
    "                    }\n",
    "                }\n",
    "            }\n",
    "        }\n",
    "    }\n",
    "    return(check)\n",
    "}\n",
    "                      \n",
    "                      \n",
    "isRightUnique <- function(R, A, B){\n",
    "     # Each element in A has at most one partner in B\n",
    "    check <- TRUE\n",
    "    for (a in A){\n",
    "        for (d in B){\n",
    "            for (b in B){\n",
    "                if ((set(pair(a,b)) %in% R) & (set(pair(a,d)) %in% R)){\n",
    "                    check <- b == d\n",
    "                    if (!check) {\n",
    "                        return(check)\n",
    "                    }\n",
    "                }\n",
    "            }\n",
    "        }\n",
    "    }\n",
    "    return(check)\n",
    "}\n",
    "              \n",
    "\n",
    "isBijektiv <- function(R, A, B){\n",
    "    # Each element in B has exactly one Partner\n",
    "    return(sum(sapply(B,function(b) !thereExistsOne(b,R,2)))==0)\n",
    "}\n",
    "\n",
    "                      \n",
    "isFunction<- function(R, A, B){\n",
    "    # Each element in A has exactly one partner in B\n",
    "    return(sum(sapply(A,function(a) !thereExistsOne(a,R,1)))==0)\n",
    "}\n",
    "                      \n",
    "                      \n",
    "# Zum Testen\n",
    "A = set(1, 2, 3)\n",
    "B = set(\"A\", \"B\", \"C\", \"D\")\n",
    "C = set(1,2,3,4)\n",
    "D = set(\"K\",\"L\",\"M\")\n",
    "\n",
    "R1 = set(pair(1, \"A\"), pair(2, \"B\"), pair(3, \"B\"), pair(3, \"C\"), pair(2, \"D\"))\n",
    "R2 = set(pair(1, \"A\"), pair(2, \"A\"), pair(3, \"B\"))\n",
    "\n",
    "R3 = set(pair(1, \"A\"), pair(2, \"C\"), pair(3, \"B\"))\n",
    "R4 = set(pair(1, \"A\"), pair(2, \"B\"), pair(3, \"B\"))\n",
    "\n",
    "R5 = set(pair(1, \"A\"), pair(3, \"B\"))\n",
    "R6 = set(pair(1, \"A\"), pair(3, \"B\"), pair(3, \"C\"))\n",
    "\n",
    "R7 = set(pair(1,\"K\"),pair(2,\"L\"),pair(3,\"M\"))\n",
    "                      \n",
    "\"isDefinal: R1:\"\n",
    "isDefinal(R1, A, B) # True\n",
    "\"isDefinal: R2:\"\n",
    "isDefinal(R2, A, B) # True\n",
    "\"isDefinal: R5:\"\n",
    "isDefinal(R5, A, B) # False                     \n",
    "\n",
    "\"isSurjektiv: R1:\"\n",
    "isSurjektiv(R1, A, B) #True\n",
    "\"isSurjektiv: R2:\"\n",
    "isSurjektiv(R2, A, B) # False\n",
    "\"isSurjektiv: R5:\"\n",
    "isSurjektiv(R5, A, B) # False\n",
    "                                           \n",
    "\"isLeftUnique R3?:\"\n",
    "isLeftUnique(R3, A, B) # True\n",
    "\"isLeftUnique R4?:\"\n",
    "isLeftUnique(R4, A, B) # False\n",
    "                      \n",
    "                      \n",
    "\"isRightUnique R5?:\"\n",
    "isRightUnique(R5, A, B) # True\n",
    "\"isRightUnique R6?:\"\n",
    "isRightUnique(R6, A, B) # False\n",
    "                      \n",
    "                      \n",
    "\"isBijektiv R1?:\"\n",
    "isBijektiv(R1, A, B) # False\n",
    "\"isBijektiv R7?:\"\n",
    "isBijektiv(R7, C, D) # True\n",
    "                      \n",
    "\n",
    "\"isFunction R1?:\"\n",
    "isFunction(R1, A, B) # False\n",
    "\"isFunction R3?:\"\n",
    "isFunction(R3, A, B) # True\n"
   ]
  },
  {
   "cell_type": "code",
   "execution_count": null,
   "metadata": {},
   "outputs": [],
   "source": [
    "\n",
    "\n"
   ]
  }
 ],
 "metadata": {
  "kernelspec": {
   "display_name": "R",
   "language": "R",
   "name": "ir"
  },
  "language_info": {
   "codemirror_mode": "r",
   "file_extension": ".r",
   "mimetype": "text/x-r-source",
   "name": "R",
   "pygments_lexer": "r",
   "version": "3.5.1"
  }
 },
 "nbformat": 4,
 "nbformat_minor": 2
}
