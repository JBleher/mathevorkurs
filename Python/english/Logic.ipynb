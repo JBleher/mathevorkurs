{
 "cells": [
  {
   "cell_type": "markdown",
   "metadata": {},
   "source": [
    "# Logic"
   ]
  },
  {
   "cell_type": "code",
   "execution_count": 1,
   "metadata": {},
   "outputs": [],
   "source": [
    "import numpy as np"
   ]
  },
  {
   "cell_type": "markdown",
   "metadata": {},
   "source": [
    "Logical statements form the foundation of computational programs. Often tasks shall be accomplished until or while a certain logical statement is either true or false (until/while loops). In other cases program code is only evaluated if a certain condition is satisfied (if-else-statements, case distinction).\n",
    "\n",
    "The fundamental building block of logical statements is the categorization as being either true or false. Variables which can take either one of those two values, are called Boolean variables."
   ]
  },
  {
   "cell_type": "code",
   "execution_count": 2,
   "metadata": {},
   "outputs": [
    {
     "name": "stdout",
     "output_type": "stream",
     "text": [
      "True True True\n"
     ]
    }
   ],
   "source": [
    "# Definition of a boolean variable with value True\n",
    "x = True\n",
    "\n",
    "# Definition of a boolean variable with logical statement using ordering operators\n",
    "y = (1==2-1)\n",
    "z = (2>1)\n",
    "\n",
    "print(x,y,z)"
   ]
  },
  {
   "cell_type": "markdown",
   "metadata": {},
   "source": [
    "Statements can also be connected. Therefore, for this purpose the junctors i.e. the logical operators $\\land, \\lor, \\lnot$ (and, or, not) are defined. "
   ]
  },
  {
   "cell_type": "code",
   "execution_count": 3,
   "metadata": {},
   "outputs": [
    {
     "name": "stdout",
     "output_type": "stream",
     "text": [
      "A und B:  False\n",
      "A oder B:  True\n",
      "nicht A:  True\n"
     ]
    }
   ],
   "source": [
    "# Suppose we have two statements\n",
    "A = False\n",
    "B = True\n",
    "\n",
    "# ... then we can connect the two statements\n",
    "print(\"A und B: \", A and B)\n",
    "print(\"A oder B: \", A or B)\n",
    "print(\"nicht A: \", not A)\n",
    "\n"
   ]
  },
  {
   "cell_type": "markdown",
   "metadata": {},
   "source": [
    "## Task 1\n",
    "\n",
    "Write a function $\\texttt{implies}(A,B)$ which evaluates if the statement $A\\implies B$ holds. \n",
    "\n",
    "*Hint*: $(A\\implies B)$ can also be written as $(A \\land B)\\lor \\lnot B$.\n"
   ]
  },
  {
   "cell_type": "code",
   "execution_count": 7,
   "metadata": {},
   "outputs": [],
   "source": [
    "# todo\n",
    "\n"
   ]
  },
  {
   "cell_type": "markdown",
   "metadata": {},
   "source": [
    "## Task 2\n",
    "\n",
    "Write a function $\\texttt{equiv}(A,B)$ which evaluates the statement $A\\iff B$."
   ]
  },
  {
   "cell_type": "code",
   "execution_count": 8,
   "metadata": {},
   "outputs": [],
   "source": [
    "# todo"
   ]
  },
  {
   "cell_type": "markdown",
   "metadata": {},
   "source": [
    "## Task 3\n",
    "\n",
    "Suppose you have two logical statements $P$ and $Q$. Construct a truth table that displays the values a joint statement (consisting of these two statements connected with some junctors $\\land, \\lor, \\implies, \\iff$) can take.\n",
    "\n",
    "Use the package numpy. The functions <a href=\"https://docs.scipy.org/doc/numpy-1.13.0/reference/routines.logic.html\"> for the elementwise logical comparison</a> are helpful.\n",
    "\n",
    "A numpy-array $\\texttt{allcomb}$ with all combinations is already generated for you. You can access columns of the array via $\\texttt{allcomb[:,0]}$ or $\\texttt{allcomb[:,1]}$."
   ]
  },
  {
   "cell_type": "code",
   "execution_count": 9,
   "metadata": {},
   "outputs": [],
   "source": [
    "# The two vectors and with their two values\n",
    "P = [True, False]\n",
    "Q = [True, False]\n",
    "\n",
    "# Get a table of all combinations\n",
    "allcomb = np.array([[(i,j) for i in P] for j in Q]).reshape(len(P)*len(Q),2)\n",
    "\n",
    "#todo \n"
   ]
  },
  {
   "cell_type": "markdown",
   "metadata": {},
   "source": [
    "## Task 4:\n",
    "On an island there live two types of islanders: honest insulars and liars. Suppose the insular $A$ claims about himself and his brother $B$: \"At least one of us is a liar.\" Find out of which type both $A$ and his brother $B$ are.\n",
    "\n",
    "- Formulate the claim $C$ as a logical statement depending on the type of $A$ and $B$. For this purpose, $A=1$ if $A$ is honest and $A=0$, if $A$ is a liar."
   ]
  },
  {
   "cell_type": "code",
   "execution_count": 10,
   "metadata": {},
   "outputs": [],
   "source": [
    "# todo"
   ]
  },
  {
   "cell_type": "markdown",
   "metadata": {},
   "source": [
    "- Furthermore, we know that if $A$ is a liar then the claim $C$ is false and if $A$ is an honest perso the claim $C$ has to be true. Thus, formulate the total statement in dependence of $A$ and $B$."
   ]
  },
  {
   "cell_type": "code",
   "execution_count": 11,
   "metadata": {},
   "outputs": [],
   "source": [
    "# todo\n"
   ]
  },
  {
   "cell_type": "markdown",
   "metadata": {},
   "source": [
    "- Generate a truth table for all possible combinations of $A$ and $B$. Of which sort are both persons?"
   ]
  },
  {
   "cell_type": "code",
   "execution_count": 12,
   "metadata": {},
   "outputs": [],
   "source": [
    "# todo\n"
   ]
  },
  {
   "cell_type": "markdown",
   "metadata": {},
   "source": [
    "## Task 5\n",
    "\n",
    "Consider the same szenario as in Task 4. How does the result change if $A$ claims \"Exactly one of us is a liar\"."
   ]
  },
  {
   "cell_type": "code",
   "execution_count": null,
   "metadata": {},
   "outputs": [],
   "source": [
    "# todo"
   ]
  },
  {
   "cell_type": "markdown",
   "metadata": {},
   "source": [
    "## Task 6\n",
    "In the book “The Logician and the Engineer, How George Boole and Claude Shannon Created the Information Age” P.J. Nahin you can find the following puzzle:\n",
    "\n",
    "On a desk there are three boxes, labeled with three letters $A$, $B$ und $C$. In each box, there is a coloured plastic chip. One chip is red, one white, and one blue. Where each chip can be found is unknown. You have one further hint: Exactly one of the following statements is true:\n",
    "\n",
    "- The red chip is in box $A$\n",
    "- The red chip is not in box $B$\n",
    "- Box $C$ does not contain the blue chip.\n",
    "\n",
    "Which chip is in which box?\n",
    "\n",
    "\n",
    "In order to solve the problem programmatically we can introduce an array with 9 boolean entries (TRUE/FALSE). We have, in principle, $2^9 = 512$ possibilities. With a computer we can check all possibilities.\n",
    "For the array, we define the following conventions:\n",
    "\n",
    "\n",
    " <table>\n",
    "  <tr>\n",
    "    <th></th>\n",
    "    <th>A</th>\n",
    "    <th>B</th>\n",
    "    <th>C</th>\n",
    "  </tr>\n",
    "  <tr>\n",
    "    <td>r</td>\n",
    "    <td>TRUE/FALSE</td>\n",
    "    <td>TRUE/FALSE</td>\n",
    "    <td>TRUE/FALSE</td>\n",
    "  </tr>\n",
    "   <tr>\n",
    "    <td>w</td>\n",
    "    <td>TRUE/FALSE</td>\n",
    "    <td>TRUE/FALSE</td>\n",
    "    <td>TRUE/FALSE</td>\n",
    "  </tr>\n",
    "   <tr>\n",
    "    <td>b</td>\n",
    "    <td>TRUE/FALSE</td>\n",
    "    <td>TRUE/FALSE</td>\n",
    "    <td>TRUE/FALSE</td>\n",
    "  </tr>\n",
    "</table> \n",
    "\n",
    "So, if in row 1 and column 1 there the value \"TRUE\" is set, then the box $A$ contains the red chip.\n",
    "Write a function $\\texttt{check}()$, which evaluates all possible statments."
   ]
  },
  {
   "cell_type": "code",
   "execution_count": null,
   "metadata": {},
   "outputs": [],
   "source": [
    "S = np.zeros((9,1), dtype=bool)\n",
    "\n",
    "def check(Array):\n",
    "    #Checke ob 3 Steine im Array sind\n",
    "    #Checke ob 1 Steine in jeder Box ist\n",
    "    #Checke ob die Steine unterschiedliche Farben haben\n",
    "    #Formuliere die einzelnen Aussagen in der Info, jede für sich\n",
    "    # Genau eine der Aussagen muss wahr sein\n",
    "    # Füge alles zusammen und gib einen boolschen Wert zurück\n",
    "\n",
    "\n",
    "for ii in range(2**9):\n",
    "    S  = np.array([bool(int(x)) for x in '{0:09b}'.format(ii)]).reshape(3,3)\n",
    "    if check(S):\n",
    "        print(S)"
   ]
  },
  {
   "cell_type": "code",
   "execution_count": null,
   "metadata": {},
   "outputs": [],
   "source": []
  }
 ],
 "metadata": {
  "kernelspec": {
   "display_name": "Python 3",
   "language": "python",
   "name": "python3"
  },
  "language_info": {
   "codemirror_mode": {
    "name": "ipython",
    "version": 3
   },
   "file_extension": ".py",
   "mimetype": "text/x-python",
   "name": "python",
   "nbconvert_exporter": "python",
   "pygments_lexer": "ipython3",
   "version": "3.6.5"
  }
 },
 "nbformat": 4,
 "nbformat_minor": 2
}
