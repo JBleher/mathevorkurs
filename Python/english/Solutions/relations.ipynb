{
 "cells": [
  {
   "cell_type": "markdown",
   "metadata": {},
   "source": [
    "# Relationen\n",
    "\n"
   ]
  },
  {
   "cell_type": "markdown",
   "metadata": {},
   "source": [
    "A <a href=\"https://en.wikipedia.org/wiki/Finitary_relation\">finitary relation with two places</a> $R$ is defined by\n",
    "\\begin{align*}\n",
    "R \\subseteq A \\ \\times \\ B\n",
    "\\end{align*}\n",
    "\n",
    "In words: A relation $R$  with two places from the sets $A$ and $B$ is defined as a subset of the Cartesian product $A \\times B$.\n",
    "\n",
    "The Cartesian product, again, is defined as\n",
    "\\begin{align}\n",
    "A \\ \\times \\ B = \\{ (a, b) \\ | \\ a \\in  A \\land b \\in \\ B\\}\n",
    "\\end{align}\n",
    "\n",
    "So, the Cartesian product is the set of all ordered pairs where the first coordinate $a$ is a member of the set $A$ and the second coordinate $b$ is a member of $B$.\n",
    "\n",
    "Ordered pairs are 2-<a href=\"https://en.wikipedia.org/wiki/Tuple\">Tuple</a> and in Python are implemented with the data type <a href=\"https://docs.python.org/3.4/c-api/tuple.html\">$\\texttt{tuple}$</a> .\n",
    "\n",
    "A relation can, thus, be conceived as a truth set of a logical statement with two free variables.\n",
    "\\begin{align*}\n",
    "R = \\{(a,b) \\in A \\times B \\;|\\; P(a,b)\\}\n",
    "\\end{align*}"
   ]
  },
  {
   "cell_type": "code",
   "execution_count": 1,
   "metadata": {},
   "outputs": [
    {
     "name": "stdout",
     "output_type": "stream",
     "text": [
      "<class 'tuple'>\n"
     ]
    }
   ],
   "source": [
    "# Herer a 3-Tuple is defined\n",
    "tuple = (1,2,4)\n",
    "print(type(tuple))"
   ]
  },
  {
   "cell_type": "markdown",
   "metadata": {},
   "source": [
    "## Task 1\n",
    "\n",
    "Write a function that constructs the Cartesian product of two fuctions. Use the variable type tuple."
   ]
  },
  {
   "cell_type": "code",
   "execution_count": 3,
   "metadata": {},
   "outputs": [
    {
     "name": "stdout",
     "output_type": "stream",
     "text": [
      "{(2, 'C'), (1, 'A'), (3, 'A'), (3, 'B'), (2, 'B'), (2, 'A'), (3, 'C'), (1, 'C'), (1, 'B')}\n"
     ]
    }
   ],
   "source": [
    "def product(A, B):\n",
    "    return {(i,j) for i in A for j in B}\n",
    "\n",
    "A = {1,2,3}\n",
    "B = {'A','B','C'}\n",
    "\n",
    "print(product(A, B))"
   ]
  },
  {
   "cell_type": "markdown",
   "metadata": {},
   "source": [
    "## Task 2\n",
    "Write a function $\\texttt{relation}$ which takes as an input two sets $A$ and $B$, as well as a function $P(a,b)$ where $a\\in A$ and $b\\in B$. The function should return a truth set for $P$. \n",
    "\n",
    "Proceed as follows:\n",
    "1. Define the function $P$ which takes the inputs $a \\in A$ and $b \\in B$. Use lambda-calculus. The function shall evaluate the statement $a>b$.\n",
    "2. Write the function $\\texttt{relation}$ and test it with the sets $A$ and $B$ and the function $P(a,b)$."
   ]
  },
  {
   "cell_type": "code",
   "execution_count": 2,
   "metadata": {},
   "outputs": [],
   "source": [
    "A = {i for i in range(-2,2)}\n",
    "B = {i for i in range(-2,2)}\n",
    "\n",
    "#todo \n",
    "P = lambda a,b: a >b\n",
    "\n",
    "def relation(A,B,P):\n",
    "    return {(a,b) for a in A for b in B if P(a,b)}\n",
    "\n",
    "print(relation(A,B,P))"
   ]
  },
  {
   "cell_type": "markdown",
   "metadata": {},
   "source": [
    "## Task 3\n",
    "Use your function $\\texttt{relation}$ from task 2 and construct the truth set for the statement:<br>\n",
    "\"$a$ is devisable by $b$\"\n",
    "where $a \\in A$ and  $b \\in B\\setminus\\{0\\}$."
   ]
  },
  {
   "cell_type": "code",
   "execution_count": 3,
   "metadata": {},
   "outputs": [],
   "source": [
    "#todo\n",
    "Q = lambda a,b: a%b==0\n",
    "\n",
    "print(relation(A,B-{0},Q))\n"
   ]
  },
  {
   "cell_type": "markdown",
   "metadata": {},
   "source": [
    "## Task 4\n",
    "\n",
    "1. Write a function $\\texttt{Dom}$ which takes a source set and a target set as well as a relation as input arguments. The function shall return the domain of the relation.\n",
    "2. Write a function $\\texttt{Ran}$ which takes a source set and a target set as well as a relation as input arguments. The function shall return the range of the relation.\n",
    "\n",
    "Use the objects $A,B,W$ and $R$ to test your function."
   ]
  },
  {
   "cell_type": "code",
   "execution_count": 5,
   "metadata": {},
   "outputs": [],
   "source": [
    "A = {i for i in range(-10,11)}\n",
    "B = {i for i in range(-10,11)}\n",
    "W = lambda a,b: a**2==b\n",
    "R = relation(A,B-{0},W)\n",
    "\n",
    "#todo\n",
    "def Dom(R, A, B):\n",
    "    return {a for a in A for b in B if (a, b) in R}\n",
    "\n",
    "def Ran(R, A, B):\n",
    "    return {b for b in B for a in A if (a, b) in R}\n",
    "\n",
    "print(Dom(R,A,B))\n",
    "print(Ran(R,A,B))"
   ]
  },
  {
   "cell_type": "markdown",
   "metadata": {},
   "source": [
    "## Task 5\n",
    "\n",
    "Now, write two function that only take a relation as an input parameter and return\n",
    "1. the domain ($\\texttt{dom}$)\n",
    "2. and the range ($\\texttt{ran}$)"
   ]
  },
  {
   "cell_type": "code",
   "execution_count": 6,
   "metadata": {},
   "outputs": [],
   "source": [
    "# todo\n",
    "def dom(R):\n",
    "    return {el[0] for el in R}\n",
    "\n",
    "def ran(R):\n",
    "    return {el[1] for el in R}\n",
    "\n",
    "print(dom(R))\n",
    "print(ran(R))"
   ]
  },
  {
   "cell_type": "markdown",
   "metadata": {},
   "source": [
    "## Task 6\n",
    "\n",
    "Write a function which takes two relations $S$ and $R$ as inputs and returns the composition of the two. Do the two relations commute, i.e. does $R\\circ S = S \\circ R$ hold?"
   ]
  },
  {
   "cell_type": "code",
   "execution_count": 10,
   "metadata": {},
   "outputs": [],
   "source": [
    "A = {i for i in range(-10,11)}\n",
    "B = A\n",
    "C = range(6,11)\n",
    "\n",
    "R = relation(A, B,lambda a, b: a**2==b)\n",
    "S = relation(A, C, lambda a, b: a%b == 0)\n",
    "\n",
    "# todo\n",
    "\n",
    "def concat(S, R):\n",
    "    return {(a, d) for (a, b) in S for (c, d) in R if b == c}\n",
    "\n",
    "concat(S,R)"
   ]
  },
  {
   "cell_type": "markdown",
   "metadata": {},
   "source": [
    "## Task 7\n",
    "\n",
    "Implement functions to check whether a given relation $R$ has the characteristic\n",
    "- $\\texttt{isDefinal}(R,A,B)$ - checks whether the relation is definal.\n",
    "- $\\texttt{isLeftUnique}(R,A,B)$ - checks whether the relation is left-unique.\n",
    "- $\\texttt{isSurjektive}(R,A,B)$ -checks whether the relation is surjective.\n",
    "-  $\\texttt{isRightUnique}(R,A,B)$ - checks whether the relation is right-unique.\n",
    "- $\\texttt{isBitotal}(R,A,B)$ - checks whether the relation is bitotal.\n",
    "- $\\texttt{isUniqueUnique}(R,A,B)$ - checks whether the relation is unique-unique.\n",
    "- $\\texttt{isBijektiv}(R,A,B)$ - checks whether the relation is bijective.\n",
    "\n",
    "All functions should take as input arguments a relation $R$ as we ll as the sets $A$ and $B$. The functions should return a boolean variable (True/False)."
   ]
  },
  {
   "cell_type": "code",
   "execution_count": 11,
   "metadata": {},
   "outputs": [],
   "source": [
    "# two helper functions\n",
    "def thereExists(a,R,dim):\n",
    "    return(any([el[dim]==a for el in R]))\n",
    "\n",
    "def thereExistsOne(a,R,dim):\n",
    "    return(sum([el[dim]==a for el in R])==1)\n",
    "\n",
    "# todo\n",
    "def isDefinal(R, A, B):\n",
    "    # Each element in A has at least one partner in B\n",
    "    return False not in {thereExists(a,R,0) for a in A}\n",
    "\n",
    "def isSurjektiv(R, A, B):\n",
    "    # Each element in B has at least one partner in A\n",
    "    return False not in {thereExists(b,R,1) for b in B}\n",
    "\n",
    "def isLeftUnique(R, A, B):\n",
    "    # Each element in A has at most one partner in B\n",
    "    return all([a==c for a in A for c in A for b in B if ((a,b) in R) and ((c,b) in R)])\n",
    "\n",
    "def isRightUnique(R, A, B):\n",
    "     # Each element in A has at most one partner in B\n",
    "    return all([b==d for a in A for b in B for d in B if ((a,b) in R) and ((a,d) in R)])\n",
    "\n",
    "def isBitotal(R, A, B):\n",
    "    # Each element from A has at least one partner in B and vice-versa.\n",
    "    # definal and surjektiv\n",
    "    return isDefinal(R, A, B) and isSurjektiv(R, A, B)\n",
    "\n",
    "def isUniqueUnique(R, A, B):\n",
    "    # Each Element from A has at least one partner in B and vice-versa.\n",
    "    # left-unique and right-unique\n",
    "    return isLeftUnique(R, A, B) and isRightUnique(R, A, B)\n",
    "\n",
    "def isBijektiv(R, A, B):\n",
    "    # Each element in B has exactly one Partner\n",
    "    return all({thereExistsOne(b,R,1) for b in B})\n",
    "\n",
    "def isFunction(R, A, B):\n",
    "     # Each element in A has exactly one partner in B\n",
    "    return all({thereExistsOne(a,R,0) for a in A})\n",
    "\n"
   ]
  },
  {
   "cell_type": "code",
   "execution_count": null,
   "metadata": {},
   "outputs": [],
   "source": [
    "# For testing\n",
    "A = {1, 2, 3}\n",
    "B = {\"A\", \"B\", \"C\", \"D\"}\n",
    "C = {1,2,3,4}\n",
    "D = {\"K\",\"L\",\"M\"}\n",
    "\n",
    "R1 = {(1, \"A\"), (2, \"B\"), (3, \"B\"), (3, \"C\"), (2, \"D\")}\n",
    "R2 = {(1, \"A\"), (2, \"A\"), (3, \"B\")}\n",
    "\n",
    "R3 = {(1, \"A\"), (2, \"C\"), (3, \"B\")}\n",
    "R4 = {(1, \"A\"), (2, \"B\"), (3, \"B\")}\n",
    "\n",
    "R5 = {(1, \"A\"), (3, \"B\")}\n",
    "R6 = {(1, \"A\"), (3, \"B\"), (3, \"C\")}\n",
    "\n",
    "R7 = {(1,\"K\"),(2,\"L\"),(3,\"M\")}\n",
    "\n",
    "print(\"isDefinal: R1:\", isDefinal(R1, A, B)) # True\n",
    "print(\"isDefinal: R2:\", isDefinal(R2, A, B)) # True\n",
    "print(\"isDefinal: R5:\", isDefinal(R5, A, B)) # False\n",
    "\n",
    "print(\"isSurjektiv: R1:\", isSurjektiv(R1, A, B)) #True\n",
    "print(\"isSurjektiv: R2:\", isSurjektiv(R2, A, B)) # False\n",
    "print(\"isSurjektiv: R5:\", isSurjektiv(R5, A, B)) # False\n",
    "\n",
    "print(\"isLeftUnique R3?:\", isLeftUnique(R3, A, B)) # True\n",
    "print(\"isLeftUnique R4?:\", isLeftUnique(R4, A, B)) # False\n",
    "\n",
    "print(\"isRightUnique R5?:\", isRightUnique(R5, A, B)) # True\n",
    "print(\"isRightUnique R6?:\", isRightUnique(R6, A, B)) # False\n",
    "\n",
    "print(\"isBijektiv R1?:\", isBijektiv(R1, A, B)) # False\n",
    "print(\"isBijektiv R7?:\", isBijektiv(R7, C, D)) # True\n",
    "\n",
    "print(\"isFunction R1?:\", isFunction(R1, A, B)) # False\n",
    "print(\"isFunction R3?:\", isFunction(R3, A, B)) # True"
   ]
  }
 ],
 "metadata": {
  "kernelspec": {
   "display_name": "Python 3",
   "language": "python",
   "name": "python3"
  },
  "language_info": {
   "codemirror_mode": {
    "name": "ipython",
    "version": 3
   },
   "file_extension": ".py",
   "mimetype": "text/x-python",
   "name": "python",
   "nbconvert_exporter": "python",
   "pygments_lexer": "ipython3",
   "version": "3.4.6"
  }
 },
 "nbformat": 4,
 "nbformat_minor": 2
}
