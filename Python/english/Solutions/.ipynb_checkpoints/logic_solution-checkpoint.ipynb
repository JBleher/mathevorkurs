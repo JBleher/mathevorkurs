{
 "cells": [
  {
   "cell_type": "markdown",
   "metadata": {},
   "source": [
    "# Logic"
   ]
  },
  {
   "cell_type": "code",
   "execution_count": 1,
   "metadata": {},
   "outputs": [],
   "source": [
    "import numpy as np"
   ]
  },
  {
   "cell_type": "markdown",
   "metadata": {},
   "source": [
    "Logical statements form the foundation of computational programs. Often tasks shall be accomplished until or while a certain logical statement is either true or false (until/while loops). In other cases program code is only evaluated if a certain condition is satisfied (if-else-statements, case distinction).\n",
    "\n",
    "The fundamental building block of logical statements is the categorization as being either true or false. Variables which can take either one of those two values, are called Boolean variables."
   ]
  },
  {
   "cell_type": "code",
   "execution_count": 2,
   "metadata": {},
   "outputs": [
    {
     "name": "stdout",
     "output_type": "stream",
     "text": [
      "True True True\n"
     ]
    }
   ],
   "source": [
    "# Definition of a boolean variable with value True\n",
    "x = True\n",
    "\n",
    "# Definition of a boolean variable with logical statement using ordering operators\n",
    "y = (1==2-1)\n",
    "z = (2>1)\n",
    "\n",
    "print(x,y,z)"
   ]
  },
  {
   "cell_type": "markdown",
   "metadata": {},
   "source": [
    "Statements can also be connected. Therefore, for this purpose the junctors i.e. the logical operators $\\land, \\lor, \\lnot$ (and, or, not) are defined. "
   ]
  },
  {
   "cell_type": "code",
   "execution_count": 3,
   "metadata": {},
   "outputs": [
    {
     "name": "stdout",
     "output_type": "stream",
     "text": [
      "A und B:  False\n",
      "A oder B:  True\n",
      "nicht A:  True\n"
     ]
    }
   ],
   "source": [
    "# Suppose we have two statements\n",
    "A = False\n",
    "B = True\n",
    "\n",
    "# ... then we can connect the two statements\n",
    "print(\"A und B: \", A and B)\n",
    "print(\"A oder B: \", A or B)\n",
    "print(\"nicht A: \", not A)\n",
    "\n"
   ]
  },
  {
   "cell_type": "markdown",
   "metadata": {},
   "source": [
    "## Task 1\n",
    "\n",
    "Write a function $\\texttt{implies}(A,B)$ which evaluates if the statement $A\\implies B$ holds. \n",
    "\n",
    "*Hint*: $(A\\implies B)$ can also be written as $(A \\land B)\\lor \\lnot B$.\n"
   ]
  },
  {
   "cell_type": "code",
   "execution_count": 5,
   "metadata": {},
   "outputs": [
    {
     "name": "stdout",
     "output_type": "stream",
     "text": [
      "A impliziert B: False\n"
     ]
    }
   ],
   "source": [
    "# todo\n",
    "\n",
    "def implies(A,B):\n",
    "    return((A and B) or not B)\n",
    "\n",
    "print(\"A impliziert B:\",implies(A,B))"
   ]
  },
  {
   "cell_type": "markdown",
   "metadata": {},
   "source": [
    "## Task 2\n",
    "\n",
    "Write a function $\\texttt{equiv}(A,B)$ which evaluates the statement $A\\iff B$."
   ]
  },
  {
   "cell_type": "code",
   "execution_count": 6,
   "metadata": {},
   "outputs": [
    {
     "name": "stdout",
     "output_type": "stream",
     "text": [
      "A ist equivalent zu B: False\n"
     ]
    }
   ],
   "source": [
    "# todo\n",
    "def equiv(A,B):\n",
    "    return((A and B) or (not A and not B))\n",
    "\n",
    "print(\"A ist equivalent zu B:\",equiv(A,B))"
   ]
  },
  {
   "cell_type": "markdown",
   "metadata": {},
   "source": [
    "## Task 3\n",
    "\n",
    "Suppose you have two logical statements $P$ and $Q$. Construct a truth table that displays the values a joint statement (consisting of these two statements connected with some junctors $\\land, \\lor, \\implies, \\iff$) can take.\n",
    "\n",
    "Use the package numpy. The functions <a href=\"https://docs.scipy.org/doc/numpy-1.13.0/reference/routines.logic.html\"> for the elementwise logical comparison</a> are helpful.\n",
    "\n",
    "A numpy-array $\\texttt{allcomb}$ with all combinations is already generated for you. You can access columns of the array via $\\texttt{allcomb[:,0]}$ or $\\texttt{allcomb[:,1]}$."
   ]
  },
  {
   "cell_type": "code",
   "execution_count": 7,
   "metadata": {},
   "outputs": [
    {
     "name": "stdout",
     "output_type": "stream",
     "text": [
      "[[ True  True  True  True  True  True]\n",
      " [False  True False  True  True False]\n",
      " [ True False False  True False False]\n",
      " [False False False False  True  True]]\n"
     ]
    }
   ],
   "source": [
    "# The two vectors and with their two values\n",
    "P = [True, False]\n",
    "Q = [True, False]\n",
    "\n",
    "# Get a table of all combinations\n",
    "allcomb = np.array([[(i,j) for i in P] for j in Q]).reshape(len(P)*len(Q),2)\n",
    "\n",
    "#todo \n",
    "P = [True, False]\n",
    "Q = [True, False]\n",
    "\n",
    "# Get a table of all combinations\n",
    "allcomb = np.array([[(i,j) for i in P] for j in Q]).reshape(len(P)*len(Q),2)\n",
    "\n",
    "#todo \n",
    "C = np.logical_and(allcomb[:,0],allcomb[:,1])[np.newaxis]\n",
    "D = np.logical_or(allcomb[:,0],allcomb[:,1])[np.newaxis]\n",
    "E = np.logical_or(np.logical_not(allcomb[:,0]),allcomb[:,1])[np.newaxis]\n",
    "F = np.logical_or(np.logical_and(allcomb[:,0],allcomb[:,1]),np.logical_and(np.logical_not(allcomb[:,0]),np.logical_not(allcomb[:,1])))[np.newaxis]\n",
    "out = np.hstack([allcomb,C.T,D.T,E.T,F.T])\n",
    "\n",
    "print(out)\n"
   ]
  },
  {
   "cell_type": "markdown",
   "metadata": {},
   "source": [
    "## Task 4:\n",
    "On an island there live two types of islanders: honest insulars and liars. Suppose the insular $A$ claims about himself and his brother $B$: \"At least one of us is a liar.\" Find out of which type both $A$ and his brother $B$ are.\n",
    "\n",
    "- Formulate the claim $C$ as a logical statement depending on the type of $A$ and $B$. For this purpose, $A=1$ if $A$ is honest and $A=0$, if $A$ is a liar."
   ]
  },
  {
   "cell_type": "code",
   "execution_count": 10,
   "metadata": {},
   "outputs": [],
   "source": [
    "# todo\n",
    "\n",
    "def CC(A,B):\n",
    "    return((A and not(B)) or (not(A) and B) or (not(A) and not(B)))"
   ]
  },
  {
   "cell_type": "markdown",
   "metadata": {},
   "source": [
    "- Furthermore, we know that if $A$ is a liar then the claim $C$ is false and if $A$ is an honest perso the claim $C$ has to be true. Thus, formulate the total statement in dependence of $A$ and $B$."
   ]
  },
  {
   "cell_type": "code",
   "execution_count": 8,
   "metadata": {},
   "outputs": [],
   "source": [
    "# todo\n",
    "\n",
    "\n",
    "def S(A,B):\n",
    "    return((A and CC(A,B)) or (not(A) and not(CC(A,B))))"
   ]
  },
  {
   "cell_type": "markdown",
   "metadata": {},
   "source": [
    "- Generate a truth table for all possible combinations of $A$ and $B$. Of which sort are both persons?"
   ]
  },
  {
   "cell_type": "code",
   "execution_count": 12,
   "metadata": {},
   "outputs": [],
   "source": [
    "# todo\n",
    "\n",
    "# The two vectors and with their two values\n",
    "A = [True, False]\n",
    "B = [True, False]\n",
    "\n",
    "# Get a table of all combinations\n",
    "allcomb = np.array([[(i,j) for i in A] for j in B]).reshape(len(A)*len(B),2)\n",
    "\n",
    "[S(row[0],row[1]) for row in allcomb]\n",
    "# i.e.:\n",
    "# A tells the truth\n",
    "# B is a liar"
   ]
  },
  {
   "cell_type": "markdown",
   "metadata": {},
   "source": [
    "## Task 5\n",
    "\n",
    "Consider the same szenario as in Task 4. How does the result change if $A$ claims \"Exactly one of us is a liar\"."
   ]
  },
  {
   "cell_type": "code",
   "execution_count": null,
   "metadata": {},
   "outputs": [],
   "source": [
    "# todo\n",
    "\n",
    "def CCalt(A,B):\n",
    "    return((A and not(B)) or (not(A) and B))\n",
    "def Salt(A,B):\n",
    "    return((A and CCalt(A,B)) or (not(A) and not(CCalt(A,B))))\n",
    "\n",
    "[Salt(row[0],row[1]) for row in allcomb]\n",
    "\n",
    "# Two solutions: Solution from task 4 + Both are liars and the statement is false."
   ]
  },
  {
   "cell_type": "markdown",
   "metadata": {},
   "source": [
    "## Task 6\n",
    "In the book “The Logician and the Engineer, How George Boole and Claude Shannon Created the Information Age” P.J. Nahin you can find the following puzzle:\n",
    "\n",
    "On a desk there are three boxes, labeled with three letters $A$, $B$ und $C$. In each box, there is a coloured plastic chip. One chip is red, one white, and one blue. Where each chip can be found is unknown. You have one further hint: Exactly one of the following statements is true:\n",
    "\n",
    "- The red chip is in box $A$\n",
    "- The red chip is not in box $B$\n",
    "- Box $C$ does not contain the blue chip.\n",
    "\n",
    "Which chip is in which box?\n",
    "\n",
    "\n",
    "In order to solve the problem programmatically we can introduce an array with 9 boolean entries (TRUE/FALSE). We have, in principle, $2^9 = 512$ possibilities. With a computer we can check all possibilities.\n",
    "For the array, we define the following conventions:\n",
    "\n",
    "\n",
    " <table>\n",
    "  <tr>\n",
    "    <th></th>\n",
    "    <th>A</th>\n",
    "    <th>B</th>\n",
    "    <th>C</th>\n",
    "  </tr>\n",
    "  <tr>\n",
    "    <td>r</td>\n",
    "    <td>TRUE/FALSE</td>\n",
    "    <td>TRUE/FALSE</td>\n",
    "    <td>TRUE/FALSE</td>\n",
    "  </tr>\n",
    "   <tr>\n",
    "    <td>w</td>\n",
    "    <td>TRUE/FALSE</td>\n",
    "    <td>TRUE/FALSE</td>\n",
    "    <td>TRUE/FALSE</td>\n",
    "  </tr>\n",
    "   <tr>\n",
    "    <td>b</td>\n",
    "    <td>TRUE/FALSE</td>\n",
    "    <td>TRUE/FALSE</td>\n",
    "    <td>TRUE/FALSE</td>\n",
    "  </tr>\n",
    "</table> \n",
    "\n",
    "So, if in row 1 and column 1 there the value \"TRUE\" is set, then the box $A$ contains the red chip.\n",
    "Write a function $\\texttt{check}()$, which evaluates all possible statments."
   ]
  },
  {
   "cell_type": "code",
   "execution_count": 9,
   "metadata": {},
   "outputs": [
    {
     "name": "stdout",
     "output_type": "stream",
     "text": [
      "[[False False  True]\n",
      " [ True False False]\n",
      " [False  True False]]\n"
     ]
    }
   ],
   "source": [
    "S = np.zeros((9,1), dtype=bool)\n",
    "\n",
    "def check(Array):\n",
    "    #Checke if 3 chips are in the array\n",
    "    Check1 = np.sum(Array,None)==3\n",
    "    #Checke if 1 chip is in each box\n",
    "    Check2 = sum(np.sum(Array,0)==[1,1,1])==3\n",
    "    #Check if all three chips have different colors\n",
    "    Check3 = sum(np.sum(Array,1)==[1,1,1])==3\n",
    "    #Formulate each statement separately\n",
    "    I1 = Array[0,0] == True\n",
    "    I2 = Array[1,0] == False\n",
    "    I3 = Array[2,2] == False\n",
    "    # Exactly one statement has to be true\n",
    "    Info = (I1 and not(I2) and not(I3)) or (not(I1) and I2 and not(I3)) or (not(I1) and not(I2) and I3)\n",
    "    # Merge everything together and return a boolean value\n",
    "    return(Check1 and Check2 and Check3 and Info)\n",
    "\n",
    "for ii in range(2**9):\n",
    "    S  = np.array([bool(int(x)) for x in '{0:09b}'.format(ii)]).reshape(3,3)\n",
    "    if check(S):\n",
    "        print(S)"
   ]
  },
  {
   "cell_type": "code",
   "execution_count": null,
   "metadata": {},
   "outputs": [],
   "source": []
  }
 ],
 "metadata": {
  "kernelspec": {
   "display_name": "Python 3",
   "language": "python",
   "name": "python3"
  },
  "language_info": {
   "codemirror_mode": {
    "name": "ipython",
    "version": 3
   },
   "file_extension": ".py",
   "mimetype": "text/x-python",
   "name": "python",
   "nbconvert_exporter": "python",
   "pygments_lexer": "ipython3",
   "version": "3.4.6"
  }
 },
 "nbformat": 4,
 "nbformat_minor": 2
}
