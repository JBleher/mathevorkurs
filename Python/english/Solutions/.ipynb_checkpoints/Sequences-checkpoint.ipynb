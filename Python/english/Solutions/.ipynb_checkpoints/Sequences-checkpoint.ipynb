{
 "cells": [
  {
   "cell_type": "markdown",
   "metadata": {},
   "source": [
    "# Sequences"
   ]
  },
  {
   "cell_type": "code",
   "execution_count": 3,
   "metadata": {},
   "outputs": [],
   "source": [
    "# dependencies:\n",
    "import matplotlib.pyplot as plt\n",
    "import numpy as np\n",
    "%matplotlib inline"
   ]
  },
  {
   "cell_type": "markdown",
   "metadata": {},
   "source": [
    "## Task 1\n",
    "\n",
    "Write a function that for the sequence\n",
    "\n",
    "\\begin{align*}\n",
    "A_{n} &= \\dfrac{(-1)^{n} 4 n}{n^{2} + 2} \\\\[12pt]\n",
    "B_{n} &= \\dfrac{(-1)^{n} 4 n}{n + 2}\n",
    "\\end{align*}\n",
    "\n"
   ]
  },
  {
   "cell_type": "code",
   "execution_count": 4,
   "metadata": {},
   "outputs": [],
   "source": [
    "# todo\n",
    "A = lambda n: ((-1)**n*4*n)/(n**2+2)\n",
    "B = lambda n: ((-1)**n*4*n)/(n+2)"
   ]
  },
  {
   "cell_type": "markdown",
   "metadata": {},
   "source": [
    "## Task 2\n",
    "\n",
    "Create a vector of all sequence values $A_n$ and $B_n$ for $n \\in [1,100]$ while $n \\in \\mathbb{N}$.\n"
   ]
  },
  {
   "cell_type": "code",
   "execution_count": 5,
   "metadata": {},
   "outputs": [],
   "source": [
    "# todo\n",
    "An = [A(n) for n in range(2,101)]\n",
    "Bn = [B(n) for n in range(2,101)]"
   ]
  },
  {
   "cell_type": "markdown",
   "metadata": {},
   "source": [
    "## Task 3\n",
    "\n",
    "Write a function that takes as input arguments a sequence-generating function (here A or B) as well as threshold-value $\\varepsilon$. The function should then determine, whether the sequence converges or not and, if so, return the limiting value of the sequence. \n",
    "\n",
    "For the purpose of this function, and similar to the Cauchy criterion, we define that a sequence converges if the following two characteristics are fulfilled:\n",
    "- the absolute value of the difference of the direct successor within the sequence is smaller than the threshold value, i.e. $|a_{n+1} - a_{n}|<\\varepsilon$.\n",
    "- the absolute value of the difference of the 100$^{\\text{th}}$ successor within the sequence is smaller than the threshold value, i.e. $|a_{n+100} - a_{n}|<\\varepsilon$.\n",
    "\n",
    "The point for which these two characterstics are fulfilled, we call $n_{\\varepsilon}$.\n",
    "\n",
    "Furthermore, we define for this function that a sequence is taxed as diverging if after $10^6$ iterations the above characteristisc are not fulfilled. \n",
    "\n",
    "In order to determine the limiting value, evaluate the sequence $10^4$ steps after $n_{\\varepsilon}$.\n",
    "\n",
    "In the case that your function converges, it should return the a list with the limiting value as well as the point $n_{\\varepsilon}$. In the case that it does not converge, the limiting value returned should be the string \"Error\" and $n_{\\varepsilon} = -1$.\n"
   ]
  },
  {
   "cell_type": "code",
   "execution_count": 6,
   "metadata": {},
   "outputs": [
    {
     "data": {
      "text/plain": [
       "{'Limit': 0.000399201588854196, 'n': 20}"
      ]
     },
     "execution_count": 6,
     "metadata": {},
     "output_type": "execute_result"
    }
   ],
   "source": [
    "def limes(fn,epsl):\n",
    "    n, err1, err2 =1,1,1\n",
    "    while ((err1 > epsl) or (err2 >epsl)):\n",
    "        n = n+1\n",
    "        err1 = abs(fn(n+1)-fn(n))\n",
    "        err2 = abs(fn(n+100)-fn(n))\n",
    "        lim = fn(n+10**4)\n",
    "        if n > 10**(6):\n",
    "            print(\"Sequence did not converge!\")\n",
    "            n = -1\n",
    "            lim=\"Error\"\n",
    "            break\n",
    "    return {\"Limit\": lim,\"n\":n}\n",
    "\n",
    "\n",
    "epsl = 0.4\n",
    "limes(A,epsl)"
   ]
  },
  {
   "cell_type": "markdown",
   "metadata": {},
   "source": [
    "## Task 4\n",
    "Plot the sequence $A_n$. Draw the limiting value $\\lim_{n \\to \\infty} a_n = a$, which the function from Task 3 has determined into the graph. Use a thresholdvalue $\\varepsilon= 0.4$. Shade the area $[a-\\varepsilon,a+\\varepsilon]$ grey. Also highlight the value from which on the convergence criteria (that your function uses) are satisfied i.e. $n>n_\\varepsilon$.\n"
   ]
  },
  {
   "cell_type": "code",
   "execution_count": 9,
   "metadata": {},
   "outputs": [
    {
     "data": {
      "text/plain": [
       "<matplotlib.collections.LineCollection at 0x7fb6ca03e320>"
      ]
     },
     "execution_count": 9,
     "metadata": {},
     "output_type": "execute_result"
    },
    {
     "data": {
      "image/png": "[encoded data removed]",
      "text/plain": [
       "<Figure size 432x288 with 1 Axes>"
      ]
     },
     "metadata": {},
     "output_type": "display_data"
    }
   ],
   "source": [
    "# todo\n",
    "\n",
    "# Set the various values\n",
    "n = [item for item in range(1,25)]\n",
    "An = [A(jj) for jj in n]\n",
    "epsilon = 0.4\n",
    "lim = limes(A,epsilon)\n",
    "n_epsilon = lim[\"n\"]\n",
    "a = lim[\"Limit\"]\n",
    "\n",
    "# make a new graph\n",
    "fig = plt.figure()\n",
    "ax = fig.add_subplot(111)\n",
    "ax.margins(0.01,0.01) # enhance margins\n",
    "\n",
    "# Modify axis labels and tick marks\n",
    "ax.set_xticks(ticks=[0, n_epsilon])\n",
    "ax.set_xticklabels([ 0, \"$n_{\\epsilon}$\"])\n",
    "ax.set_yticks(ticks=[ -epsilon,a, +epsilon])\n",
    "ax.set_yticklabels([\"$a - \\epsilon$\",\"$a$\", \"$a + \\epsilon$\"])\n",
    "ax.set_xlabel(\"n\")\n",
    "ax.set_ylabel(\"$a_{n}$\")\n",
    "\n",
    "# Add additional lines\n",
    "ax.plot(n, [a + epsilon for item in n], linestyle=\":\", color=\"red\")\n",
    "ax.plot(n, [a - epsilon for item in n], linestyle=\":\", color=\"red\")\n",
    "ax.plot(n, [a for item in n], linestyle=\"-.\", color=\"black\", alpha=1)\n",
    "\n",
    "\n",
    "# Highlight the area $[a-\\varepsilon,a+\\varepsilon]$\n",
    "ax.fill_between(n, a-epsilon, a+epsilon, facecolor='gray', alpha=0.5)\n",
    "\n",
    "\n",
    "# plot the sequence\n",
    "ax.scatter(n, An, s=15, color=\"black\")\n",
    "\n",
    "# vertical lines for n_epsilon\n",
    "ax.vlines(x=n_epsilon, ymin=ax.get_ylim()[0], ymax= A(n_epsilon), colors='k', linewidth=0.7)"
   ]
  },
  {
   "cell_type": "markdown",
   "metadata": {},
   "source": [
    "## Task 5\n",
    "\n",
    "Write a function that takes as input arguments a sequence-generating function, a threshold value $\\varepsilon$ and an upper limit for $n$ up to which the sequence should be plotted. The function should have no return value but produce a graph like in task 4.\n",
    "\n",
    "Test the function for the sequence:\n",
    "\n",
    "\\begin{align*}\n",
    "C_n = 1+\\frac{1}{n}\n",
    "\\end{align*}\n"
   ]
  },
  {
   "cell_type": "code",
   "execution_count": 11,
   "metadata": {},
   "outputs": [
    {
     "data": {
      "image/png": "[encoded data removed]",
      "text/plain": [
       "<Figure size 432x288 with 1 Axes>"
      ]
     },
     "metadata": {},
     "output_type": "display_data"
    }
   ],
   "source": [
    "f = lambda n: 1+1/n\n",
    "\n",
    "# Hint: the function does not need to return a value\n",
    "def plot_sequence(f,epsilon,upper):\n",
    "    # todo\n",
    "    \n",
    "    # Festlegen der Werte\n",
    "    n = [item for item in range(1,upper)]\n",
    "    fn = [f(jj) for jj in n]\n",
    "    lim = limes(f,epsilon)\n",
    "    n_epsilon = lim[\"n\"]\n",
    "    a = lim[\"Limit\"]\n",
    "\n",
    "    # Erstellen eines neuen Graphen\n",
    "    fig = plt.figure()\n",
    "    ax = fig.add_subplot(111)\n",
    "    ax.margins(0.01,0.01) # Margin erweitern\n",
    "\n",
    "    # Achsenbeschriftung und Tickmarks anpassen\n",
    "    ax.set_xticks(ticks=[0, n_epsilon])\n",
    "    ax.set_xticklabels([ 0, \"$n_{\\epsilon}$\"])\n",
    "    ax.set_yticks(ticks=[ -epsilon,a, +epsilon])\n",
    "    ax.set_yticklabels([\"$a - \\epsilon$\",\"$a$\", \"$a + \\epsilon$\"])\n",
    "    ax.set_xlabel(\"n\")\n",
    "    ax.set_ylabel(\"$a_{n}$\")\n",
    "\n",
    "    # Zusätzliche Linien einziehen\n",
    "    ax.plot(n, [a + epsilon for item in n], linestyle=\":\", color=\"red\")\n",
    "    ax.plot(n, [a - epsilon for item in n], linestyle=\":\", color=\"red\")\n",
    "    ax.plot(n, [a for item in n], linestyle=\"-.\", color=\"black\", alpha=1)\n",
    "\n",
    "\n",
    "    # Hervorheben des Bereichs $[a-\\varepsilon,a+\\varepsilon]$\n",
    "    ax.fill_between(n, a-epsilon, a+epsilon, facecolor='gray', alpha=0.5)\n",
    "\n",
    "\n",
    "    # Folge abtragen\n",
    "    ax.scatter(n, fn, s=15, color=\"black\")\n",
    "\n",
    "    # Vertikale Linie für n_epsilon\n",
    "    ax.vlines(x=n_epsilon, ymin=ax.get_ylim()[0], ymax= f(n_epsilon), colors='k', linewidth=0.7)\n",
    "    pass\n",
    "    \n",
    "\n",
    "plot_sequence(f,.1,15)"
   ]
  },
  {
   "cell_type": "markdown",
   "metadata": {},
   "source": [
    "## Task 6\n",
    "\n",
    "Use the function you just have created to plot the geometrical series $q = \\frac{1}{1.02}$ for partial sums up to $ n = 1000$. <br>\n",
    "\n",
    "$$ S_{n} = \\sum\\limits_{k=0}^{n}\\left(\\frac{1}{1.02}\\right)^{k}$$\n",
    "\n",
    "*Hint: $\\texttt{sum(list)}$ returns the sum of a $\\texttt{list}$*"
   ]
  },
  {
   "cell_type": "code",
   "execution_count": 12,
   "metadata": {},
   "outputs": [
    {
     "data": {
      "image/png": "[encoded data removed]",
      "text/plain": [
       "<Figure size 432x288 with 1 Axes>"
      ]
     },
     "metadata": {},
     "output_type": "display_data"
    }
   ],
   "source": [
    "q = lambda n: sum([2/(1.02)**k for k in range(0, n+1)])\n",
    "\n",
    "#limes(q,0.1)\n",
    "plot_sequence(q,.5,1000)\n"
   ]
  },
  {
   "cell_type": "code",
   "execution_count": null,
   "metadata": {},
   "outputs": [],
   "source": []
  }
 ],
 "metadata": {
  "kernelspec": {
   "display_name": "Python 3",
   "language": "python",
   "name": "python3"
  },
  "language_info": {
   "codemirror_mode": {
    "name": "ipython",
    "version": 3
   },
   "file_extension": ".py",
   "mimetype": "text/x-python",
   "name": "python",
   "nbconvert_exporter": "python",
   "pygments_lexer": "ipython3",
   "version": "3.4.6"
  }
 },
 "nbformat": 4,
 "nbformat_minor": 2
}
