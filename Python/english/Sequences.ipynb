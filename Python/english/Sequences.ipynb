{
 "cells": [
  {
   "cell_type": "markdown",
   "metadata": {},
   "source": [
    "# Sequences"
   ]
  },
  {
   "cell_type": "code",
   "execution_count": 1,
   "metadata": {},
   "outputs": [],
   "source": [
    "# dependencies:\n",
    "import matplotlib.pyplot as plt\n",
    "import numpy as np\n",
    "%matplotlib inline"
   ]
  },
  {
   "cell_type": "markdown",
   "metadata": {},
   "source": [
    "## Task 1\n",
    "\n",
    "Write a function that for the sequence\n",
    "\n",
    "\\begin{align*}\n",
    "A_{n} &= \\dfrac{(-1)^{n} 4 n}{n^{2} + 2} \\\\[12pt]\n",
    "B_{n} &= \\dfrac{(-1)^{n} 4 n}{n + 2}\n",
    "\\end{align*}\n",
    "\n"
   ]
  },
  {
   "cell_type": "code",
   "execution_count": 30,
   "metadata": {},
   "outputs": [],
   "source": [
    "# todo\n"
   ]
  },
  {
   "cell_type": "markdown",
   "metadata": {},
   "source": [
    "## Task 2\n",
    "\n",
    "Create a vector of all sequence values $A_n$ and $B_n$ for $n \\in [1,100]$ while $n \\in \\mathbb{N}$.\n"
   ]
  },
  {
   "cell_type": "code",
   "execution_count": 31,
   "metadata": {},
   "outputs": [],
   "source": [
    "# todo\n"
   ]
  },
  {
   "cell_type": "markdown",
   "metadata": {},
   "source": [
    "## Task 3\n",
    "\n",
    "Write a function that takes as input arguments a sequence-generating function (here A or B) as well as threshold-value $\\varepsilon$. The function should then determine, whether the sequence converges or not and, if so, return the limiting value of the sequence. \n",
    "\n",
    "For the purpose of this function, and similar to the Cauchy criterion, we define that a sequence converges if the following two characteristics are fulfilled:\n",
    "- the absolute value of the difference of the direct successor within the sequence is smaller than the threshold value, i.e. $|a_{n+1} - a_{n}|<\\varepsilon$.\n",
    "- the absolute value of the difference of the 100$^{\\text{th}}$ successor within the sequence is smaller than the threshold value, i.e. $|a_{n+100} - a_{n}|<\\varepsilon$.\n",
    "\n",
    "The point for which these two characterstics are fulfilled, we call $n_{\\varepsilon}$.\n",
    "\n",
    "Furthermore, we define for this function that a sequence is taxed as diverging if after $10^6$ iterations the above characteristisc are not fulfilled. \n",
    "\n",
    "In order to determine the limiting value, evaluate the sequence $10^4$ steps after $n_{\\varepsilon}$.\n",
    "\n",
    "In the case that your function converges, it should return the a list with the limiting value as well as the point $n_{\\varepsilon}$. In the case that it does not converge, the limiting value returned should be the string \"Error\" and $n_{\\varepsilon} = -1$.\n"
   ]
  },
  {
   "cell_type": "code",
   "execution_count": 67,
   "metadata": {},
   "outputs": [
    {
     "data": {
      "text/plain": [
       "{'Grenzwert': 0.000399201588854196, 'n': 20}"
      ]
     },
     "execution_count": 67,
     "metadata": {},
     "output_type": "execute_result"
    }
   ],
   "source": [
    "def limes(fn,epsl):\n",
    "    # todo\n",
    "    return {\"Grenzwert\": lim,\"n\":n}\n",
    "\n",
    "\n",
    "epsl = 0.4\n",
    "limes(A,epsl)"
   ]
  },
  {
   "cell_type": "markdown",
   "metadata": {},
   "source": [
    "## Task 4\n",
    "Plot the sequence $A_n$. Draw the limiting value $\\lim_{n \\to \\infty} a_n = a$, which the function from Task 3 has determined into the graph. Use a thresholdvalue $\\varepsilon= 0.4$. Shade the area $[a-\\varepsilon,a+\\varepsilon]$ grey. Also highlight the value from which on the convergence criteria (that your function uses) are satisfied i.e. $n>n_\\varepsilon$.\n"
   ]
  },
  {
   "cell_type": "code",
   "execution_count": 68,
   "metadata": {},
   "outputs": [
    {
     "data": {
      "text/plain": [
       "<matplotlib.collections.LineCollection at 0x7f782b759a20>"
      ]
     },
     "execution_count": 68,
     "metadata": {},
     "output_type": "execute_result"
    },
    {
     "data": {
      "image/png": "[encoded data removed]",
      "text/plain": [
       "<matplotlib.figure.Figure at 0x7f782b7f5550>"
      ]
     },
     "metadata": {},
     "output_type": "display_data"
    }
   ],
   "source": [
    "# todo"
   ]
  },
  {
   "cell_type": "markdown",
   "metadata": {},
   "source": [
    "## Task 5\n",
    "\n",
    "Write a function that takes as input arguments a sequence-generating function, a threshold value $\\varepsilon$ and an upper limit for $n$ up to which the sequence should be plotted. The function should have no return value but produce a graph like in task 4.\n",
    "\n",
    "Test the function for the sequence:\n",
    "\n",
    "\\begin{align*}\n",
    "C_n = 1+\\frac{1}{n}\n",
    "\\end{align*}\n"
   ]
  },
  {
   "cell_type": "code",
   "execution_count": 69,
   "metadata": {},
   "outputs": [
    {
     "data": {
      "image/png": "[encoded data removed]",
      "text/plain": [
       "<matplotlib.figure.Figure at 0x7f782b74e908>"
      ]
     },
     "metadata": {},
     "output_type": "display_data"
    }
   ],
   "source": [
    "\n",
    "def plot_sequence(f,epsilon,upper):\n",
    "    # todo\n",
    "    pass\n",
    "    \n",
    "f = lambda n: 1+1/n\n",
    "plot_sequence(f,.1,15)"
   ]
  },
  {
   "cell_type": "markdown",
   "metadata": {},
   "source": [
    "## Task 6\n",
    "\n",
    "Use the function you just have created to plot the geometrical series $q = \\frac{1}{1.02}$ for partial sums up to $ n = 1000$. <br>\n",
    "\n",
    "$$ S_{n} = \\sum\\limits_{k=0}^{n}\\left(\\frac{1}{1.02}\\right)^{k}$$\n",
    "\n",
    "*Hint: $\\texttt{sum(list)}$ returns the sum of a $\\texttt{list}$*"
   ]
  },
  {
   "cell_type": "code",
   "execution_count": 70,
   "metadata": {},
   "outputs": [
    {
     "data": {
      "image/png": "[encoded data removed]",
      "text/plain": [
       "<matplotlib.figure.Figure at 0x7f782b7eec88>"
      ]
     },
     "metadata": {},
     "output_type": "display_data"
    }
   ],
   "source": [
    "q =  #todo\n",
    "\n",
    "plot_sequence(q,.5,1000)\n"
   ]
  },
  {
   "cell_type": "code",
   "execution_count": null,
   "metadata": {},
   "outputs": [],
   "source": []
  }
 ],
 "metadata": {
  "kernelspec": {
   "display_name": "Python 3",
   "language": "python",
   "name": "python3"
  },
  "language_info": {
   "codemirror_mode": {
    "name": "ipython",
    "version": 3
   },
   "file_extension": ".py",
   "mimetype": "text/x-python",
   "name": "python",
   "nbconvert_exporter": "python",
   "pygments_lexer": "ipython3",
   "version": "3.6.5"
  }
 },
 "nbformat": 4,
 "nbformat_minor": 2
}
