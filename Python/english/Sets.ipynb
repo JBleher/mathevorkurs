{
 "cells": [
  {
   "cell_type": "markdown",
   "metadata": {},
   "source": [
    "# Sets"
   ]
  },
  {
   "cell_type": "markdown",
   "metadata": {},
   "source": [
    "In Python, by default, there are some variable types for implementing mathematical sets. Sets can be defined  in two different ways."
   ]
  },
  {
   "cell_type": "code",
   "execution_count": 103,
   "metadata": {},
   "outputs": [
    {
     "name": "stdout",
     "output_type": "stream",
     "text": [
      "{1, 2}\n",
      "<class 'set'>\n",
      "{'B', 1, 'A'}\n",
      "<class 'set'>\n"
     ]
    }
   ],
   "source": [
    "# Definition of set via braces\n",
    "A = {1,2,1,2}\n",
    "print(A)\n",
    "print(type(A))\n",
    "# Definition of sets with the build in function set()\n",
    "B = set([1,'A','B','A'])\n",
    "print(B)\n",
    "print(type(B))"
   ]
  },
  {
   "cell_type": "markdown",
   "metadata": {},
   "source": [
    "The statement $a \\in A $ can in R then implemented almost literally. Also the empty set can literally be defined as an empty call of the $\\texttt{set()}$ function."
   ]
  },
  {
   "cell_type": "code",
   "execution_count": 104,
   "metadata": {},
   "outputs": [
    {
     "name": "stdout",
     "output_type": "stream",
     "text": [
      "Ist a = 1 in der Menge A enthalten?  True\n",
      "Die leere Menge:  set()\n"
     ]
    }
   ],
   "source": [
    "# Is a in A?\n",
    "a =1 \n",
    "print(\"Ist a = 1 in der Menge A enthalten? \",a in A)\n",
    "\n",
    "#The empty set\n",
    "print(\"Die leere Menge: \",set())"
   ]
  },
  {
   "cell_type": "markdown",
   "metadata": {},
   "source": [
    "Several Operations for sets are implemented in Python.\n",
    "1. $A \\cup B$ - union\n",
    "2. $A \\cap B$ - intersection\n",
    "3. $A \\setminus B$  - difference\n",
    "4. $A \\triangle B$ - symmetric Differenz\n",
    "5. $A = A\\cup B$ - Union of A and B and redefinition of A"
   ]
  },
  {
   "cell_type": "code",
   "execution_count": 111,
   "metadata": {},
   "outputs": [
    {
     "name": "stdout",
     "output_type": "stream",
     "text": [
      "A = {1, 2, 4}\n",
      "B = {'B', 1, 'A'}\n",
      "Die Vereininungsmenge:  {1, 2, 4} {'B', 1, 2, 4, 'A'}\n",
      "Die Schnittmenge:  {'B', 1, 'A'} {1}\n",
      "A ohne Elemente aus B:  {2, 4}\n",
      "Die symmetrische Differenz:  {'B', 2, 4, 'A'}\n",
      "Vereiningung von A mit {2,4} und neudefinition von A: {1, 2, 4}\n"
     ]
    }
   ],
   "source": [
    "print(\"A =\", A)\n",
    "print(\"B =\", B)\n",
    "\n",
    "#1. $A \\cup B$ - union\n",
    "print(\"The union: \", A or B, A | B)\n",
    "#2. $A \\cap B$ - intersection\n",
    "print(\"The intersection: \",A and B, A & B)\n",
    "#3. $A \\setminus B$  - difference\n",
    "print(\"A without elements from B: \",A - B)\n",
    "#4. $A \\triangle B$ - symmetric difference\n",
    "print(\"The symmetric difference: \",A ^ B)\n",
    "#5. union ofA with the set {2,4} and redefinition of A\n",
    "A |= {4,2} \n",
    "print(\"Union of A with {2,4} and redefinition of A:\", A)\n",
    "\n"
   ]
  },
  {
   "cell_type": "markdown",
   "metadata": {},
   "source": [
    "## Definition of sets via set comprehension\n",
    "\n",
    "The definition of sets can be accomplished in Python by posing conditions on a free variable - this is called   <a href=\"https://docs.python.org/3/tutorial/datastructures.html#sets\"> Set Comprehension </a>. Sets can be defined by a free variable. For example, let's define the set $V = \\{v \\in \\mathbb{N} \\,|\\, 0 < v^2 < 20\\}$. As can be seen in the mathematical notation, we regress on a free variable $v \\in \\mathbb{N}$.\n",
    "\n",
    "In order to be concise, the definition via Set Comprehension is tightly connected to <a href=\"https://wiki.python.org/moin/Generators\">Generators in Python</a>. With a generator we can iterate over the elements of a universe.\n",
    "\n",
    "The set $ V = \\{v \\in \\mathbb{N} \\,|\\, 0 < v^2 < 20\\}$ can thus be defined as follows. \n",
    "\n",
    "*(Since we cannot define the infinite set of natural numbers as the universe, we limit our considerations to natural numbers below or equal to 20.)*"
   ]
  },
  {
   "cell_type": "code",
   "execution_count": 1,
   "metadata": {},
   "outputs": [
    {
     "name": "stdout",
     "output_type": "stream",
     "text": [
      "{1, 2, 3, 4, -1, -4, -3, -2}\n"
     ]
    }
   ],
   "source": [
    "# Definition of V via Set Comprehension\n",
    "V = {v for v in range(-20,20) if (v**2 <20) and (0<v**2) }\n",
    "\n",
    "print(V)"
   ]
  },
  {
   "cell_type": "markdown",
   "metadata": {},
   "source": [
    "In order to define a family, a set of sets, in Python the variable type $\\texttt{set}$ is insufficient. Python cannot manage the fact, that elements of a set have to be editable and that if an element is edited the change may have consequences for other elements as well.\n",
    "\n",
    "To make this clear, consider the following example:<br>\n",
    "Suppose you define the family: $\\{S_1,S_2\\}$ where $S_1 = \\{1,2,3\\}$  and $S_2 = \\{1,2\\}$. Now you change the first element of the family $ S_1 = \\{1,2\\}$. Therewith, we have $S_1 = S_2$ and, thus, the family only consists of one element, the set $S_1$.\n",
    "\n",
    "This makes another datatype necessary. The solution is the datatype $\\texttt{frozenset}$ which is defined by 'hashable objects'. Hashable objects are objects that are uniquely identified by a numeric value, a key. In the construction of a $\\texttt{frozenset}$, the set $\\{1,2,3\\}$ receives the same key as the set $\\{2,1,3\\}$."
   ]
  },
  {
   "cell_type": "code",
   "execution_count": 60,
   "metadata": {},
   "outputs": [
    {
     "name": "stdout",
     "output_type": "stream",
     "text": [
      "frozenset({frozenset({1, 2}), frozenset({1, 2, 3})})\n",
      "frozenset({frozenset({1, 2, 3})})\n"
     ]
    }
   ],
   "source": [
    "# Define the sets A_1 and A_2\n",
    "A1 = frozenset([1,2,3])\n",
    "A2 = frozenset([1,2])\n",
    "\n",
    "# Create the family from A_1 and A_2\n",
    "A = frozenset([A1,A2])\n",
    "print(A)\n",
    "\n",
    "# Define the set B_1 and B_2 (they are identical)\n",
    "B1 = frozenset([1,2,3])\n",
    "B2 = frozenset([2,3,1])\n",
    "# Create a set family from B_1 and B_2 with only one element since B_1 = B_2\n",
    "B = frozenset([B1,B2])\n",
    "print(B)"
   ]
  },
  {
   "cell_type": "markdown",
   "metadata": {},
   "source": [
    "## Task 1:\n",
    "\n",
    "Write a function, that returns the power set of some set $S$.\n",
    "\n",
    "1. Initialize the power set with a frozenset that contains an empty frozenset.\n",
    "2. Use a for-loop in order to iterate over the elements in $S$\n",
    "3. Create in this loop for each element in $S$ a frozenset with a single element\n",
    "4. Use another loop or a set comprehension in order to loop over the elements of the power set; form the union of each element in $S$ with power set and add the resulting set of this union to the power set (|= operator)"
   ]
  },
  {
   "cell_type": "code",
   "execution_count": 1,
   "metadata": {},
   "outputs": [],
   "source": [
    "S = {1,2,3}\n",
    "\n",
    "# todo\n",
    "        "
   ]
  },
  {
   "cell_type": "markdown",
   "metadata": {},
   "source": [
    "## Task 2:\n",
    "Let the universe $\\Omega$ be all natural numbers up to 100. \n",
    "1. Form the set of all even numbers in the universe $\\Omega$.\n",
    "2. Form the set of all uneven numbers in the universe $\\Omega$.\n",
    "\n",
    "*Hint: use the modulo operator.*"
   ]
  },
  {
   "cell_type": "code",
   "execution_count": null,
   "metadata": {},
   "outputs": [],
   "source": []
  },
  {
   "cell_type": "markdown",
   "metadata": {},
   "source": [
    "## Task 3\n",
    "\n",
    "Write a function that checks whether the natural number $x$ is a prime, i.e. check whether it is divisable by any of its predecessors except for 1. Construct with this function another function that gives the set of all primes for all natural numbers up to 200.\n"
   ]
  },
  {
   "cell_type": "code",
   "execution_count": null,
   "metadata": {},
   "outputs": [],
   "source": [
    "# todo"
   ]
  },
  {
   "cell_type": "markdown",
   "metadata": {},
   "source": [
    "## Task 4\n",
    "\n",
    "In the slides, the set $S$ is defined as follows. \n",
    "\n",
    "\\begin{align}\n",
    " S = \\{ w \\;|\\; 6 \\notin \\{ x \\;|\\; x \\text{ ist teilbar durch } w \\} \\}\n",
    "\\end{align}\n",
    "\n",
    "Create the set $S$ in Python. Let the universe be all integer numbers in the interval ranging from -100 to 100 without zero.\n",
    "\n",
    "Check wether $2 \\in S$."
   ]
  },
  {
   "cell_type": "code",
   "execution_count": 2,
   "metadata": {},
   "outputs": [],
   "source": [
    "# todo"
   ]
  }
 ],
 "metadata": {
  "kernelspec": {
   "display_name": "Python 3",
   "language": "python",
   "name": "python3"
  },
  "language_info": {
   "codemirror_mode": {
    "name": "ipython",
    "version": 3
   },
   "file_extension": ".py",
   "mimetype": "text/x-python",
   "name": "python",
   "nbconvert_exporter": "python",
   "pygments_lexer": "ipython3",
   "version": "3.6.5"
  }
 },
 "nbformat": 4,
 "nbformat_minor": 2
}
