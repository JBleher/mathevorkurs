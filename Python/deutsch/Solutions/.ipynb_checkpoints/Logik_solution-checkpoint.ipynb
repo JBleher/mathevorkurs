{
 "cells": [
  {
   "cell_type": "markdown",
   "metadata": {},
   "source": [
    "# Logik"
   ]
  },
  {
   "cell_type": "code",
   "execution_count": 1,
   "metadata": {},
   "outputs": [],
   "source": [
    "import numpy as np"
   ]
  },
  {
   "cell_type": "markdown",
   "metadata": {},
   "source": [
    "Logische Aussagen bilden einen Grundbaustein von programmen. Oft sollen Dinge getan werden bis eine gewisse Aussage wahr oder falsch ist (while, until-Schleifen) und oft soll etwas getan werden, wenn eine bestimmte Bedingung erfüllt ist  (if-else-Anweisungen, Fallunterscheidungen).\n",
    "\n",
    "Der fundamentale Baustein logischer Aussagen ist dabei die Einordnung einer Aussage in die beiden Kategorien: wahr oder falsch. Variablen, die diese beiden Werte annehmen können, werden Boolsche Variablen genannt."
   ]
  },
  {
   "cell_type": "code",
   "execution_count": 2,
   "metadata": {},
   "outputs": [
    {
     "name": "stdout",
     "output_type": "stream",
     "text": [
      "True True True\n"
     ]
    }
   ],
   "source": [
    "# Definition einer immer wahren boolschen Variable\n",
    "x = True\n",
    "\n",
    "# Definition von boolschen Variablen über Aussagen mit Ordnungsoperatoren\n",
    "y = (1==2-1)\n",
    "z = (2>1)\n",
    "\n",
    "print(x,y,z)"
   ]
  },
  {
   "cell_type": "markdown",
   "metadata": {},
   "source": [
    "Aussagen können auch verknüpft werden. Dabei gelten die logischen Operatoren $\\land, \\lor, \\lnot$. In Python können werden sie ausgeschrieben."
   ]
  },
  {
   "cell_type": "code",
   "execution_count": 3,
   "metadata": {},
   "outputs": [
    {
     "name": "stdout",
     "output_type": "stream",
     "text": [
      "A und B:  False\n",
      "A oder B:  True\n",
      "nicht A:  True\n"
     ]
    }
   ],
   "source": [
    "# Angenommen wir haben zwei Aussagen A und B\n",
    "A = False\n",
    "B = True\n",
    "\n",
    "# ... dann können wir diese Aussagen miteinander verknüpfen\n",
    "print(\"A und B: \", A and B)\n",
    "print(\"A oder B: \", A or B)\n",
    "print(\"nicht A: \", not A)\n",
    "\n"
   ]
  },
  {
   "cell_type": "markdown",
   "metadata": {},
   "source": [
    "## Task 1\n",
    "\n",
    "Schreiben Sie eine Funktion $\\texttt{implies}(A,B)$, die den Wahrheitsgehalt von $A\\implies B$ zurückgibt. \n",
    "\n",
    "*Hinweis*: $(A\\implies B)$ kann auch als $(\\lnot A \\lor B)$ geschrieben werden.\n"
   ]
  },
  {
   "cell_type": "code",
   "execution_count": 4,
   "metadata": {},
   "outputs": [
    {
     "name": "stdout",
     "output_type": "stream",
     "text": [
      "A impliziert B: False\n"
     ]
    }
   ],
   "source": [
    "# todo\n",
    "\n",
    "# Um eine Implikationsfunktion können wir \n",
    "def implies(A,B):\n",
    "    return((A and B) or not B)\n",
    "\n",
    "print(\"A impliziert B:\",implies(A,B))\n",
    "\n"
   ]
  },
  {
   "cell_type": "markdown",
   "metadata": {},
   "source": [
    "# Task 2\n",
    "\n",
    "Erstellen Sie eine Funktion $\\texttt{equiv}(A,B)$ die den Wahrheitsgehalt von $A\\iff B$ zurückgibt. "
   ]
  },
  {
   "cell_type": "code",
   "execution_count": 5,
   "metadata": {},
   "outputs": [
    {
     "name": "stdout",
     "output_type": "stream",
     "text": [
      "A ist equivalent zu B: False\n"
     ]
    }
   ],
   "source": [
    "# todo\n",
    "\n",
    "# Äquivalenzfunktion\n",
    "def equiv(A,B):\n",
    "    return((A and B) or (not A and not B))\n",
    "\n",
    "print(\"A ist equivalent zu B:\",equiv(A,B))"
   ]
  },
  {
   "cell_type": "markdown",
   "metadata": {},
   "source": [
    "# Task 3\n",
    "\n",
    "Angenommen Sie haben zwei Aussagen $P$ und $Q$. Erstellen Sie eine Wahrheitstabelle über alle möglichen Wahrheitswerte der beiden Aussagen für die Junktoren $\\land, \\lor, \\implies, \\iff$.\n",
    "\n",
    "Verwenden Sie numpy. Die Funktionen <a href=\"https://docs.scipy.org/doc/numpy-1.13.0/reference/routines.logic.html\"> für den logischen Vegleich, Element für Element</a>, könnten dafür hilfreich sein.\n",
    "\n",
    "Ein numpy-Array $\\texttt{allcomb}$ mit allen Kombinationen wurde für Sie bereits ersellt. Sie können auf die Spalten des Arrays zugreifen über $\\texttt{allcomb[:,0]}$ und $\\texttt{allcomb[:,1]}$."
   ]
  },
  {
   "cell_type": "code",
   "execution_count": 15,
   "metadata": {},
   "outputs": [
    {
     "name": "stdout",
     "output_type": "stream",
     "text": [
      "[[ True  True  True  True  True  True]\n",
      " [False  True False  True  True False]\n",
      " [ True False False  True False False]\n",
      " [False False False False  True  True]]\n"
     ]
    }
   ],
   "source": [
    "# The two vectors and with their two values\n",
    "P = [True, False]\n",
    "Q = [True, False]\n",
    "\n",
    "# Get a table of all combinations\n",
    "allcomb = np.array([[(i,j) for i in P] for j in Q]).reshape(len(P)*len(Q),2)\n",
    "\n",
    "#todo \n",
    "C = np.logical_and(allcomb[:,0],allcomb[:,1])[np.newaxis]\n",
    "D = np.logical_or(allcomb[:,0],allcomb[:,1])[np.newaxis]\n",
    "E = np.logical_or(np.logical_not(allcomb[:,0]),allcomb[:,1])[np.newaxis]\n",
    "F = np.logical_or(np.logical_and(allcomb[:,0],allcomb[:,1]),np.logical_and(np.logical_not(allcomb[:,0]),np.logical_not(allcomb[:,1])))[np.newaxis]\n",
    "out = np.hstack([allcomb,C.T,D.T,E.T,F.T])\n",
    "\n",
    "print(out)"
   ]
  },
  {
   "cell_type": "markdown",
   "metadata": {},
   "source": [
    "## Task 4:\n",
    "Auf einer Insel gibt es zwei Typen von Bewohnern:  ehrliche Menschen und Lügner. Angenommen der Einwohner $A$ behauptet von sich und seinem Bruder $B$: \"Mindestens einer von uns ist ein Lügner.\" Finden Sie heraus von welcher Sorte Mensch die beiden sind.\n",
    "\n",
    "- Formulieren Sie die Behauptung $C$ als logisches Aussage in Abhängigkeit von $A$ und $B$. Dabei ist $A=1$, wenn $A$ ehrlich ist und $A=0$, wenn $A$ ein Lügner ist. Entsprechendes gilt für $B$"
   ]
  },
  {
   "cell_type": "code",
   "execution_count": 7,
   "metadata": {},
   "outputs": [],
   "source": [
    "# todo\n",
    "\n",
    "def CC(A,B):\n",
    "    return((A and not(B)) or (not(A) and B) or (not(A) and not(B)))"
   ]
  },
  {
   "cell_type": "markdown",
   "metadata": {},
   "source": [
    "- Weiterhin wissen wir, dass wenn $A$ ein Lügner ist, dann muss die Behauptung falsch sein und wenn $A$ ein Ehrlicher ist muss sie richtig sein. Formulieren Sie die Gesamtaussage in Abhängigkeit von $A$ und $B$.\n"
   ]
  },
  {
   "cell_type": "code",
   "execution_count": 8,
   "metadata": {},
   "outputs": [],
   "source": [
    "# todo\n",
    "\n",
    "def S(A,B):\n",
    "    return((A and CC(A,B)) or (not(A) and not(CC(A,B))))"
   ]
  },
  {
   "cell_type": "markdown",
   "metadata": {},
   "source": [
    "- Erstellen Sie eine Wahrheitstabelle für alle Möglichen Kombinationen von $A$ und $B$. Von welcher Sorte Mensch sind die beiden?"
   ]
  },
  {
   "cell_type": "code",
   "execution_count": 11,
   "metadata": {},
   "outputs": [
    {
     "data": {
      "text/plain": [
       "array([[ True,  True],\n",
       "       [False,  True],\n",
       "       [ True, False],\n",
       "       [False, False]])"
      ]
     },
     "execution_count": 11,
     "metadata": {},
     "output_type": "execute_result"
    }
   ],
   "source": [
    "# todo\n",
    "\n",
    "# The two vectors and with their two values\n",
    "A = [True, False]\n",
    "B = [True, False]\n",
    "\n",
    "# Get a table of all combinations\n",
    "allcomb = np.array([[(i,j) for i in A] for j in B]).reshape(len(A)*len(B),2)\n",
    "\n",
    "[S(row[0],row[1]) for row in allcomb]\n",
    "# i.e.:\n",
    "# A tells the truth\n",
    "# B is a liar"
   ]
  },
  {
   "cell_type": "markdown",
   "metadata": {},
   "source": [
    "## Task 5\n",
    "\n",
    "Gleiches Szenario wie in Task 4. Wie verändert sich ihre Aussage wenn $A$ sagt \"Genau einer von uns ist ein Lügner\".\n"
   ]
  },
  {
   "cell_type": "code",
   "execution_count": 16,
   "metadata": {},
   "outputs": [
    {
     "data": {
      "text/plain": [
       "[False, False, True, True]"
      ]
     },
     "execution_count": 16,
     "metadata": {},
     "output_type": "execute_result"
    }
   ],
   "source": [
    "def CCalt(A,B):\n",
    "    return((A and not(B)) or (not(A) and B))\n",
    "def Salt(A,B):\n",
    "    return((A and CCalt(A,B)) or (not(A) and not(CCalt(A,B))))\n",
    "\n",
    "[Salt(row[0],row[1]) for row in allcomb]\n",
    "\n",
    "# Zwei Lösungen: Lösung aus Task 4 + Beide sind Lügner und Aussage ist falsch.\n"
   ]
  },
  {
   "cell_type": "markdown",
   "metadata": {},
   "source": [
    "## Task 6\n"
   ]
  },
  {
   "cell_type": "markdown",
   "metadata": {},
   "source": [
    "In dem Buch “The Logician and the Engineer, How George Boole and Claude Shannon Created the Information Age” P.J. Nahin findet sich folgendes Rätsel:\n",
    "\n",
    "Auf einem Tisch stehen drei kleine Schachteln, ettiketiert mit den Buchstaben $A$, $B$ und $C$. In jeder Box ist ein farbiger Plastikchip. Ein Chip ist rot, einer weiß und einer blau. In welcher Box, welcher Chip zu finden ist, ist unbekannt. Einen weiteren Hinweis haben Sie jedoch. Eine der folgenden Aussagen ist wahr:\n",
    "\n",
    "- In Schachtel $A$ ist der rote Chip\n",
    "- Schachtel $B$ enthält nicht den roten Chip\n",
    "- Schachtel $C$ enthält nicht den blauen Chip\n",
    "\n",
    "In welcher Schachtel ist welcher Chip?\n",
    "\n",
    "\n",
    "Um das Problem programmatisch zu lösen führen wir ein numpy Array mit 9 boolschen Einträgen (wahr/falsch) ein. Wir haben also grundsätzlich $2^9 = 512$ Möglichkeiten. Mit einem Computer können wir alle Möglichkeiten einzeln checken.\n",
    "Für das Numpy-Array legen wir folgende Konvention für die einzelnen Reihen und spalten Fest:\n",
    "\n",
    "\n",
    " <table>\n",
    "  <tr>\n",
    "    <th></th>\n",
    "    <th>A</th>\n",
    "    <th>B</th>\n",
    "    <th>C</th>\n",
    "  </tr>\n",
    "  <tr>\n",
    "    <td>r</td>\n",
    "    <td>wahr/falsch</td>\n",
    "    <td>wahr/falsch</td>\n",
    "    <td>wahr/falsch</td>\n",
    "  </tr>\n",
    "   <tr>\n",
    "    <td>w</td>\n",
    "    <td>wahr/falsch</td>\n",
    "    <td>wahr/falsch</td>\n",
    "    <td>wahr/falsch</td>\n",
    "  </tr>\n",
    "   <tr>\n",
    "    <td>b</td>\n",
    "    <td>wahr/falsch</td>\n",
    "    <td>wahr/falsch</td>\n",
    "    <td>wahr/falsch</td>\n",
    "  </tr>\n",
    "</table> \n",
    "\n",
    "Steht also in Zeile 1 und Spalte 1 der Wert \"True\", dann ist in Schachtel $A$ der rote Chip.\n",
    "Schreiben Sie die Funktion $\\texttt{check}()$, die die einzelnen Aussagen auf Ihre Stichhaltigkeit überprüft."
   ]
  },
  {
   "cell_type": "code",
   "execution_count": null,
   "metadata": {},
   "outputs": [],
   "source": [
    "S = np.zeros((9,1), dtype=bool)\n",
    "\n",
    "def check(Array):\n",
    "    #Check ob 3 Steine im Array sind\n",
    "    Check1 = np.sum(Array,None)==3\n",
    "    #Check ob 1 Steine in jeder Box ist\n",
    "    Check2 = sum(np.sum(Array,0)==[1,1,1])==3\n",
    "    #Check ob die Steine unterschiedliche Farben haben\n",
    "    Check3 = sum(np.sum(Array,1)==[1,1,1])==3\n",
    "    #Formuliere die einzelnen Aussagen in der Info für sich\n",
    "    I1 = Array[0,0] == True\n",
    "    I2 = Array[1,0] == False\n",
    "    I3 = Array[2,2] == False\n",
    "    # Genau eine der Aussagen muss wahr sein\n",
    "    Info = (I1 and not(I2) and not(I3)) or (not(I1) and I2 and not(I3)) or (not(I1) and not(I2) and I3)\n",
    "    # Füge alles zusammen und gib einen boolschen Wert zurück\n",
    "    return(Check1 and Check2 and Check3 and Info)\n",
    "    \n",
    "\n",
    "for ii in range(2**9):\n",
    "    S  = np.array([bool(int(x)) for x in '{0:09b}'.format(ii)]).reshape(3,3)\n",
    "    if check(S):\n",
    "        print(S)"
   ]
  },
  {
   "cell_type": "code",
   "execution_count": null,
   "metadata": {},
   "outputs": [],
   "source": []
  }
 ],
 "metadata": {
  "kernelspec": {
   "display_name": "Python 3",
   "language": "python",
   "name": "python3"
  },
  "language_info": {
   "codemirror_mode": {
    "name": "ipython",
    "version": 3
   },
   "file_extension": ".py",
   "mimetype": "text/x-python",
   "name": "python",
   "nbconvert_exporter": "python",
   "pygments_lexer": "ipython3",
   "version": "3.4.6"
  }
 },
 "nbformat": 4,
 "nbformat_minor": 2
}
