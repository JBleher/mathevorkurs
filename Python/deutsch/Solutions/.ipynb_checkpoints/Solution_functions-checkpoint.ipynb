{
 "cells": [
  {
   "cell_type": "markdown",
   "metadata": {},
   "source": [
    "# Solutions"
   ]
  },
  {
   "cell_type": "code",
   "execution_count": 1,
   "metadata": {},
   "outputs": [],
   "source": [
    "import matplotlib.pyplot as plt\n",
    "import numpy as np\n",
    "%matplotlib inline"
   ]
  },
  {
   "cell_type": "markdown",
   "metadata": {},
   "source": [
    "## Task 1"
   ]
  },
  {
   "cell_type": "code",
   "execution_count": 14,
   "metadata": {},
   "outputs": [
    {
     "data": {
      "text/plain": [
       "<matplotlib.legend.Legend at 0x7f9c115a5128>"
      ]
     },
     "execution_count": 14,
     "metadata": {},
     "output_type": "execute_result"
    },
    {
     "data": {
      "image/png": "[encoded data removed]",
      "text/plain": [
       "<matplotlib.figure.Figure at 0x7f9c11757048>"
      ]
     },
     "metadata": {},
     "output_type": "display_data"
    }
   ],
   "source": [
    "def f(x):\n",
    "    return x**3 - 3*x**2 + 3*x - 1\n",
    "\n",
    "x = np.linspace(-10,10,1000) # creates evenly spaced sequence of 1000 numbers \n",
    "y=f(x)\n",
    "\n",
    "label_f = r'$f(x) = x^3 - 3x^2+3x$'\n",
    "# Setze die y-Achsen Begrenzung\n",
    "plt.xlim([-2,4])\n",
    "plt.ylim([-20,20])\n",
    "# Zeichne die Funktion f\n",
    "plt.plot(x,y,label=label_f)\n",
    "# Platziere die Legende\n",
    "plt.legend(loc='upper left')"
   ]
  },
  {
   "cell_type": "markdown",
   "metadata": {},
   "source": [
    "## Task 2"
   ]
  },
  {
   "cell_type": "code",
   "execution_count": null,
   "metadata": {},
   "outputs": [],
   "source": [
    "def f1(x):\n",
    "        return x**2 + 4\n",
    "\n",
    "def f2(x):\n",
    "        return 5*x - 2\n",
    "    \n",
    "\n",
    "x = np.linspace(-1,2,1000) \n",
    "y=[f(item) for item in x]\n",
    "ax = coordinate_system() \n",
    "ax.plot(x, y)\n",
    "ax.scatter(1, 5, color=\"black\")\n",
    "plt.show() "
   ]
  },
  {
   "cell_type": "markdown",
   "metadata": {},
   "source": [
    "## Task 3"
   ]
  },
  {
   "cell_type": "code",
   "execution_count": null,
   "metadata": {},
   "outputs": [],
   "source": [
    "# rational function: n < m\n",
    "def f(x):\n",
    "    return (2*x - 1) / (x**2 + 1)\n",
    "\n",
    "x = np.linspace(-20,20,10000) \n",
    "y=f(x)\n",
    "ax = coordinate_system() \n",
    "\n",
    "ax.set_xlim([-20,20]) \n",
    "ax.set_ylim([-2,2])\n",
    "ax.plot(x, y) \n",
    "ax.plot(x, 0*x)\n",
    "plt.show() \n",
    "\n",
    "\n",
    "\n",
    "\n",
    "# unreal rational function: n > m\n",
    "def f(x):\n",
    "    return (x**2 + 1) / (2*x - 1)\n",
    "\n",
    "x = np.linspace(-30,30,10000) \n",
    "y=f(x)\n",
    "ax = coordinate_system() \n",
    "ax.set_xlim([-10,10]) \n",
    "ax.set_ylim([-6,6])\n",
    "ax.plot(x, y) \n",
    "ax.plot(x, 0.5*x)\n",
    "plt.show() "
   ]
  },
  {
   "cell_type": "markdown",
   "metadata": {},
   "source": [
    "## Task 4"
   ]
  },
  {
   "cell_type": "code",
   "execution_count": null,
   "metadata": {},
   "outputs": [],
   "source": [
    "# unreal  rational function: n > m\n",
    "def f(x):\n",
    "    return (x**3 + 1) / (2*x - 1)\n",
    "\n",
    "\n",
    "x = np.linspace(-20,20,100000) \n",
    "y=f(x)\n",
    "ax = coordinate_system() \n",
    "ax.set_xlim([-10,10]) \n",
    "ax.set_ylim([-10,10])\n",
    "ax.plot(x, y) \n",
    "ax.plot(x, 0.5*x**2)\n",
    "plt.show() "
   ]
  },
  {
   "cell_type": "markdown",
   "metadata": {},
   "source": [
    "## Task 5"
   ]
  },
  {
   "cell_type": "code",
   "execution_count": null,
   "metadata": {},
   "outputs": [],
   "source": [
    "def comp(f, g):\n",
    "    return lambda x: f(g(x))"
   ]
  },
  {
   "cell_type": "markdown",
   "metadata": {},
   "source": [
    "## Task 6\n"
   ]
  },
  {
   "cell_type": "code",
   "execution_count": null,
   "metadata": {},
   "outputs": [],
   "source": [
    "def f(x):\n",
    "    return x**2 - 1\n",
    "\n",
    "def g(x):\n",
    "    return 2*x - 1\n",
    "\n",
    "def comp(f, g):\n",
    "    return lambda x: f(g(x))\n",
    "\n",
    "f_g = comp(f, g)\n",
    "\n",
    "\n",
    "x = np.linspace(-10,10,100000) \n",
    "y1 = f(x)\n",
    "y2 = g(x)\n",
    "y3=f_g(x)\n",
    "ax = coordinate_system() \n",
    "ax.set_xlim([-10,10]) \n",
    "ax.set_ylim([-10,10])\n",
    "ax.plot(x, y1, label=\"f(x)\") \n",
    "ax.plot(x, y2, label=\"g(x)\")\n",
    "ax.plot(x, y3, label=\"f(g(x))\")\n",
    "ax.legend()\n",
    "plt.show() \n"
   ]
  }
 ],
 "metadata": {
  "kernelspec": {
   "display_name": "Python 3",
   "language": "python",
   "name": "python3"
  },
  "language_info": {
   "codemirror_mode": {
    "name": "ipython",
    "version": 3
   },
   "file_extension": ".py",
   "mimetype": "text/x-python",
   "name": "python",
   "nbconvert_exporter": "python",
   "pygments_lexer": "ipython3",
   "version": "3.4.6"
  }
 },
 "nbformat": 4,
 "nbformat_minor": 2
}
