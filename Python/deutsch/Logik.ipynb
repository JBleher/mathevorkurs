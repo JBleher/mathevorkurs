{
 "cells": [
  {
   "cell_type": "markdown",
   "metadata": {},
   "source": [
    "# Logik"
   ]
  },
  {
   "cell_type": "code",
   "execution_count": 41,
   "metadata": {},
   "outputs": [],
   "source": [
    "import numpy as np"
   ]
  },
  {
   "cell_type": "markdown",
   "metadata": {},
   "source": [
    "Logische Aussagen bilden einen Grundbaustein von programmen. Oft sollen Dinge getan werden bis eine gewisse Aussage wahr oder falsch ist (while, until-Schleifen) und oft soll etwas getan werden, wenn eine bestimmte Bedingung erfüllt ist  (if-else-Anweisungen, Fallunterscheidungen).\n",
    "\n",
    "Der fundamentale Baustein logischer Aussagen ist dabei die Einordnung einer Aussage in die beiden Kategorien: wahr oder falsch. Variablen, die diese beiden Werte annehmen können, werden Boolsche Variablen genannt."
   ]
  },
  {
   "cell_type": "code",
   "execution_count": 42,
   "metadata": {},
   "outputs": [
    {
     "name": "stdout",
     "output_type": "stream",
     "text": [
      "True True True\n"
     ]
    }
   ],
   "source": [
    "# Definition einer immer wahren boolschen Variable\n",
    "x = True\n",
    "\n",
    "# Definition von boolschen Variablen über Aussagen mit Ordnungsoperatoren\n",
    "y = (1==2-1)\n",
    "z = (2>1)\n",
    "\n",
    "print(x,y,z)"
   ]
  },
  {
   "cell_type": "markdown",
   "metadata": {},
   "source": [
    "Aussagen können auch Verknüpft werden. Dabei gelten die logischen Operatoren $\\land, \\lor, \\lnot$. In Python können werden sie ausgeschrieben."
   ]
  },
  {
   "cell_type": "code",
   "execution_count": 43,
   "metadata": {},
   "outputs": [
    {
     "name": "stdout",
     "output_type": "stream",
     "text": [
      "A und B:  False\n",
      "A oder B:  True\n",
      "nicht A:  True\n"
     ]
    }
   ],
   "source": [
    "# Angenommen wir haben zwei Aussagen A und B\n",
    "A = False\n",
    "B = True\n",
    "\n",
    "# ... dann können wir diese Aussagen miteinander verknüpfen\n",
    "print(\"A und B: \", A and B)\n",
    "print(\"A oder B: \", A or B)\n",
    "print(\"nicht A: \", not A)\n",
    "\n"
   ]
  },
  {
   "cell_type": "markdown",
   "metadata": {},
   "source": [
    "## Task 1\n",
    "\n",
    "Schreiben Sie eine Funktion $\\texttt{implies}(A,B)$, die den Wahrheitsgehalt von $A\\implies B$ zurückgibt. \n",
    "\n",
    "*Hinweis*: $(A\\implies B)$ kann auch als $(A \\land B)\\lor \\lnot B$ geschrieben werden.\n"
   ]
  },
  {
   "cell_type": "code",
   "execution_count": 7,
   "metadata": {},
   "outputs": [],
   "source": [
    "# todo\n",
    "\n"
   ]
  },
  {
   "cell_type": "markdown",
   "metadata": {},
   "source": [
    "# Task 2\n",
    "\n",
    "Erstellen Sie eine Funktion $\\texttt{equiv}(A,B)$ die den Wahrheitsgehalt von $A\\iff B$ zurückgibt. "
   ]
  },
  {
   "cell_type": "code",
   "execution_count": 8,
   "metadata": {},
   "outputs": [],
   "source": [
    "# todo"
   ]
  },
  {
   "cell_type": "markdown",
   "metadata": {},
   "source": [
    "# Task 3\n",
    "\n",
    "Angenommen Sie haben zwei Aussagen $P$ und $Q$. Erstellen Sie eine Wahrheitstabelle über alle möglichen Wahrheitswerte der beiden Aussagen für die Junktoren $\\land, \\lor, \\implies, \\iff$.\n",
    "\n",
    "Verwenden Sie numpy. Die Funktionen <a href=\"https://docs.scipy.org/doc/numpy-1.13.0/reference/routines.logic.html\"> für den logischen Vegleich, Element für Element</a>, könnten dafür hilfreich sein.\n",
    "\n",
    "Ein numpy-Array $\\texttt{allcomb}$ mit allen Kombinationen wurde für Sie bereits ersellt. Sie können auf die Spalten des Arrays zugreifen über $\\texttt{allcomb[:,0]}$ und $\\texttt{allcomb[:,1]}$."
   ]
  },
  {
   "cell_type": "code",
   "execution_count": 9,
   "metadata": {},
   "outputs": [],
   "source": [
    "# The two vectors and with their two values\n",
    "P = [True, False]\n",
    "Q = [True, False]\n",
    "\n",
    "# Get a table of all combinations\n",
    "allcomb = np.array([[(i,j) for i in P] for j in Q]).reshape(len(P)*len(Q),2)\n",
    "\n",
    "#todo \n"
   ]
  },
  {
   "cell_type": "markdown",
   "metadata": {
    "collapsed": true
   },
   "source": [
    "## Task 4:\n",
    "Auf einer Insel gibt es zwei Typen von Bewohnern:  ehrliche Menschen und Lügner. Angenommen der Einwohner $A$ behauptet von sich und seinem Bruder $B$: \"Mindestens einer von uns ist ein Lügner.\" Finden Sie heraus von welcher Sorte Mensch die beiden sind.\n",
    "\n",
    "- Formulieren Sie die Behauptung $C$ als logisches Aussage in Abhängigkeit vom Typ A. Dabei ist $A=1$, wenn $A$ ehrlich ist und $A=0$, wenn $A$ ein Lügner ist."
   ]
  },
  {
   "cell_type": "code",
   "execution_count": 10,
   "metadata": {},
   "outputs": [],
   "source": [
    "# todo"
   ]
  },
  {
   "cell_type": "markdown",
   "metadata": {},
   "source": [
    "- Weiterhin wissen wir, dass wenn $A$ ein Lügner ist, dann muss die Behauptung falsch sein und wenn $A$ ein Ehrlicher ist muss sie richtig sein. Formulieren Sie die Gesamtaussage in Abhängigkeit von $A$ und $B$.\n"
   ]
  },
  {
   "cell_type": "code",
   "execution_count": 11,
   "metadata": {},
   "outputs": [],
   "source": [
    "# todo\n"
   ]
  },
  {
   "cell_type": "markdown",
   "metadata": {},
   "source": [
    "- Erstellen Sie eine Wahrheitstabelle für alle Möglichen Kombinationen von $A$ und $B$. Von welcher Sorte Mensch sind die beiden?"
   ]
  },
  {
   "cell_type": "code",
   "execution_count": 12,
   "metadata": {},
   "outputs": [],
   "source": [
    "# todo\n"
   ]
  },
  {
   "cell_type": "markdown",
   "metadata": {},
   "source": [
    "## Task 5\n",
    "\n",
    "Gleiches Szenario wie in Task 4. Wie verändert sich ihre Aussage wenn $A$ sagt \"Genau einer von uns ist ein Lügner\"?\n"
   ]
  },
  {
   "cell_type": "code",
   "execution_count": null,
   "metadata": {},
   "outputs": [],
   "source": [
    "# todo"
   ]
  },
  {
   "cell_type": "markdown",
   "metadata": {},
   "source": [
    "## Task 6"
   ]
  },
  {
   "cell_type": "markdown",
   "metadata": {},
   "source": [
    "In dem Buch “The Logician and the Engineer, How George Boole and Claude Shannon Created the Information Age” P.J. Nahin findet sich folgendes Rätsel:\n",
    "\n",
    "Auf einem Tisch stehen drei kleine Schachteln, ettiketiert mit den Buchstaben $A$, $B$ und $C$. In jeder Box ist ein farbiger Plastikchip. Ein Chip ist rot, einer weiß und einer blau. In welcher Box, welcher Chip zu finden ist, ist unbekannt. Einen weiteren Hinweis haben Sie jedoch. Eine der folgenden Aussagen ist wahr:\n",
    "\n",
    "- In Schachtel $A$ ist der rote Chip\n",
    "- Schachtel $B$ enthält nicht den roten Chip\n",
    "- Schachtel $C$ enthält nicht den blauen Chip\n",
    "\n",
    "In welcher Schachtel ist welcher Chip?\n",
    "\n",
    "\n",
    "Um das Problem programmatisch zu lösen führen wir ein numpy Array mit 9 boolschen Einträgen (wahr/falsch) ein. Wir haben also grundsätzlich $2^9 = 512$ Möglichkeiten. Mit einem Computer können wir alle Möglichkeiten einzeln checken.\n",
    "Für das Numpy-Array legen wir folgende Konvention für die einzelnen Reihen und spalten Fest:\n",
    "\n",
    "\n",
    " <table>\n",
    "  <tr>\n",
    "    <th></th>\n",
    "    <th>A</th>\n",
    "    <th>B</th>\n",
    "    <th>C</th>\n",
    "  </tr>\n",
    "  <tr>\n",
    "    <td>r</td>\n",
    "    <td>wahr/falsch</td>\n",
    "    <td>wahr/falsch</td>\n",
    "    <td>wahr/falsch</td>\n",
    "  </tr>\n",
    "   <tr>\n",
    "    <td>w</td>\n",
    "    <td>wahr/falsch</td>\n",
    "    <td>wahr/falsch</td>\n",
    "    <td>wahr/falsch</td>\n",
    "  </tr>\n",
    "   <tr>\n",
    "    <td>b</td>\n",
    "    <td>wahr/falsch</td>\n",
    "    <td>wahr/falsch</td>\n",
    "    <td>wahr/falsch</td>\n",
    "  </tr>\n",
    "</table> \n",
    "\n",
    "Steht also in Zeile 1 und Spalte 1 der Wert \"True\", dann ist in Schachtel $A$ der rote Chip.\n",
    "Schreiben Sie die Funktion $\\texttt{check}()$, die die einzelnen Aussagen auf Ihre Stichhaltigkeit überprüft.\n",
    "Welcher Chip ist in welcher Box?"
   ]
  },
  {
   "cell_type": "code",
   "execution_count": null,
   "metadata": {},
   "outputs": [],
   "source": [
    "S = np.zeros((9,1), dtype=bool)\n",
    "\n",
    "def check(Array):\n",
    "    #Checke ob 3 Steine im Array sind\n",
    "    #Checke ob 1 Steine in jeder Box ist\n",
    "    #Checke ob die Steine unterschiedliche Farben haben\n",
    "    #Formuliere die einzelnen Aussagen in der Info, jede für sich\n",
    "    # Genau eine der Aussagen muss wahr sein\n",
    "    # Füge alles zusammen und gib einen boolschen Wert zurück\n",
    "\n",
    "\n",
    "for ii in range(2**9):\n",
    "    S  = np.array([bool(int(x)) for x in '{0:09b}'.format(ii)]).reshape(3,3)\n",
    "    if check(S):\n",
    "        print(S)"
   ]
  },
  {
   "cell_type": "code",
   "execution_count": null,
   "metadata": {},
   "outputs": [],
   "source": []
  }
 ],
 "metadata": {
  "kernelspec": {
   "display_name": "Python 3",
   "language": "python",
   "name": "python3"
  },
  "language_info": {
   "codemirror_mode": {
    "name": "ipython",
    "version": 3
   },
   "file_extension": ".py",
   "mimetype": "text/x-python",
   "name": "python",
   "nbconvert_exporter": "python",
   "pygments_lexer": "ipython3",
   "version": "3.4.6"
  }
 },
 "nbformat": 4,
 "nbformat_minor": 2
}
