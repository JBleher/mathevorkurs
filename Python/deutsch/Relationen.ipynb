{
 "cells": [
  {
   "cell_type": "markdown",
   "metadata": {},
   "source": [
    "# Relationen\n",
    "\n"
   ]
  },
  {
   "cell_type": "markdown",
   "metadata": {},
   "source": [
    "Eine (zweistellige) <a href=\"https://de.wikipedia.org/wiki/Relation_(Mathematik)\">Relation </a> $R$ wird definiert als\n",
    "\\begin{align*}\n",
    "R \\subseteq A \\ \\times \\ B\n",
    "\\end{align*}\n",
    "\n",
    "In Worten: Eine (zweistellige) Relation $R$ zwischen zwei Mengen $A$ und $B$ ist definiert als eine Teilmenge des kartesischen Produkts $A \\times B$.\n",
    "\n",
    "Das kartesische Produkt wiederum ist definiert als\n",
    "\\begin{align}\n",
    "A \\ \\times \\ B = \\{ (a, b) \\ | \\ a \\in  A \\land b \\in \\ B\\}\n",
    "\\end{align}\n",
    "\n",
    "Das kartesische Produkt ist also die Menge aller geoordneten Paare mit der ersten Koordinate $a$ aus der Menge $A$ und der zweiten Koordinate $b$ aus der Menge $B$.\n",
    "\n",
    "Geordnete Paare sind 2-<a href=\"https://de.wikipedia.org/wiki/Tupel\">Tuple</a> und können mittels des in Python verfügbaren Datentyps <a href=\"https://docs.python.org/3.4/c-api/tuple.html\">$\\texttt{tuple}$</a> implementiert werden.\n",
    "\n",
    "Eine Relation kann damit auch als Wahrheitsmenge einer logischen Aussage mit 2 freien Variablen aufgefasst werden.\n",
    "\\begin{align*}\n",
    "R = \\{(a,b) \\in A \\times B \\;|\\; P(a,b)\\}\n",
    "\\end{align*}\n"
   ]
  },
  {
   "cell_type": "code",
   "execution_count": 20,
   "metadata": {},
   "outputs": [
    {
     "name": "stdout",
     "output_type": "stream",
     "text": [
      "<class 'tuple'>\n"
     ]
    }
   ],
   "source": [
    "# Hier wird ein 3-Tuple definiert\n",
    "tuple = (1,2,4)\n",
    "print(type(tuple))"
   ]
  },
  {
   "cell_type": "markdown",
   "metadata": {},
   "source": [
    "### Task 1\n",
    "\n",
    "Schreiben Sie eine Funktion, die das Kartesische Produkt von zwei Mengen zurückgibt. Verwenden Sie den Datentyp Tupel."
   ]
  },
  {
   "cell_type": "code",
   "execution_count": 1,
   "metadata": {},
   "outputs": [
    {
     "name": "stdout",
     "output_type": "stream",
     "text": [
      "None\n"
     ]
    }
   ],
   "source": [
    "def product(A, B):\n",
    "    return #todo\n",
    "\n",
    "A = {1,2,3}\n",
    "B = {'A','B','C'}\n",
    "\n",
    "print(product(A, B))"
   ]
  },
  {
   "cell_type": "markdown",
   "metadata": {},
   "source": [
    "### Task 2\n",
    "Schreiben Sie eine Funktion $\\texttt{relation}$, die als Input zwei Mengen $A$ und $B$ nimmt, sowie eine weitere Funktion $P(a,b)$ wobei $a\\in A$ und $b\\in B$. Ausgeben soll die Funktion die Wahrheitsmenge von $P$. Gehen Sie wie folgt dazu vor:\n",
    "\n",
    "1. Definieren Sie eine Funktion $P$ mittels Lambda-Calculus, die in Abhängigkeit von $a \\in A$ und $b \\in B$, die Aussage $a>b$ auswertet.\n",
    "2. Schreiben Sie die Funktion $\\texttt{relation}$ und testen sie die Funktion mittels der Mengen $A$ und $B$ sowie ihrer Funktion $P(a,b)$."
   ]
  },
  {
   "cell_type": "code",
   "execution_count": 2,
   "metadata": {},
   "outputs": [],
   "source": [
    "A = {i for i in range(-2,2)}\n",
    "B = {i for i in range(-2,2)}\n",
    "\n",
    "#todo "
   ]
  },
  {
   "cell_type": "markdown",
   "metadata": {},
   "source": [
    "### Task 3\n",
    "Verwenden Sie Ihre Funktion $\\texttt{relation}$ aus Task 2 und konstruieren Sie so die Wahrheitsmenge der Aussage:<br>\n",
    "\"$a$ ist teilbar durch $b$\"\n",
    "wobei $a \\in A$ und  $b \\in B\\setminus\\{0\\}$."
   ]
  },
  {
   "cell_type": "code",
   "execution_count": 3,
   "metadata": {},
   "outputs": [],
   "source": [
    "#todo\n"
   ]
  },
  {
   "cell_type": "markdown",
   "metadata": {},
   "source": [
    "### Task 4\n",
    "1. Schreiben Sie eine Funktion $\\texttt{Dom}$, die als Input die Quell- und Zielmenge, sowie die Relation annimmt und die Definitionsmenge der Relation zurückgibt.\n",
    "2. Schreiben Sie eine Funktion $\\texttt{Ran}$, die als Input die Quell- und Zielmenge, sowie die Relation annimmt und die Wertemenege einer Relation zurückgibt.\n",
    "\n",
    "Verwenden Sie die nachfolgend definierten Objekte $A,B,W$ und $R$ um Ihre Funktionen zu testen."
   ]
  },
  {
   "cell_type": "code",
   "execution_count": 5,
   "metadata": {},
   "outputs": [],
   "source": [
    "A = {i for i in range(-10,11)}\n",
    "B = {i for i in range(-10,11)}\n",
    "W = lambda a,b: a**2==b\n",
    "R = relation(A,B-{0},W)\n",
    "\n",
    "#todo"
   ]
  },
  {
   "cell_type": "markdown",
   "metadata": {},
   "source": [
    "### Task 5\n",
    "Schreiben Sie nun zwei Funktionen, die allein die Relation als Input Parameter annimmt und\n",
    "1. die Definitionsmenge zurückgibt ($\\texttt{dom}$)\n",
    "2. die Wertemenge zurückgibt ($\\texttt{ran}$)"
   ]
  },
  {
   "cell_type": "code",
   "execution_count": 6,
   "metadata": {},
   "outputs": [],
   "source": [
    "# todo"
   ]
  },
  {
   "cell_type": "markdown",
   "metadata": {},
   "source": [
    "## Task 6\n",
    "\n",
    "Schreiben Sie eine Funktion, die zwei Relationen S und R als Input annimmt und die Verknüpfung der beiden zurück gibt. Sind die beiden Relationen kommutativ, also ist $R\\circ S = S \\circ R$?"
   ]
  },
  {
   "cell_type": "code",
   "execution_count": 10,
   "metadata": {},
   "outputs": [],
   "source": [
    "A = {i for i in range(-10,11)}\n",
    "B = A\n",
    "C = range(6,11)\n",
    "\n",
    "R = relation(A, B,lambda a, b: a**2==b)\n",
    "S = relation(A, C, lambda a, b: a%b == 0)\n",
    "\n",
    "# todo"
   ]
  },
  {
   "cell_type": "markdown",
   "metadata": {},
   "source": [
    "## Task 6\n",
    "\n",
    "Implementieren Sie die Funktionen\n",
    "- $\\texttt{isDefinal}(R,A,B)$ - prüft ob die Relation definal ist.\n",
    "- $\\texttt{isLeftUnique}(R,A,B)$ - prüft ob die Relation links-eindeutig ist.\n",
    "- $\\texttt{isSurjektive}(R,A,B)$ - prüft ob die Relation surjektiv ist.\n",
    "-  $\\texttt{isRightUnique}(R,A,B)$ - prüft ob die Relation rechts-eindeutig ist.\n",
    "- $\\texttt{isBitotal}(R,A,B)$ - prüft ob die Relation bitotal ist.\n",
    "- $\\texttt{isUniqueUnique}(R,A,B)$ - prüft ob die Relation eineindeutig ist.\n",
    "- $\\texttt{isBijektiv}(R,A,B)$ - prüft ob die Relation bijektiv ist.\n",
    "\n",
    "Alle Funktionen sollten die als Inputparameter eine Relation $R$ sowie zwei Mengen $A$ und $B$ annehmen und geben eine Wahrheitswert (Wahr/Falsch) in Form einer boolschen Variable zurück."
   ]
  },
  {
   "cell_type": "code",
   "execution_count": 11,
   "metadata": {},
   "outputs": [],
   "source": [
    "# Zwei möglicherweise hilfreiche Funktionen\n",
    "def thereExists(a,R,dim):\n",
    "    return(any([el[dim]==a for el in R]))\n",
    "\n",
    "def thereExistsOne(a,R,dim):\n",
    "    return(sum([el[dim]==a for el in R])==1)\n",
    "\n",
    "# todo\n",
    "def isDefinal(R, A, B):\n",
    "    # Jedes Element in A hat mindestens einen Partner in B\n",
    "    return \n",
    "\n",
    "def isSurjektiv(R, A, B):\n",
    "    # Jedes Element in B hat mindestens einen Partner in A\n",
    "    return \n",
    "\n",
    "def isLeftUnique(R, A, B):\n",
    "    # Jedes Element in A hat höchstens einen Partner in B\n",
    "    return \n",
    "\n",
    "def isRightUnique(R, A, B):\n",
    "     # Jedes Element in B hat höchstens einen Partner in A\n",
    "    return\n",
    "\n",
    "def isBitotal(R, A, B):\n",
    "    # Jedes Element aus A hat mindestens einen Partner in B und umgekehrt.\n",
    "    # Definal und Surjektiv\n",
    "    return \n",
    "\n",
    "def isUniqueUnique(R, A, B):\n",
    "    # Jedes Element aus A hat mindestens einen Partner in B und umgekehrt.\n",
    "    # Linkseindeutig und Rechtseindeutig\n",
    "    return \n",
    "\n",
    "def isBijektiv(R, A, B):\n",
    "    # Jedes Element aus B hat genau einen Partner in A\n",
    "    return \n",
    "\n",
    "def isFunction(R, A, B):\n",
    "    # Jedes Element aus A hat genau einen Partner in B\n",
    "    return \n",
    "\n"
   ]
  },
  {
   "cell_type": "code",
   "execution_count": null,
   "metadata": {},
   "outputs": [],
   "source": [
    "# Zum Testen\n",
    "A = {1, 2, 3}\n",
    "B = {\"A\", \"B\", \"C\", \"D\"}\n",
    "C = {1,2,3,4}\n",
    "D = {\"K\",\"L\",\"M\"}\n",
    "\n",
    "R1 = {(1, \"A\"), (2, \"B\"), (3, \"B\"), (3, \"C\"), (2, \"D\")}\n",
    "R2 = {(1, \"A\"), (2, \"A\"), (3, \"B\")}\n",
    "\n",
    "R3 = {(1, \"A\"), (2, \"C\"), (3, \"B\")}\n",
    "R4 = {(1, \"A\"), (2, \"B\"), (3, \"B\")}\n",
    "\n",
    "R5 = {(1, \"A\"), (3, \"B\")}\n",
    "R6 = {(1, \"A\"), (3, \"B\"), (3, \"C\")}\n",
    "\n",
    "R7 = {(1,\"K\"),(2,\"L\"),(3,\"M\")}\n",
    "\n",
    "print(\"isDefinal: R1:\", isDefinal(R1, A, B)) # True\n",
    "print(\"isDefinal: R2:\", isDefinal(R2, A, B)) # True\n",
    "print(\"isDefinal: R5:\", isDefinal(R5, A, B)) # False\n",
    "\n",
    "print(\"isSurjektiv: R1:\", isSurjektiv(R1, A, B)) #True\n",
    "print(\"isSurjektiv: R2:\", isSurjektiv(R2, A, B)) # False\n",
    "print(\"isSurjektiv: R5:\", isSurjektiv(R5, A, B)) # False\n",
    "\n",
    "print(\"isLeftUnique R3?:\", isLeftUnique(R3, A, B)) # True\n",
    "print(\"isLeftUnique R4?:\", isLeftUnique(R4, A, B)) # False\n",
    "\n",
    "print(\"isRightUnique R5?:\", isRightUnique(R5, A, B)) # True\n",
    "print(\"isRightUnique R6?:\", isRightUnique(R6, A, B)) # False\n",
    "\n",
    "print(\"isBijektiv R1?:\", isBijektiv(R1, A, B)) # False\n",
    "print(\"isBijektiv R7?:\", isBijektiv(R7, C, D)) # True\n",
    "\n",
    "print(\"isFunction R1?:\", isFunction(R1, A, B)) # False\n",
    "print(\"isFunction R3?:\", isFunction(R3, A, B)) # True"
   ]
  }
 ],
 "metadata": {
  "kernelspec": {
   "display_name": "Python 3",
   "language": "python",
   "name": "python3"
  },
  "language_info": {
   "codemirror_mode": {
    "name": "ipython",
    "version": 3
   },
   "file_extension": ".py",
   "mimetype": "text/x-python",
   "name": "python",
   "nbconvert_exporter": "python",
   "pygments_lexer": "ipython3",
   "version": "3.4.6"
  }
 },
 "nbformat": 4,
 "nbformat_minor": 2
}
